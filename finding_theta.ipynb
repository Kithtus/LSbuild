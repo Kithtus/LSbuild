{
 "cells": [
  {
   "cell_type": "code",
   "execution_count": 1,
   "metadata": {},
   "outputs": [
    {
     "name": "stderr",
     "output_type": "stream",
     "text": [
      "c:\\Users\\thoma\\.conda\\envs\\map588\\lib\\site-packages\\numpy\\core\\getlimits.py:493: UserWarning: Signature b'\\xcc\\xcc\\xcc\\xbd' for <class 'numpy.float32'> does not match any known type: falling back to type probe function.\n",
      "This warnings indicates broken support for the dtype!\n",
      "  machar = _get_machar(dtype)\n",
      "c:\\Users\\thoma\\.conda\\envs\\map588\\lib\\site-packages\\numpy\\core\\_machar.py:295: RuntimeWarning: overflow encountered in divide\n",
      "  xmax = xmax / (xmin*beta*beta*beta)\n"
     ]
    }
   ],
   "source": [
    "import os\n",
    "import pandas as pd\n",
    "import numpy as np\n",
    "import matplotlib.pyplot as plt\n",
    "from codac import Interval, IntervalVector, CtcDist, Function,CtcFunction\n",
    "import os\n",
    "import pandas as pd\n",
    "import numpy as np\n",
    "import matplotlib.pyplot as plt\n",
    "\n",
    "import networkx as nx\n",
    "\n",
    "from marco import *"
   ]
  },
  {
   "cell_type": "code",
   "execution_count": 2,
   "metadata": {},
   "outputs": [],
   "source": [
    "f= open(\"graph_02.txt\", mode=\"r\")\n",
    "li = []\n",
    "for line in f:\n",
    "    li.append(line)\n",
    "f.close()\n",
    "dico_constrains = {}\n",
    "dico_interval = {}\n",
    "for elem in li:\n",
    "    i = int(elem[6:8].split(\" \")[-1])-1\n",
    "    j = int(elem[16:18].split(\" \")[-1])-1\n",
    "    mini = float(elem[21:42])\n",
    "    maxi = float(elem[45:-1])\n",
    "    dico_constrains[(i,j)] = (maxi + mini)/2\n",
    "    dico_constrains[(j,i)] = (maxi + mini)/2\n",
    "    dico_interval[(i,j)] = [mini, maxi]\n",
    "    dico_interval[(j,i)] = [mini, maxi]"
   ]
  },
  {
   "cell_type": "code",
   "execution_count": 3,
   "metadata": {},
   "outputs": [],
   "source": [
    "G = nx.Graph()\n",
    "G.add_nodes_from([i for i in range(63)])\n",
    "for (i,j), (mini, maxi) in dico_interval.items():\n",
    "    G.add_edges_from([(i,j,{\"mini\":mini, \"maxi\":maxi})])"
   ]
  },
  {
   "cell_type": "code",
   "execution_count": 4,
   "metadata": {},
   "outputs": [],
   "source": [
    "cliques = nx.find_cliques(G)\n",
    "list_sub = []\n",
    "for fc_subgraph in cliques:\n",
    "    if len(fc_subgraph)<3:\n",
    "        continue\n",
    "\n",
    "    list_sub.append(sub_fc(fc_subgraph,dico_interval))"
   ]
  },
  {
   "cell_type": "code",
   "execution_count": 5,
   "metadata": {},
   "outputs": [
    {
     "name": "stdout",
     "output_type": "stream",
     "text": [
      "[0, 1, 2, 3, 4] --- [1, 5, 2, 3] --- [3, 2, 16, 17] --- [3, 2, 16, 5] --- [3, 2, 17, 4] --- [4, 42, 43] --- [5, 8, 16] --- [5, 8, 6, 7] --- [6, 9, 7] --- [7, 11, 9] --- [7, 11, 12] --- [7, 12, 8] --- [8, 13, 16, 15] --- [8, 13, 12] --- [11, 12, 13] --- [14, 33, 35] --- [14, 13, 16, 17, 15] --- [18, 16, 2] --- [18, 16, 13] --- [18, 27, 21] --- [18, 20, 2] --- [18, 20, 21, 10] --- [18, 20, 21, 19, 22, 24, 25, 26, 23] --- [28, 45, 46] --- [28, 46, 53] --- [28, 30, 32, 27, 29, 31] --- [28, 30, 53] --- [29, 31, 27, 33] --- [29, 31, 38, 33] --- [31, 32, 58] --- [31, 33, 34, 37, 38] --- [31, 58, 34] --- [33, 35, 34, 36, 37, 38] --- [33, 35, 39] --- [34, 56, 58, 59, 54] --- [34, 56, 36] --- [34, 59, 37] --- [39, 41, 40, 43, 42, 44] --- [39, 41, 40, 43, 19] --- [39, 41, 45] --- [41, 47, 45] --- [44, 23, 24] --- [45, 46, 50] --- [45, 46, 47, 48, 49] --- [46, 53, 50] --- [47, 22, 23] --- [48, 26, 49] --- [49, 25, 26] --- [50, 51, 52, 53] --- [50, 51, 52, 54] --- [52, 58, 54] --- [54, 55, 56, 57, 58, 59, 60, 61, 62] --- "
     ]
    }
   ],
   "source": [
    "for i in list_sub:\n",
    "    print(i.sub.nodes, end=' --- ')\n",
    "    i.test_constraint(dico_interval)"
   ]
  },
  {
   "cell_type": "code",
   "execution_count": 9,
   "metadata": {},
   "outputs": [
    {
     "name": "stdout",
     "output_type": "stream",
     "text": [
      "41 => 41\n",
      "[<marco.sub_fc object at 0x0000023331A5CE80>, <marco.sub_fc object at 0x0000023310D8EFD0>, <marco.sub_fc object at 0x0000023310C2A8E0>, <marco.sub_fc object at 0x0000023331AC83A0>, <marco.sub_fc object at 0x0000023331AC8430>, <marco.sub_fc object at 0x0000023331AC8820>, <marco.sub_fc object at 0x0000023331AC8A60>, <marco.sub_fc object at 0x0000023331AC8CA0>, <marco.sub_fc object at 0x0000023331AC8D30>, <marco.sub_fc object at 0x0000023331AC8F70>, <marco.sub_fc object at 0x0000023331AD41F0>, <marco.sub_fc object at 0x0000023331AC8B50>, <marco.sub_fc object at 0x0000023331AC88E0>, <marco.sub_fc object at 0x0000023331AC8700>, <marco.sub_fc object at 0x000002332338A9D0>, <marco.sub_fc object at 0x0000023310D8E820>, <marco.sub_fc object at 0x0000023310D8EC40>, <marco.sub_fc object at 0x0000023331AD4100>, <marco.sub_fc object at 0x0000023331AD4430>, <marco.sub_fc object at 0x0000023331AD48B0>, <marco.sub_fc object at 0x0000023331AD4AF0>, <marco.sub_fc object at 0x0000023331AD4CD0>, <marco.sub_fc object at 0x0000023331AD4D30>, <marco.sub_fc object at 0x0000023331AD4B50>, <marco.sub_fc object at 0x0000023331AD4850>, <marco.sub_fc object at 0x0000023331AD4370>, <marco.sub_fc object at 0x0000023310C2AAC0>, <marco.sub_fc object at 0x0000023310C2A130>, <marco.sub_fc object at 0x0000023331AC8850>, <marco.sub_fc object at 0x0000023331AC8C10>, <marco.sub_fc object at 0x0000023331AEE1C0>, <marco.sub_fc object at 0x0000023331AEE850>, <marco.sub_fc object at 0x0000023331AEEC40>, <marco.sub_fc object at 0x0000023331AEECD0>, <marco.sub_fc object at 0x0000023331AEEEB0>, <marco.sub_fc object at 0x0000023331AEEF10>, <marco.sub_fc object at 0x0000023333B04400>, <marco.sub_fc object at 0x00000233234E8880>, <marco.sub_fc object at 0x000002332347A460>, <marco.sub_fc object at 0x0000023331AEECA0>, <marco.sub_fc object at 0x0000023331AEE460>]\n"
     ]
    }
   ],
   "source": [
    "list_sub, has_merged = merging_3p(list_sub,dico_interval=dico_interval, verbose=0)\n",
    "print(list_sub)"
   ]
  },
  {
   "cell_type": "code",
   "execution_count": 10,
   "metadata": {},
   "outputs": [
    {
     "name": "stdout",
     "output_type": "stream",
     "text": [
      "[0, 1, 2, 3, 4, 5, 16] --- [3, 2, 16, 17] --- [3, 2, 17, 4] --- [4, 42, 43] --- [5, 8, 16] --- [5, 8, 6, 7] --- [6, 9, 7] --- [7, 11, 9] --- [7, 11, 12] --- [7, 12, 8] --- [8, 13, 16, 15, 14, 17] --- [8, 13, 12] --- [11, 12, 13] --- [14, 33, 35] --- [18, 16, 2] --- [18, 16, 13] --- [18, 27, 21] --- [18, 20, 2] --- [18, 20, 21, 10, 19, 22, 24, 25, 26, 23] --- [28, 45, 46] --- [28, 46, 53] --- [28, 30, 32, 27, 29, 31, 33, 38, 34, 37, 35, 36] --- [28, 30, 53] --- [31, 32, 58] --- [31, 58, 34] --- [33, 35, 39] --- [34, 56, 58, 59, 54, 55, 57, 60, 61, 62] --- [34, 56, 36] --- [34, 59, 37] --- [39, 41, 40, 43, 42, 44, 19] --- [39, 41, 45] --- [41, 47, 45] --- [44, 23, 24] --- [45, 46, 50] --- [45, 46, 47, 48, 49] --- [46, 53, 50] --- [47, 22, 23] --- [48, 26, 49] --- [49, 25, 26] --- [50, 51, 52, 53, 54] --- [52, 58, 54] --- "
     ]
    }
   ],
   "source": [
    "for i in list_sub:\n",
    "    print(i.sub.nodes, end=' --- ')\n",
    "    i.test_constraint(dico_interval)"
   ]
  },
  {
   "cell_type": "markdown",
   "metadata": {},
   "source": [
    "## Codac"
   ]
  },
  {
   "cell_type": "code",
   "execution_count": 16,
   "metadata": {},
   "outputs": [],
   "source": [
    "def get_f_ctc(sub1, sub2, dico_interval, point, axis):\n",
    "    \"\"\"_summary_\n",
    "\n",
    "    Args:\n",
    "        sub1 (_type_): _description_\n",
    "        sub2 (_type_): _description_\n",
    "        dico_interval (_type_): _description_\n",
    "        point (_type_): _description_\n",
    "        axis (_type_): _description_\n",
    "\n",
    "    Returns:\n",
    "        _type_: _description_\n",
    "    \"\"\"\n",
    "    li_ctc = []\n",
    "    li_constrains = []\n",
    "    li_f = []\n",
    "\n",
    "    #pour verifier\n",
    "    axis /= np.linalg.norm(axis)\n",
    "\n",
    "    for atom1 in sub1.sub.nodes:\n",
    "        for atom2 in sub2.sub.nodes:\n",
    "            if atom1 == atom2:\n",
    "                continue\n",
    "            try:\n",
    "                mini, maxi = dico_interval[(i,j)][0], dico_interval[(i,j)][1]\n",
    "            except KeyError:\n",
    "                continue\n",
    "            \n",
    "            #define_domaine\n",
    "            low = mini\n",
    "            up = maxi\n",
    "            li_constrains.append([low,up])\n",
    "\n",
    "            vector1 = sub1.X[sub1.index_to_X[atom1]]\n",
    "            vector2 = sub2.X[sub2.index_to_X[atom2]]\n",
    "\n",
    "            vector2_unchanged = point + (np.dot(vector2-point, axis)*axis)\n",
    "            vector2_changed = vector2 - vector2_unchanged\n",
    "            #la ta fonction elle calcule la taille entre l'atome 1 et l atome 2 si la rotation d'angle theta est effectué,\n",
    "            #jsp comment tu peux/veux ajouter la contrainte sur mini et maxi mais en tout cas tout est la \n",
    "            f = Function(\"theta\", f\"\"\"sqrt(sqr(\n",
    "                            {vector2_unchanged[0]} + \n",
    "                            cos(theta * {axis[2]})*cos(theta * {axis[1]})*{vector2_changed[0]} + \n",
    "                            (cos(theta * {axis[2]})*sin(theta * {axis[1]})*sin(theta * {axis[0]}) - sin(theta * {axis[2]})*cos(theta * {axis[0]}))*{vector2_changed[1]} +\n",
    "                            (cos(theta * {axis[2]})*sin(theta * {axis[1]})*sin(theta * {axis[0]}) + sin(theta * {axis[2]})*sin(theta * {axis[0]}))*{vector2_changed[2]} +\n",
    "                            -{vector1[0]})+sqr(\n",
    "                            {vector2_unchanged[1]} + \n",
    "                            sin(theta * {axis[2]})*cos(theta * {axis[1]})*{vector2_changed[0]} + \n",
    "                            (sin(theta * {axis[2]})*sin(theta * {axis[1]})*sin(theta * {axis[0]}) + cos(theta * {axis[2]})*cos(theta * {axis[0]}))*{vector2_changed[1]} +\n",
    "                            (sin(theta * {axis[2]})*sin(theta * {axis[1]})*sin(theta * {axis[0]}) - cos(theta * {axis[2]})*sin(theta * {axis[0]}))*{vector2_changed[2]} +\n",
    "                            -{vector1[1]})+sqr(\n",
    "                            {vector2_unchanged[2]} + \n",
    "                            -sin(theta * {axis[1]})*{vector2_changed[0]} + \n",
    "                            cos(theta * {axis[1]})*sin(theta * {axis[0]})*{vector2_changed[1]} +\n",
    "                            cos(theta * {axis[1]})*cos(theta * {axis[0]})*{vector2_changed[2]} +                            \n",
    "                            -{vector1[2]}))\"\"\")\n",
    "            li_f.append(f)\n",
    "            contractor = CtcFunction(f, Interval(low,up))\n",
    "            li_ctc.append(contractor)\n",
    "\n",
    "    return li_ctc,li_f, li_constrains"
   ]
  },
  {
   "cell_type": "code",
   "execution_count": 13,
   "metadata": {},
   "outputs": [],
   "source": [
    "def contract(x,li_ctc):\n",
    "    for ctc in li_ctc:\n",
    "        ctc.contract(x)\n",
    "\n",
    "def empty(X):\n",
    "    return X.empty()\n",
    "\n",
    "def C_in(X, li_f, li_constrains):\n",
    "    if (empty(X)):\n",
    "        return False\n",
    "    for i in range(len(li_f)):\n",
    "        eval = li_f[i].eval(X)\n",
    "        low, up = li_constrains[i]\n",
    "        if ((eval.lb() < low) or (eval.ub()>up)):\n",
    "            return False\n",
    "    return True\n",
    "\n",
    "def C_out(X,li_f, li_constrains):\n",
    "    out_it = False\n",
    "    for i in range(len(li_f)):\n",
    "        eval = li_f[i].eval(X)\n",
    "        low, up = li_constrains[i]\n",
    "        if ((eval.lb()> up) or (eval.ub() < low)):\n",
    "            out_it = True\n",
    "    return out_it\n"
   ]
  },
  {
   "cell_type": "code",
   "execution_count": 17,
   "metadata": {},
   "outputs": [
    {
     "data": {
      "text/plain": [
       "([0, 3.141592653589794], [3.141592653589793, 6.283185307179587])"
      ]
     },
     "execution_count": 17,
     "metadata": {},
     "output_type": "execute_result"
    }
   ],
   "source": [
    "Interval([0,2*np.pi]).bisect()"
   ]
  },
  {
   "cell_type": "code",
   "execution_count": 18,
   "metadata": {},
   "outputs": [],
   "source": [
    "def find_theta(sub1,sub2, dico_interval, point, axis):\n",
    "    tau = 1e-6\n",
    "    li_ctc,li_f, li_constrains = get_f_ctc(sub1,sub2,dico_interval,point,axis)\n",
    "    stack = [Interval([0,2*np.pi])]\n",
    "    stack_acc = []\n",
    "    stack_rej = []\n",
    "    stack_unc = []\n",
    "    sol = 0\n",
    "    count = 0\n",
    "    while len(stack) !=0 and (not sol):\n",
    "        x = stack.pop()\n",
    "        count +=1\n",
    "        contract(x, li_ctc)\n",
    "        if not empty(x):\n",
    "            if (C_in(x,li_f, li_constrains)):\n",
    "                sol = True\n",
    "                stack_acc.append(x)\n",
    "            else:\n",
    "                if C_out(x, li_f, li_constrains):\n",
    "                    stack_rej.append(x)\n",
    "                else:\n",
    "                    if x.diam() > tau:\n",
    "                        X_left, X_right  = x.bisect()\n",
    "                        if not (empty(X_left)):\n",
    "                            stack.append(X_left)\n",
    "                        if not (empty(X_right)):\n",
    "                            stack.append(X_right)\n",
    "                    else:\n",
    "                        stack_unc.append(x)\n",
    "    if (len(stack_acc) != 0):\n",
    "        return stack_acc[0]\n",
    "    else:\n",
    "        return 0"
   ]
  },
  {
   "cell_type": "code",
   "execution_count": 23,
   "metadata": {},
   "outputs": [],
   "source": [
    "paires = {}\n",
    "for i in range(len(list_sub)-1):\n",
    "    for j in range(i+1,len(list_sub)):\n",
    "        if len(list_sub[i].test_communs_positions(list_sub[j])) == 2:\n",
    "            paires[(i,j)] = 1"
   ]
  },
  {
   "cell_type": "code",
   "execution_count": null,
   "metadata": {},
   "outputs": [],
   "source": [
    "paires"
   ]
  },
  {
   "cell_type": "code",
   "execution_count": null,
   "metadata": {},
   "outputs": [],
   "source": []
  }
 ],
 "metadata": {
  "kernelspec": {
   "display_name": "map588",
   "language": "python",
   "name": "python3"
  },
  "language_info": {
   "codemirror_mode": {
    "name": "ipython",
    "version": 3
   },
   "file_extension": ".py",
   "mimetype": "text/x-python",
   "name": "python",
   "nbconvert_exporter": "python",
   "pygments_lexer": "ipython3",
   "version": "3.9.16"
  }
 },
 "nbformat": 4,
 "nbformat_minor": 2
}
