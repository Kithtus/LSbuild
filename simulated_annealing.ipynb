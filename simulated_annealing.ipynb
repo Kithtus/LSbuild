{
 "cells": [
  {
   "cell_type": "code",
   "execution_count": 1,
   "metadata": {},
   "outputs": [
    {
     "name": "stderr",
     "output_type": "stream",
     "text": [
      "c:\\Users\\thoma\\.conda\\envs\\map588\\lib\\site-packages\\numpy\\core\\getlimits.py:493: UserWarning: Signature b'\\xcc\\xcc\\xcc\\xbd' for <class 'numpy.float32'> does not match any known type: falling back to type probe function.\n",
      "This warnings indicates broken support for the dtype!\n",
      "  machar = _get_machar(dtype)\n",
      "c:\\Users\\thoma\\.conda\\envs\\map588\\lib\\site-packages\\numpy\\core\\_machar.py:295: RuntimeWarning: overflow encountered in divide\n",
      "  xmax = xmax / (xmin*beta*beta*beta)\n"
     ]
    }
   ],
   "source": [
    "import os\n",
    "import pandas as pd\n",
    "import numpy as np\n",
    "import matplotlib.pyplot as plt\n",
    "from codac import Interval, IntervalVector, CtcDist, Function,CtcFunction\n",
    "from collections import deque\n",
    "import networkx as nx\n",
    "from scipy.optimize import minimize, rosen, rosen_der"
   ]
  },
  {
   "cell_type": "code",
   "execution_count": 77,
   "metadata": {},
   "outputs": [],
   "source": [
    "f= open(\"graph_01.txt\", mode=\"r\")\n",
    "li = []\n",
    "for line in f:\n",
    "    li.append(line)"
   ]
  },
  {
   "cell_type": "code",
   "execution_count": 78,
   "metadata": {},
   "outputs": [],
   "source": [
    "f.close()"
   ]
  },
  {
   "cell_type": "code",
   "execution_count": 79,
   "metadata": {},
   "outputs": [],
   "source": [
    "dico_constrains = {}\n",
    "dico_interval = {}\n",
    "for elem in li:\n",
    "    i = int(elem[6:8].split(\" \")[-1])-1\n",
    "    j = int(elem[16:18].split(\" \")[-1])-1\n",
    "    mini = float(elem[21:42])\n",
    "    maxi = float(elem[45:-1])\n",
    "    dico_constrains[(i,j)] = (maxi + mini)/2\n",
    "    dico_interval[(i,j)] = [mini, maxi]"
   ]
  },
  {
   "cell_type": "code",
   "execution_count": null,
   "metadata": {},
   "outputs": [],
   "source": [
    "dico_interval"
   ]
  },
  {
   "cell_type": "markdown",
   "metadata": {},
   "source": [
    "# Evolution"
   ]
  },
  {
   "cell_type": "code",
   "execution_count": null,
   "metadata": {},
   "outputs": [],
   "source": [
    "def c_in(X,dico_interval):\n",
    "    count = 0\n",
    "    for key, value in dico_interval.items():\n",
    "        i,j = key\n",
    "        mini,maxi = value\n",
    "        if (np.linalg.norm(X[i]-X[j]) > mini and np.linalg.norm(X[i]-X[j]) < maxi):\n",
    "            count += 1\n",
    "    return count"
   ]
  },
  {
   "cell_type": "code",
   "execution_count": null,
   "metadata": {},
   "outputs": [],
   "source": [
    "def error(X,dico_interval):\n",
    "    li = []\n",
    "    for key, value in dico_interval.items():\n",
    "        i,j = key\n",
    "        mini,maxi = value\n",
    "        li.append([np.linalg.norm(X[i]-X[j]), mini, maxi])\n",
    "    return li"
   ]
  },
  {
   "cell_type": "code",
   "execution_count": null,
   "metadata": {},
   "outputs": [],
   "source": [
    "def cost_indiv(X, dico_interval):\n",
    "    cout = 0\n",
    "    for key, value in dico_interval.items():\n",
    "        i,j = key\n",
    "        mini, maxi = value\n",
    "        mean = (maxi+mini)/2\n",
    "        dist = np.linalg.norm(X[i]-X[j])\n",
    "        cout += np.max([(maxi**2 -dist**2)/maxi**2, (dist**2 - mini**2)/mini**2, 0])\n",
    "        #cout += (dist**2  - mean**2)**2 \n",
    "    return cout"
   ]
  },
  {
   "cell_type": "code",
   "execution_count": null,
   "metadata": {},
   "outputs": [],
   "source": [
    "def cost(X,dico_interval):\n",
    "    n = X.shape[0]\n",
    "    li_cost = np.zeros(n)\n",
    "    for i in range(n):\n",
    "        li_cost[i] = cost_indiv(X[i],dico_interval)\n",
    "    return li_cost"
   ]
  },
  {
   "cell_type": "code",
   "execution_count": null,
   "metadata": {},
   "outputs": [],
   "source": [
    "def select(X,cost, frac = 0.7):\n",
    "    ordering = np.argsort(cost)\n",
    "    n = int(frac*ordering.shape[0])\n",
    "    X_child = X[ordering[:n]]\n",
    "    return X_child\n"
   ]
  },
  {
   "cell_type": "code",
   "execution_count": null,
   "metadata": {},
   "outputs": [],
   "source": [
    "def variation(X,i):\n",
    "    atoms = np.random.choice([i for i in range(63)],size=X.shape[0], replace=True)\n",
    "    X[:,atoms,:] += np.random.normal(loc=0, scale=0.02,size=(X.shape[0],3))\n",
    "    return X\n"
   ]
  },
  {
   "cell_type": "code",
   "execution_count": null,
   "metadata": {},
   "outputs": [],
   "source": [
    "def remplacement(X,X_child,cost_X, cost_child):\n",
    "    n = X.shape[0]\n",
    "    cost_tot = np.concatenate([cost_X,cost_child])\n",
    "    ordering = np.argsort(cost_tot)[:n]\n",
    "    X_tot = np.concatenate([X, X_child])\n",
    "    return X_tot[ordering], cost_tot[ordering]\n"
   ]
  },
  {
   "cell_type": "code",
   "execution_count": null,
   "metadata": {},
   "outputs": [],
   "source": [
    "X = np.random.normal(loc=0, scale= 10,size=(200,63,3))\n",
    "cost_X = cost(X, dico_interval)\n",
    "mean = np.mean(cost_X)\n",
    "N_iter = 1000\n",
    "n = 0\n",
    "while n<N_iter:\n",
    "    if (n%10 == 0):\n",
    "        print(n)\n",
    "    X_child =  select(X, cost_X, frac=0.7)\n",
    "    X_child = variation(X_child,i)\n",
    "    cost_child = cost(X_child, dico_interval)\n",
    "    X, cost_X = remplacement(X,X_child, cost_X,cost_child)\n",
    "    n += 1\n"
   ]
  },
  {
   "cell_type": "code",
   "execution_count": null,
   "metadata": {},
   "outputs": [],
   "source": [
    "c_in(X,dico_interval)"
   ]
  },
  {
   "cell_type": "code",
   "execution_count": null,
   "metadata": {},
   "outputs": [],
   "source": [
    "cost_X[0]"
   ]
  },
  {
   "cell_type": "code",
   "execution_count": null,
   "metadata": {},
   "outputs": [],
   "source": [
    "li = error(X[0], dico_interval)"
   ]
  },
  {
   "cell_type": "code",
   "execution_count": null,
   "metadata": {},
   "outputs": [],
   "source": [
    "li"
   ]
  },
  {
   "cell_type": "markdown",
   "metadata": {},
   "source": [
    "# Explore"
   ]
  },
  {
   "cell_type": "code",
   "execution_count": null,
   "metadata": {},
   "outputs": [],
   "source": [
    "exist = True\n",
    "count = 0\n",
    "for i in range(3,63):\n",
    "    if not (links[i-3,i] and links[i-2,i] and links[i-1,i]):\n",
    "        count +=1"
   ]
  },
  {
   "cell_type": "code",
   "execution_count": null,
   "metadata": {},
   "outputs": [],
   "source": []
  },
  {
   "cell_type": "markdown",
   "metadata": {},
   "source": [
    "# Codac"
   ]
  },
  {
   "cell_type": "code",
   "execution_count": null,
   "metadata": {},
   "outputs": [],
   "source": [
    "M = 63"
   ]
  },
  {
   "cell_type": "code",
   "execution_count": null,
   "metadata": {},
   "outputs": [],
   "source": [
    "help(Interval)"
   ]
  },
  {
   "cell_type": "code",
   "execution_count": null,
   "metadata": {},
   "outputs": [],
   "source": [
    "li_f = []\n",
    "li_interval = []\n",
    "for (l,k), [mini,maxi] in dico_interval.items():\n",
    "    i = 3*l \n",
    "    j = 3*k \n",
    "    li_f.append(Function(f\"X[{M*3}]\", f\"sqrt((X[{i}]-X[{j}])^2+(X[{i}+1]-X[{j}+1])^2+(X[{i}+2]-X[{j}+2])^2)\"))\n",
    "    li_interval.append((mini, maxi))\n",
    "\n"
   ]
  },
  {
   "cell_type": "code",
   "execution_count": null,
   "metadata": {},
   "outputs": [],
   "source": [
    "li_ctf = []\n",
    "X = IntervalVector(M*3,(-10,10))\n",
    "for (l,k), [mini,maxi] in dico_interval.items():\n",
    "    i = 3*l \n",
    "    j = 3*k\n",
    "    ctc_f = CtcFunction(Function(f\"X[{M*3}]\", f\"sqrt((X[{i}]-X[{j}])^2+(X[{i}+1]-X[{j}+1])^2+(X[{i}+2]-X[{j}+2])^2)\"), Interval(mini,maxi))\n",
    "    li_ctf.append(ctc_f)\n",
    "for i in range(M-3):\n",
    "    ctc_f = CtcFunction(Function(f\"X[{M*3}]\", f\"\"\"sqrt((X[{i}]-X[{i+1}])^2+(X[{i}+1]-X[{i+1}+1])^2+(X[{i}+2]-X[{i+1}+2])^2) * \n",
    "                                 sqrt((X[{i+1}]-X[{i+2}])^2+(X[{i}+1]-X[{i+2}+1])^2+(X[{i}+2]-X[{i+2}+2])^2) * \n",
    "                                 \"\"\"), Interval(0,+oo))\n",
    "    li_ctf.append(ctc_f)\n",
    "\"\"\"for i in range(M-1):\n",
    "    print(i)\n",
    "    for j in range(i,M-2):\n",
    "        if (i!=j):\n",
    "            for k in range(j,M-3):\n",
    "                if i!=k and j!=k:\n",
    "                    ctc_f = CtcFunction(Function(f\"X[{M*3}]\", f\"((X[{i}]-X[{j}])^2+(X[{i}+1]-X[{j}+1])^2+(X[{i}+2]-X[{j}+2])^2)^0.5 - ((X[{i}]-X[{k}])^2+(X[{i}+1]-X[{k}+1])^2+(X[{i}+2]-X[{k}+2])^2)^0.5 - ((X[{k}]-X[{j}])^2+(X[{k}+1]-X[{j}+1])^2+(X[{k}+2]-X[{j}+2])^2)^0.5\"), \n",
    "                                        Interval(-oo,0))  \n",
    "                    li_ctf.append(ctc_f)\"\"\"\n",
    "    "
   ]
  },
  {
   "cell_type": "code",
   "execution_count": null,
   "metadata": {},
   "outputs": [],
   "source": [
    "def contract(X):\n",
    "    x = X\n",
    "     \n",
    "    for (l,k), [mini,maxi] in dico_interval.items():\n",
    "        i = 3*l \n",
    "        j = 3*k \n",
    "        a = IntervalVector([x[i],x[i+1],x[i+2]])\n",
    "        b = IntervalVector([x[j],x[j+1],x[j+2]])\n",
    "        ctc.dist.contract(a,b,Interval(mini, maxi))\n",
    "        x[i],x[i+1],x[i+2] = a\n",
    "        x[j],x[j+1],x[j+2] = b\n",
    "    return x"
   ]
  },
  {
   "cell_type": "code",
   "execution_count": null,
   "metadata": {},
   "outputs": [],
   "source": [
    "def C_in(X, li_f, li_interval):\n",
    "    if (empty(X)):\n",
    "        return False\n",
    "    in_it = True\n",
    "    for i in range(len(li_f)//2):\n",
    "        eval = li_f[i].eval(X)\n",
    "        mini, maxi = li_interval[i]\n",
    "        if ((eval.lb() < mini) or (eval.ub()>maxi)):\n",
    "            #in_it = False\n",
    "            return False\n",
    "    return True"
   ]
  },
  {
   "cell_type": "code",
   "execution_count": null,
   "metadata": {},
   "outputs": [],
   "source": [
    "def C_out(X,li_f, li_interval):\n",
    "    out_it = False\n",
    "    for i in range(len(li_f)//2):\n",
    "        eval = li_f[i].eval(X)\n",
    "        mini, maxi = li_interval[i]\n",
    "        if ((eval.lb()> maxi) or (eval.ub() < mini)):\n",
    "            out_it = True\n",
    "    return out_it"
   ]
  },
  {
   "cell_type": "code",
   "execution_count": null,
   "metadata": {},
   "outputs": [],
   "source": [
    "def get_largest(X):\n",
    "    max_index = 0\n",
    "    for i in range(M*3):\n",
    "        if (X[max_index].diam() < X[i].diam()):\n",
    "            max_index = i\n",
    "    return max_index"
   ]
  },
  {
   "cell_type": "code",
   "execution_count": null,
   "metadata": {},
   "outputs": [],
   "source": [
    "def empty(X):\n",
    "    for i in range(M*3):\n",
    "        if X[i].is_empty():\n",
    "            return True\n",
    "    return False"
   ]
  },
  {
   "cell_type": "code",
   "execution_count": null,
   "metadata": {},
   "outputs": [],
   "source": [
    "C_in(X,li_f, li_interval)"
   ]
  },
  {
   "cell_type": "code",
   "execution_count": null,
   "metadata": {},
   "outputs": [],
   "source": [
    "X[0]"
   ]
  },
  {
   "cell_type": "code",
   "execution_count": null,
   "metadata": {},
   "outputs": [],
   "source": [
    "def iteration(stack, stack_acc, stack_rej, stack_unc):\n",
    "    X = stack.pop()\n",
    "    count +=1\n",
    "    X = contract(X)\n",
    "    if not empty(X):\n",
    "        if (C_in(X,li_f, li_interval)):\n",
    "            sol = True\n",
    "            print(\"sol\")\n",
    "            stack_acc.append(X)\n",
    "        else:\n",
    "            if C_out(X, li_f, li_interval):\n",
    "                stack_rej.append(X)\n",
    "            else:\n",
    "                larger_index = get_largest(X)\n",
    "                if X[larger_index].diam() > tau:\n",
    "                    X_left, X_right  = X.bisect(larger_index)\n",
    "                    if not (empty(X_left)):\n",
    "                        stack.append(X_left)\n",
    "                    if not (empty(X_right)):\n",
    "                        stack.append(X_right)\n",
    "                else:\n",
    "                    stack_unc.append(X)\n",
    "    return stack, stack_acc, stack_rej, stack_unc"
   ]
  },
  {
   "cell_type": "code",
   "execution_count": null,
   "metadata": {},
   "outputs": [],
   "source": [
    "tau = 0.5\n",
    "stack = [IntervalVector(M*3,(-10,10))]\n",
    "stack_acc = deque()\n",
    "stack_rej = deque()\n",
    "stack_unc = deque()\n",
    "sol = False\n",
    "count = 0\n",
    "while len(stack) !=0 and (not sol):\n",
    "    X = stack.pop()\n",
    "    count +=1\n",
    "    X = contract(X)\n",
    "    if not empty(X):\n",
    "        if (C_in(X,li_f, li_interval)):\n",
    "            sol = True\n",
    "            print(\"sol\")\n",
    "            stack_acc.append(X)\n",
    "        else:\n",
    "            if C_out(X, li_f, li_interval):\n",
    "                stack_rej.append(X)\n",
    "            else:\n",
    "                larger_index = get_largest(X)\n",
    "                if X[larger_index].diam() > tau:\n",
    "                    X_left, X_right  = X.bisect(larger_index)\n",
    "                    if not (empty(X_left)):\n",
    "                        stack.append(X_left)\n",
    "                    if not (empty(X_right)):\n",
    "                        stack.append(X_right)\n",
    "                else:\n",
    "                    stack_unc.append(X)\n",
    "    \n",
    "    \n",
    "\n",
    "\n",
    "    \n",
    "        "
   ]
  },
  {
   "cell_type": "code",
   "execution_count": null,
   "metadata": {},
   "outputs": [],
   "source": [
    "X"
   ]
  },
  {
   "cell_type": "code",
   "execution_count": null,
   "metadata": {},
   "outputs": [],
   "source": [
    "solution = stack_acc.pop()"
   ]
  },
  {
   "cell_type": "code",
   "execution_count": null,
   "metadata": {},
   "outputs": [],
   "source": [
    "empty(solution)"
   ]
  },
  {
   "cell_type": "code",
   "execution_count": null,
   "metadata": {},
   "outputs": [],
   "source": [
    "a = stack.pop()\n",
    "b= a.copy()"
   ]
  },
  {
   "cell_type": "code",
   "execution_count": null,
   "metadata": {},
   "outputs": [],
   "source": [
    "a[10].diam()"
   ]
  },
  {
   "cell_type": "code",
   "execution_count": null,
   "metadata": {},
   "outputs": [],
   "source": [
    "a"
   ]
  },
  {
   "cell_type": "code",
   "execution_count": null,
   "metadata": {},
   "outputs": [],
   "source": [
    "b"
   ]
  },
  {
   "cell_type": "markdown",
   "metadata": {},
   "source": [
    "# Lsbuild"
   ]
  },
  {
   "cell_type": "markdown",
   "metadata": {},
   "source": [
    "## Clique"
   ]
  },
  {
   "cell_type": "code",
   "execution_count": 89,
   "metadata": {},
   "outputs": [],
   "source": [
    "G = nx.Graph()"
   ]
  },
  {
   "cell_type": "code",
   "execution_count": 90,
   "metadata": {},
   "outputs": [],
   "source": [
    "G.add_nodes_from([i for i in range(63)])"
   ]
  },
  {
   "cell_type": "code",
   "execution_count": 91,
   "metadata": {},
   "outputs": [],
   "source": [
    "for (i,j), (mini, maxi) in dico_interval.items():\n",
    "    G.add_edges_from([(i,j,{\"mini\":mini, \"maxi\":maxi})])"
   ]
  },
  {
   "cell_type": "code",
   "execution_count": 123,
   "metadata": {},
   "outputs": [],
   "source": [
    "cliques = nx.find_cliques(G)"
   ]
  },
  {
   "cell_type": "code",
   "execution_count": 124,
   "metadata": {},
   "outputs": [
    {
     "name": "stdout",
     "output_type": "stream",
     "text": [
      "[0, 1, 2, 3, 4]\n",
      "[1, 5, 2, 3]\n",
      "[3, 2, 16, 17]\n",
      "[3, 2, 16, 5]\n",
      "[3, 2, 17, 4]\n",
      "[4, 42, 43]\n",
      "[5, 8, 16]\n",
      "[5, 8, 6, 7]\n",
      "[6, 9, 7]\n",
      "[7, 11, 9]\n",
      "[7, 11, 12]\n",
      "[7, 12, 8]\n",
      "[8, 13, 16, 15]\n",
      "[8, 13, 12]\n",
      "[9, 10]\n",
      "[11, 12, 13]\n",
      "[14, 33, 35]\n",
      "[14, 13, 16, 17, 15]\n",
      "[18, 16, 2]\n",
      "[18, 16, 13]\n",
      "[18, 27, 21]\n",
      "[18, 20, 2]\n",
      "[18, 20, 21, 10]\n",
      "[18, 20, 21, 19, 22, 24, 25, 26, 23]\n",
      "[28, 45, 46]\n",
      "[28, 46, 53]\n",
      "[28, 30, 32, 27, 29, 31]\n",
      "[28, 30, 53]\n",
      "[29, 31, 27, 33]\n",
      "[29, 31, 38, 33]\n",
      "[31, 32, 58]\n",
      "[31, 33, 34, 37, 38]\n",
      "[31, 58, 34]\n",
      "[33, 35, 34, 36, 37, 38]\n",
      "[33, 35, 39]\n",
      "[34, 56, 58, 59, 54]\n",
      "[34, 56, 36]\n",
      "[34, 59, 37]\n",
      "[39, 41, 40, 43, 42, 44]\n",
      "[39, 41, 40, 43, 19]\n",
      "[39, 41, 45]\n",
      "[41, 47, 45]\n",
      "[44, 23, 24]\n",
      "[45, 46, 50]\n",
      "[45, 46, 47, 48, 49]\n",
      "[46, 53, 50]\n",
      "[47, 22, 23]\n",
      "[48, 26, 49]\n",
      "[49, 25, 26]\n",
      "[50, 51, 52, 53]\n",
      "[50, 51, 52, 54]\n",
      "[52, 58, 54]\n",
      "[54, 55, 56, 57, 58, 59, 60, 61, 62]\n"
     ]
    }
   ],
   "source": [
    "for clique in cliques:\n",
    "    print(clique)"
   ]
  },
  {
   "cell_type": "code",
   "execution_count": 44,
   "metadata": {},
   "outputs": [],
   "source": [
    "maxi_clique = max(nx.find_cliques(G), key=len)"
   ]
  },
  {
   "cell_type": "code",
   "execution_count": 109,
   "metadata": {},
   "outputs": [],
   "source": [
    "maxi_clique = [0,1,2,3,4]"
   ]
  },
  {
   "cell_type": "code",
   "execution_count": 110,
   "metadata": {},
   "outputs": [],
   "source": [
    "sub = nx.Graph()\n",
    "for node in maxi_clique:\n",
    "    sub.add_node(node)"
   ]
  },
  {
   "cell_type": "code",
   "execution_count": 111,
   "metadata": {},
   "outputs": [],
   "source": [
    "for (i,j), (mini, maxi) in dico_interval.items():\n",
    "    if i in maxi_clique and j in maxi_clique:\n",
    "        sub.add_edges_from([(i,j,{\"mini\":mini, \"maxi\":maxi})])"
   ]
  },
  {
   "cell_type": "code",
   "execution_count": 112,
   "metadata": {},
   "outputs": [
    {
     "data": {
      "text/plain": [
       "[0, 1, 2, 3, 4]"
      ]
     },
     "execution_count": 112,
     "metadata": {},
     "output_type": "execute_result"
    }
   ],
   "source": [
    "list(sub.nodes)"
   ]
  },
  {
   "cell_type": "code",
   "execution_count": 113,
   "metadata": {},
   "outputs": [],
   "source": [
    "def get_edm(nodes,t, graph):\n",
    "    n = len(nodes)\n",
    "    matrix = np.zeros((n,n))\n",
    "    for k in range(n-1):\n",
    "        for l in range(k+1,n):\n",
    "            i = nodes[k]\n",
    "            j = nodes[l]\n",
    "            low = graph.get_edge_data(i,j)[\"mini\"]\n",
    "            up = graph.get_edge_data(i,j)[\"maxi\"]\n",
    "            matrix[k,l] = (1-t[k,l])*low + t[k,l]*up\n",
    "            matrix[l,k] = (1-t[k,l])*low + t[k,l]*up\n",
    "    return matrix"
   ]
  },
  {
   "cell_type": "code",
   "execution_count": 114,
   "metadata": {},
   "outputs": [],
   "source": [
    "def get_x(EDM):\n",
    "    U, S, Vh = np.linalg.svd(EDM)\n",
    "    x = U[:,:3]\n",
    "    return x"
   ]
  },
  {
   "cell_type": "code",
   "execution_count": 115,
   "metadata": {},
   "outputs": [],
   "source": [
    "lamb = 1\n",
    "tau = 0.1\n",
    "\n",
    "def theta(x,i,j,c):\n",
    "    return (lamb**2 *(c-np.sqrt(np.linalg.norm(x[3*i:3*(i+1)]-x[3*j:3*(j+1)])**2 + tau**2))**2 + tau**2)\n",
    "def phi(x,i,j, low,up):\n",
    "    value = lamb*(low - up) + theta(x,i,j,low) + theta(x,i,j,up)\n",
    "    return value\n",
    "def cost(x,nodes,graph):\n",
    "    n = len(nodes)\n",
    "    cost_value = 0\n",
    "    for k in range(n-1):\n",
    "        for l in range(k+1,n):\n",
    "            i = nodes[k]\n",
    "            j = nodes[l]\n",
    "            low = graph.get_edge_data(i,j)[\"mini\"]\n",
    "            up = graph.get_edge_data(i,j)[\"maxi\"]\n",
    "            cost_value += phi(x,k,l,low,up)\n",
    "    return cost_value\n"
   ]
  },
  {
   "cell_type": "code",
   "execution_count": 116,
   "metadata": {},
   "outputs": [],
   "source": [
    "def get_n_error(X,nodes, graph):\n",
    "    n = len(nodes)\n",
    "    count = 0\n",
    "    relative_error = []\n",
    "    count_tot = 0\n",
    "    for k in range(n-1):\n",
    "        for l in range(k+1,n):\n",
    "            i = nodes[k]\n",
    "            j = nodes[l]\n",
    "            count_tot += 1\n",
    "            low = graph.get_edge_data(i,j)[\"mini\"]\n",
    "            up = graph.get_edge_data(i,j)[\"maxi\"]\n",
    "            dist = np.linalg.norm(X[k]-X[l])\n",
    "            print(f\"edge: ({i,j}\")\n",
    "            print(dist)\n",
    "            print(f\"low : {low}    up : {up}\")\n",
    "            print()\n",
    "            if (dist>up or dist < low):\n",
    "                count += 1\n",
    "                relative_error.append(np.min([np.abs(dist-low)/low,np.abs(dist-up)/up]))\n",
    "\n",
    "    return"
   ]
  },
  {
   "cell_type": "code",
   "execution_count": 117,
   "metadata": {},
   "outputs": [],
   "source": [
    "def c_in_intermediate(X,nodes,graph):\n",
    "    n = len(nodes)\n",
    "    count = 0\n",
    "    relative_error = []\n",
    "    count_tot = 0\n",
    "    for k in range(n-1):\n",
    "        for l in range(k+1,n):\n",
    "            i = nodes[k]\n",
    "            j = nodes[l]\n",
    "            count_tot += 1\n",
    "            low = graph.get_edge_data(i,j)[\"mini\"]\n",
    "            up = graph.get_edge_data(i,j)[\"maxi\"]\n",
    "            dist = np.linalg.norm(X[k]-X[l])\n",
    "            if (dist>up or dist < low):\n",
    "                count += 1\n",
    "                relative_error.append(np.min([np.abs(dist-low)/low,np.abs(dist-up)/up]))\n",
    "    return count"
   ]
  },
  {
   "cell_type": "code",
   "execution_count": 118,
   "metadata": {},
   "outputs": [],
   "source": [
    "def place_relative_atoms(clique, t=0.7):\n",
    "    atoms = list(clique.nodes)\n",
    "    n = len(atoms)\n",
    "    ponderation = np.ones((n,n))*t\n",
    "    D = get_edm(list(clique.nodes),ponderation,clique)\n",
    "    x = get_x(D)\n",
    "    res = minimize(cost,x.flatten(),args=(list(sub.nodes),sub),method='BFGS')\n",
    "    X = res.x.reshape(n,3)\n",
    "    dico_index_to_X = {}\n",
    "    dico_X_to_index = {}\n",
    "    count = 0\n",
    "    for node in list(clique.nodes):\n",
    "        dico_index_to_X[node] = count\n",
    "        count += 1\n",
    "    count = 0\n",
    "    for node in list(clique.nodes):\n",
    "        dico_X_to_index[count] = node\n",
    "    count += 1 \n",
    "    return X, dico_X_to_index, dico_index_to_X"
   ]
  },
  {
   "cell_type": "code",
   "execution_count": 119,
   "metadata": {},
   "outputs": [],
   "source": [
    "X, dico_X_to_index, dico_index_to_X = place_relative_atoms(sub)"
   ]
  },
  {
   "cell_type": "code",
   "execution_count": 120,
   "metadata": {},
   "outputs": [
    {
     "data": {
      "text/plain": [
       "array([[ 0.55787626,  3.02003749,  0.19846142],\n",
       "       [-1.30423651,  1.31719859, -0.8067963 ],\n",
       "       [-1.6210181 , -0.78209289,  1.19615428],\n",
       "       [-0.71340402, -0.96693982, -0.28869732],\n",
       "       [ 0.86540609, -2.67338861, -0.04022001]])"
      ]
     },
     "execution_count": 120,
     "metadata": {},
     "output_type": "execute_result"
    }
   ],
   "source": [
    "X"
   ]
  },
  {
   "cell_type": "code",
   "execution_count": 51,
   "metadata": {},
   "outputs": [
    {
     "data": {
      "text/plain": [
       "0"
      ]
     },
     "execution_count": 51,
     "metadata": {},
     "output_type": "execute_result"
    }
   ],
   "source": [
    "c_in_intermediate(X, list(sub.nodes),sub)"
   ]
  },
  {
   "cell_type": "code",
   "execution_count": 20,
   "metadata": {},
   "outputs": [],
   "source": [
    "def best_node(nodes_base,node_to_choose, graph):\n",
    "    counter = [[] for _ in range(len(node_to_choose))]\n",
    "    for (i,j) in graph.edges:\n",
    "        if ((i in nodes_base) and (j not in nodes_base)):\n",
    "            counter[j].append(i)\n",
    "        if ((j in nodes_base) and (i not in nodes_base)):\n",
    "            counter[i].append(j)\n",
    "    for i in range(len(counter)):\n",
    "        if (len(counter[i])>=3):\n",
    "            return i, counter[i]\n"
   ]
  },
  {
   "cell_type": "code",
   "execution_count": 21,
   "metadata": {},
   "outputs": [],
   "source": [
    "node, node_base_connected = best_node(list(sub.nodes), list(G.nodes), G)"
   ]
  },
  {
   "cell_type": "code",
   "execution_count": 22,
   "metadata": {},
   "outputs": [
    {
     "data": {
      "text/plain": [
       "array([[ 0.92379823, -3.5731522 , -0.09978916],\n",
       "       [ 1.02014942, -1.09452151,  0.45208743],\n",
       "       [ 0.5266358 , -1.48538446, -1.18061632],\n",
       "       [-0.94895303, -2.13476559,  1.38241174],\n",
       "       [-1.2133437 ,  0.10901311, -1.18948256],\n",
       "       [ 0.4240286 ,  1.58868486,  0.84494465],\n",
       "       [-1.3290413 ,  2.28799029, -1.21421349],\n",
       "       [-1.01081181,  4.10579787,  0.04746002],\n",
       "       [-1.35792877,  0.11808317,  0.55467378]])"
      ]
     },
     "execution_count": 22,
     "metadata": {},
     "output_type": "execute_result"
    }
   ],
   "source": [
    "X"
   ]
  },
  {
   "cell_type": "code",
   "execution_count": null,
   "metadata": {},
   "outputs": [],
   "source": []
  },
  {
   "cell_type": "markdown",
   "metadata": {},
   "source": [
    "## Compute 10th atom"
   ]
  },
  {
   "cell_type": "code",
   "execution_count": 24,
   "metadata": {},
   "outputs": [],
   "source": [
    "def get_f_ctc(node_base_connected, node_to_solve, graph):\n",
    "    li_ctc = []\n",
    "    li_constrains = []\n",
    "    li_f = []\n",
    "    for atom in node_base_connected:\n",
    "        low = graph.get_edge_data(node_to_solve,atom)[\"mini\"]\n",
    "        up = graph.get_edge_data(node_to_solve,atom)[\"maxi\"]\n",
    "        li_constrains.append([low,up])\n",
    "        center = X[dico_index_to_X[atom]]\n",
    "        f = Function(\"x[3]\", f\"sqrt(sqr(x[0]-{center[0]})+sqr(x[1]-{center[1]})+sqr(x[2]-{center[2]}))\")\n",
    "        li_f.append(f)\n",
    "        contractor = CtcFunction(f, Interval(low,up))\n",
    "        li_ctc.append(contractor)\n",
    "    return li_ctc,li_f, li_constrains\n"
   ]
  },
  {
   "cell_type": "code",
   "execution_count": 25,
   "metadata": {},
   "outputs": [],
   "source": [
    "li_ctc, li_f, li_constrains = get_f_ctc(node_base_connected, node, G)"
   ]
  },
  {
   "cell_type": "code",
   "execution_count": 26,
   "metadata": {},
   "outputs": [],
   "source": [
    "def contract(x,li_ctc):\n",
    "    for ctc in li_ctc:\n",
    "        ctc.contract(x)\n",
    "    "
   ]
  },
  {
   "cell_type": "code",
   "execution_count": 27,
   "metadata": {},
   "outputs": [],
   "source": [
    "def empty(X):\n",
    "    for i in range(3):\n",
    "        if X[i].is_empty():\n",
    "            return True\n",
    "    return False"
   ]
  },
  {
   "cell_type": "code",
   "execution_count": 28,
   "metadata": {},
   "outputs": [],
   "source": [
    "def C_in(X, li_f, li_constrains):\n",
    "    if (empty(X)):\n",
    "        return False\n",
    "    for i in range(len(li_f)):\n",
    "        eval = li_f[i].eval(X)\n",
    "        low, up = li_constrains[i]\n",
    "        if ((eval.lb() < low) or (eval.ub()>up)):\n",
    "            #in_it = False\n",
    "            return False\n",
    "    return True"
   ]
  },
  {
   "cell_type": "code",
   "execution_count": 29,
   "metadata": {},
   "outputs": [],
   "source": [
    "def C_out(X,li_f, li_constrains):\n",
    "    out_it = False\n",
    "    for i in range(len(li_f)):\n",
    "        eval = li_f[i].eval(X)\n",
    "        low, up = li_constrains[i]\n",
    "        if ((eval.lb()> up) or (eval.ub() < low)):\n",
    "            print(i)\n",
    "            out_it = True\n",
    "    return out_it"
   ]
  },
  {
   "cell_type": "code",
   "execution_count": 30,
   "metadata": {},
   "outputs": [],
   "source": [
    "def get_largest(X):\n",
    "    max_index = 0\n",
    "    for i in range(3):\n",
    "        if (X[max_index].diam() < X[i].diam()):\n",
    "            max_index = i\n",
    "    return max_index"
   ]
  },
  {
   "cell_type": "code",
   "execution_count": 31,
   "metadata": {},
   "outputs": [
    {
     "name": "stdout",
     "output_type": "stream",
     "text": [
      "0\n",
      "0\n",
      "0\n",
      "0\n",
      "0\n",
      "sol\n"
     ]
    }
   ],
   "source": [
    "tau = 0.000001\n",
    "stack = [IntervalVector([[-10,10] for _ in range(3)])]\n",
    "stack_acc = []\n",
    "stack_rej = []\n",
    "stack_unc = []\n",
    "sol = False\n",
    "count = 0\n",
    "while len(stack) !=0 and (not sol):\n",
    "    x = stack.pop()\n",
    "    count +=1\n",
    "    contract(x, li_ctc)\n",
    "    if not empty(x):\n",
    "        if (C_in(x,li_f, li_constrains)):\n",
    "            sol = True\n",
    "            print(\"sol\")\n",
    "            stack_acc.append(x)\n",
    "        else:\n",
    "            if C_out(x, li_f, li_constrains):\n",
    "                stack_rej.append(x)\n",
    "            else:\n",
    "                larger_index = get_largest(x)\n",
    "                if x[larger_index].diam() > tau:\n",
    "                    X_left, X_right  = x.bisect(larger_index)\n",
    "                    if not (empty(X_left)):\n",
    "                        stack.append(X_left)\n",
    "                    if not (empty(X_right)):\n",
    "                        stack.append(X_right)\n",
    "                else:\n",
    "                    stack_unc.append(x)"
   ]
  },
  {
   "cell_type": "code",
   "execution_count": 40,
   "metadata": {},
   "outputs": [],
   "source": [
    "def mean(vector):\n",
    "    vec = []\n",
    "    for i in range(3):\n",
    "        vec.append((vector[i][0]+vector[i][1])/2)\n",
    "    return np.array(vec).reshape(1,3)\n"
   ]
  },
  {
   "cell_type": "code",
   "execution_count": 42,
   "metadata": {},
   "outputs": [],
   "source": [
    "X_10 = mean(stack_acc[0])"
   ]
  },
  {
   "cell_type": "code",
   "execution_count": 43,
   "metadata": {},
   "outputs": [
    {
     "data": {
      "text/plain": [
       "array([[ 2.80121905, -1.68063212, -2.12347416]])"
      ]
     },
     "execution_count": 43,
     "metadata": {},
     "output_type": "execute_result"
    }
   ],
   "source": [
    "X_10"
   ]
  },
  {
   "cell_type": "code",
   "execution_count": 47,
   "metadata": {},
   "outputs": [],
   "source": [
    "X = np.concatenate([X,X_10])"
   ]
  },
  {
   "cell_type": "code",
   "execution_count": 48,
   "metadata": {},
   "outputs": [],
   "source": [
    "dico_index_to_X[10] = 10\n",
    "dico_X_to_index[10] = 10"
   ]
  },
  {
   "cell_type": "code",
   "execution_count": 49,
   "metadata": {},
   "outputs": [],
   "source": [
    "nodes_base = list(sub.nodes)\n",
    "nodes_base.append(10)"
   ]
  },
  {
   "cell_type": "code",
   "execution_count": 50,
   "metadata": {},
   "outputs": [
    {
     "ename": "TypeError",
     "evalue": "cannot unpack non-iterable NoneType object",
     "output_type": "error",
     "traceback": [
      "\u001b[1;31m---------------------------------------------------------------------------\u001b[0m",
      "\u001b[1;31mTypeError\u001b[0m                                 Traceback (most recent call last)",
      "\u001b[1;32mc:\\Users\\thoma\\ENSTA\\IA302\\LSbuild\\simulated_annealing.ipynb Cell 82\u001b[0m line \u001b[0;36m1\n\u001b[1;32m----> <a href='vscode-notebook-cell:/c%3A/Users/thoma/ENSTA/IA302/LSbuild/simulated_annealing.ipynb#Y151sZmlsZQ%3D%3D?line=0'>1</a>\u001b[0m node, node_base_connected \u001b[39m=\u001b[39m best_node(nodes_base, \u001b[39mlist\u001b[39m(G\u001b[39m.\u001b[39mnodes), G)\n",
      "\u001b[1;31mTypeError\u001b[0m: cannot unpack non-iterable NoneType object"
     ]
    }
   ],
   "source": [
    "node, node_base_connected = best_node(nodes_base, list(G.nodes), G)"
   ]
  },
  {
   "cell_type": "code",
   "execution_count": 52,
   "metadata": {},
   "outputs": [],
   "source": [
    "counter = [[] for _ in range(63)]\n",
    "for (i,j) in G.edges:\n",
    "    if ((i in nodes_base) and (j not in nodes_base)):\n",
    "        counter[j].append(i)\n",
    "    if ((j in nodes_base) and (i not in nodes_base)):\n",
    "        counter[i].append(j)\n"
   ]
  },
  {
   "cell_type": "code",
   "execution_count": null,
   "metadata": {},
   "outputs": [],
   "source": [
    "counter"
   ]
  },
  {
   "cell_type": "code",
   "execution_count": 34,
   "metadata": {},
   "outputs": [
    {
     "name": "stdout",
     "output_type": "stream",
     "text": [
      "Low : 3.3468848592262983    Up : 3.346886033314764\n",
      "Needed low : 3.280604499173894    Needed Up : 3.346886033315147\n",
      "\n",
      "Low : 3.185788515607867    Up : 3.185789688563983\n",
      "Needed low : 3.185788056352778    Needed Up : 3.250153913278571\n",
      "\n",
      "Low : 2.469985694327776    Up : 2.469986587840734\n",
      "Needed low : 2.469650991537058    Needed Up : 2.519547971363112\n",
      "\n"
     ]
    }
   ],
   "source": [
    "count = 0\n",
    "for node_base in node_base_connected:\n",
    "    bounds = li_f[count].eval(stack_acc[0])\n",
    "    print(f\"Low : {bounds.lb()}    Up : {bounds.ub()}\")\n",
    "    print(f\"Needed low : {G.get_edge_data(node,node_base)['mini']}    Needed Up : {G.get_edge_data(node,node_base)['maxi']}\")\n",
    "    print()\n",
    "    count +=1"
   ]
  },
  {
   "cell_type": "markdown",
   "metadata": {},
   "source": [
    "## N cliques"
   ]
  },
  {
   "cell_type": "code",
   "execution_count": 26,
   "metadata": {},
   "outputs": [],
   "source": [
    "G_prime = G.copy()"
   ]
  },
  {
   "cell_type": "code",
   "execution_count": 56,
   "metadata": {},
   "outputs": [],
   "source": [
    "for noeud in list(sub.nodes):\n",
    "    G_prime.remove_node(noeud)"
   ]
  },
  {
   "cell_type": "code",
   "execution_count": 65,
   "metadata": {},
   "outputs": [],
   "source": [
    "cliques = nx.find_cliques(G)"
   ]
  },
  {
   "cell_type": "code",
   "execution_count": null,
   "metadata": {},
   "outputs": [],
   "source": [
    "def already_seen(clique, cliques_tested):\n",
    "    for i in range(len(cliques_tested)):\n",
    "        if cliques_tested[i] in clique:"
   ]
  },
  {
   "cell_type": "code",
   "execution_count": 67,
   "metadata": {},
   "outputs": [],
   "source": [
    "cliques = nx.find_cliques(G)\n",
    "X_tot = []\n",
    "li_index_to_X_tot = []\n",
    "li_X_to_index_tot = []\n",
    "errors = []\n",
    "cliques_testes = []\n",
    "for clique in cliques:\n",
    "    if (len(clique)>3):\n",
    "        sub = nx.Graph()\n",
    "        for node in clique:\n",
    "            sub.add_node(node)\n",
    "        for (i,j), (mini, maxi) in dico_interval.items():\n",
    "            if i in clique and j in clique:\n",
    "                sub.add_edges_from([(i,j,{\"mini\":mini, \"maxi\":maxi})])\n",
    "        X, dico_X_to_index, dico_index_to_X = place_relative_atoms(sub)\n",
    "        errors.append(c_in_intermediate(X,list(sub.nodes),sub))\n",
    "        X_tot.append(X)\n",
    "        li_index_to_X_tot.append(dico_index_to_X)\n",
    "        li_X_to_index_tot.append(dico_X_to_index)\n",
    "        errors.append(c_in_intermediate(X,list(sub.nodes),sub))\n",
    "    "
   ]
  },
  {
   "cell_type": "code",
   "execution_count": 69,
   "metadata": {},
   "outputs": [
    {
     "data": {
      "text/plain": [
       "True"
      ]
     },
     "execution_count": 69,
     "metadata": {},
     "output_type": "execute_result"
    }
   ],
   "source": [
    "def post_treatment(X_tot, li_X_to_index_tot, li_index_to_X_tot):\n",
    "    n = len(X_tot)\n",
    "    cliques_seen = []"
   ]
  },
  {
   "cell_type": "code",
   "execution_count": null,
   "metadata": {},
   "outputs": [],
   "source": []
  },
  {
   "cell_type": "code",
   "execution_count": 62,
   "metadata": {},
   "outputs": [],
   "source": [
    "maxi_clique = max(nx.find_cliques(G_prime), key=len)"
   ]
  },
  {
   "cell_type": "code",
   "execution_count": 63,
   "metadata": {},
   "outputs": [
    {
     "data": {
      "text/plain": [
       "[54, 58, 56, 59, 55, 57, 60, 61, 62]"
      ]
     },
     "execution_count": 63,
     "metadata": {},
     "output_type": "execute_result"
    }
   ],
   "source": [
    "maxi_clique"
   ]
  },
  {
   "cell_type": "code",
   "execution_count": null,
   "metadata": {},
   "outputs": [],
   "source": []
  },
  {
   "cell_type": "markdown",
   "metadata": {},
   "source": [
    "# Construction"
   ]
  },
  {
   "cell_type": "code",
   "execution_count": null,
   "metadata": {},
   "outputs": [],
   "source": [
    "dico_constrains"
   ]
  },
  {
   "cell_type": "code",
   "execution_count": 140,
   "metadata": {},
   "outputs": [],
   "source": [
    "def get_f_ctc(X, dico_interval, atom):\n",
    "    li_ctc = []\n",
    "    li_constrains = []\n",
    "    li_f = []\n",
    "    for ((i,j), (low,up)) in dico_interval.items():\n",
    "        if j == atom:\n",
    "            low1 = low*0.6+0.4*up\n",
    "            up = low*0.4+0.6*up\n",
    "            low = low1\n",
    "            li_constrains.append([low,up])\n",
    "\n",
    "            center = X[i]\n",
    "            f = Function(\"x[3]\", f\"sqrt(sqr(x[0]-{center[0]})+sqr(x[1]-{center[1]})+sqr(x[2]-{center[2]}))\")\n",
    "            li_f.append(f)\n",
    "            contractor = CtcFunction(f, Interval(low,up))\n",
    "            li_ctc.append(contractor)\n",
    "    \n",
    "    return li_ctc, li_f, li_constrains\n",
    "\n",
    "def contract(x,li_ctc):\n",
    "    for ctc in li_ctc:\n",
    "        ctc.contract(x)\n",
    "    \n",
    "def empty(X):\n",
    "    for i in range(3):\n",
    "        if X[i].is_empty():\n",
    "            return True\n",
    "    return False\n",
    "def C_in(X, li_f, li_constrains):\n",
    "    if (empty(X)):\n",
    "        return False\n",
    "    for i in range(len(li_f)):\n",
    "        eval = li_f[i].eval(X)\n",
    "        low, up = li_constrains[i]\n",
    "        if ((eval.lb() < low) or (eval.ub()>up)):\n",
    "            #in_it = False\n",
    "            return False\n",
    "    return True\n",
    "def C_out(X,li_f, li_constrains):\n",
    "    out_it = False\n",
    "    for i in range(len(li_f)):\n",
    "        eval = li_f[i].eval(X)\n",
    "        low, up = li_constrains[i]\n",
    "        if ((eval.lb()> up) or (eval.ub() < low)):\n",
    "            out_it = True\n",
    "    return out_it\n",
    "def get_largest(X):\n",
    "    max_index = 0\n",
    "    for i in range(3):\n",
    "        if (X[max_index].diam() < X[i].diam()):\n",
    "            max_index = i\n",
    "    if (X[0].diam() == X[1].diam() and X[1].diam() == X[2].diam()):\n",
    "        return np.random.randint(3)\n",
    "    return max_index\n",
    "def mean(vector):\n",
    "    vec = []\n",
    "    for i in range(3):\n",
    "        vec.append((vector[i][0]+vector[i][1])/2)\n",
    "    return np.array(vec).reshape(1,3)\n"
   ]
  },
  {
   "cell_type": "code",
   "execution_count": 154,
   "metadata": {},
   "outputs": [],
   "source": [
    "def add_atom(X, dico_interval, atom, rayon_depart):\n",
    "    tau = 0.0000000001\n",
    "    stack = [IntervalVector([[rayon_depart,40] for _ in range(3)])]\n",
    "    li_ctc, li_f, li_constrains = get_f_ctc(X, dico_interval, atom)\n",
    "    print(len(li_ctc))\n",
    "    stack_acc = []\n",
    "    stack_rej = []\n",
    "    stack_unc = []\n",
    "    sol = 0\n",
    "    count = 0\n",
    "    while len(stack) !=0 and (not sol):\n",
    "        x = stack.pop()\n",
    "        count +=1\n",
    "        contract(x, li_ctc)\n",
    "        if not empty(x):\n",
    "            if (C_in(x,li_f, li_constrains)):\n",
    "                sol = True\n",
    "                stack_acc.append(x)\n",
    "            else:\n",
    "                if C_out(x, li_f, li_constrains):\n",
    "                    stack_rej.append(x)\n",
    "                else:\n",
    "                    larger_index = get_largest(x)\n",
    "                    if x[larger_index].diam() > tau:\n",
    "                        X_left, X_right  = x.bisect(larger_index)\n",
    "                        if not (empty(X_left)):\n",
    "                            stack.append(X_left)\n",
    "                        if not (empty(X_right)):\n",
    "                            stack.append(X_right)\n",
    "                    else:\n",
    "                        stack_unc.append(x)\n",
    "    if (len(stack_acc) != 0):\n",
    "        pos = mean(stack_acc[0])\n",
    "    new_X = np.concatenate([X,pos])\n",
    "    return new_X\n",
    "    "
   ]
  },
  {
   "cell_type": "code",
   "execution_count": 155,
   "metadata": {},
   "outputs": [
    {
     "name": "stdout",
     "output_type": "stream",
     "text": [
      "1\n",
      "1\n",
      "2\n",
      "2\n"
     ]
    },
    {
     "ename": "UnboundLocalError",
     "evalue": "local variable 'pos' referenced before assignment",
     "output_type": "error",
     "traceback": [
      "\u001b[1;31m---------------------------------------------------------------------------\u001b[0m",
      "\u001b[1;31mUnboundLocalError\u001b[0m                         Traceback (most recent call last)",
      "\u001b[1;32mc:\\Users\\thoma\\ENSTA\\IA302\\LSbuild\\simulated_annealing.ipynb Cell 102\u001b[0m line \u001b[0;36m6\n\u001b[0;32m      <a href='vscode-notebook-cell:/c%3A/Users/thoma/ENSTA/IA302/LSbuild/simulated_annealing.ipynb#Y203sZmlsZQ%3D%3D?line=3'>4</a>\u001b[0m \u001b[39mprint\u001b[39m(count)\n\u001b[0;32m      <a href='vscode-notebook-cell:/c%3A/Users/thoma/ENSTA/IA302/LSbuild/simulated_annealing.ipynb#Y203sZmlsZQ%3D%3D?line=4'>5</a>\u001b[0m rayon \u001b[39m=\u001b[39m np\u001b[39m.\u001b[39mlinalg\u001b[39m.\u001b[39mnorm(X[count\u001b[39m-\u001b[39m\u001b[39m1\u001b[39m])\n\u001b[1;32m----> <a href='vscode-notebook-cell:/c%3A/Users/thoma/ENSTA/IA302/LSbuild/simulated_annealing.ipynb#Y203sZmlsZQ%3D%3D?line=5'>6</a>\u001b[0m X \u001b[39m=\u001b[39m add_atom(X,dico_interval,count, rayon)\n\u001b[0;32m      <a href='vscode-notebook-cell:/c%3A/Users/thoma/ENSTA/IA302/LSbuild/simulated_annealing.ipynb#Y203sZmlsZQ%3D%3D?line=6'>7</a>\u001b[0m count \u001b[39m+\u001b[39m\u001b[39m=\u001b[39m\u001b[39m1\u001b[39m\n",
      "\u001b[1;32mc:\\Users\\thoma\\ENSTA\\IA302\\LSbuild\\simulated_annealing.ipynb Cell 102\u001b[0m line \u001b[0;36m3\n\u001b[0;32m     <a href='vscode-notebook-cell:/c%3A/Users/thoma/ENSTA/IA302/LSbuild/simulated_annealing.ipynb#Y203sZmlsZQ%3D%3D?line=31'>32</a>\u001b[0m \u001b[39mif\u001b[39;00m (\u001b[39mlen\u001b[39m(stack_acc) \u001b[39m!=\u001b[39m \u001b[39m0\u001b[39m):\n\u001b[0;32m     <a href='vscode-notebook-cell:/c%3A/Users/thoma/ENSTA/IA302/LSbuild/simulated_annealing.ipynb#Y203sZmlsZQ%3D%3D?line=32'>33</a>\u001b[0m     pos \u001b[39m=\u001b[39m mean(stack_acc[\u001b[39m0\u001b[39m])\n\u001b[1;32m---> <a href='vscode-notebook-cell:/c%3A/Users/thoma/ENSTA/IA302/LSbuild/simulated_annealing.ipynb#Y203sZmlsZQ%3D%3D?line=33'>34</a>\u001b[0m new_X \u001b[39m=\u001b[39m np\u001b[39m.\u001b[39mconcatenate([X,pos])\n\u001b[0;32m     <a href='vscode-notebook-cell:/c%3A/Users/thoma/ENSTA/IA302/LSbuild/simulated_annealing.ipynb#Y203sZmlsZQ%3D%3D?line=34'>35</a>\u001b[0m \u001b[39mreturn\u001b[39;00m new_X\n",
      "\u001b[1;31mUnboundLocalError\u001b[0m: local variable 'pos' referenced before assignment"
     ]
    }
   ],
   "source": [
    "X = np.zeros((1,3))\n",
    "count = 1\n",
    "while count!=63:\n",
    "    print(count)\n",
    "    rayon = np.linalg.norm(X[count-1])\n",
    "    X = add_atom(X,dico_interval,count, rayon)\n",
    "    count +=1\n",
    "    "
   ]
  },
  {
   "cell_type": "code",
   "execution_count": 143,
   "metadata": {},
   "outputs": [],
   "source": [
    "def verif(X,dico_interval):\n",
    "    n = X.shape[0]\n",
    "    count = 0\n",
    "    for (i,j), (low,up) in dico_interval.items():\n",
    "        if i<n and j<n:\n",
    "            dist = np.linalg.norm(X[i] - X[j])\n",
    "            print(f\"edge: ({i,j}\")\n",
    "            print(dist)\n",
    "            print(f\"low : {low}    up : {up}\")\n",
    "            print()\n",
    "    return count"
   ]
  },
  {
   "cell_type": "code",
   "execution_count": 144,
   "metadata": {},
   "outputs": [
    {
     "name": "stdout",
     "output_type": "stream",
     "text": [
      "edge: ((0, 1)\n",
      "2.7161861812419787\n",
      "low : 2.704259074127328    up : 2.73143824019508\n",
      "\n",
      "edge: ((0, 2)\n",
      "4.494348351146553\n",
      "low : 4.472892845799014    up : 4.51784767228821\n",
      "\n",
      "edge: ((0, 3)\n",
      "4.213011423997105\n",
      "low : 4.193622171822353    up : 4.235770187344921\n",
      "\n",
      "edge: ((0, 4)\n",
      "5.706719213131824\n",
      "low : 5.678773711814897    up : 5.735848248515641\n",
      "\n",
      "edge: ((1, 2)\n",
      "2.9187645193961536\n",
      "low : 2.906097367604874    up : 2.935305110205748\n",
      "\n",
      "edge: ((1, 3)\n",
      "2.4155326245683315\n",
      "low : 2.404425382497866    up : 2.42859106891218\n",
      "\n",
      "edge: ((1, 4)\n",
      "4.606492637672264\n",
      "low : 4.585412854912853    up : 4.631498564179853\n",
      "\n",
      "edge: ((1, 5)\n",
      "2.229275599360259\n",
      "low : 2.215912974374222    up : 2.23818401611664\n",
      "\n",
      "edge: ((2, 3)\n",
      "1.750061707416979\n",
      "low : 1.743909289498742    up : 1.761436456418456\n",
      "\n",
      "edge: ((2, 4)\n",
      "3.3597509041713916\n",
      "low : 3.344627737133087    up : 3.378242930873976\n",
      "\n",
      "edge: ((2, 5)\n",
      "2.9953045598426793\n",
      "low : 2.977350238047247    up : 3.007274107892395\n",
      "\n",
      "edge: ((3, 4)\n",
      "2.3380226281872285\n",
      "low : 2.327657584353851    up : 2.351051715722138\n",
      "\n",
      "edge: ((3, 5)\n",
      "3.3390882913051443\n",
      "low : 3.325718233705319    up : 3.359143377410382\n",
      "\n",
      "edge: ((5, 6)\n",
      "2.858740773071114\n",
      "low : 2.841605035890805    up : 2.870164598067502\n",
      "\n",
      "edge: ((5, 7)\n",
      "3.5144583168194456\n",
      "low : 3.493392106534848    up : 3.528502457133901\n",
      "\n",
      "edge: ((5, 8)\n",
      "2.9426841836766706\n",
      "low : 2.925045276572656    up : 2.954443455204382\n",
      "\n",
      "edge: ((6, 7)\n",
      "2.490254599870627\n",
      "low : 2.480283360827951    up : 2.505211458140808\n",
      "\n",
      "edge: ((6, 8)\n",
      "4.073484759071304\n",
      "low : 4.057174101514501    up : 4.0979507451896\n",
      "\n",
      "edge: ((6, 9)\n",
      "2.3903541966426065\n",
      "low : 2.376026041523955    up : 2.399906300254241\n",
      "\n",
      "edge: ((7, 8)\n",
      "2.512819289896453\n",
      "low : 2.501990827321312    up : 2.527137095608385\n",
      "\n",
      "edge: ((7, 9)\n",
      "2.705849402126776\n",
      "low : 2.689630119551756    up : 2.716662257256134\n",
      "\n",
      "edge: ((7, 11)\n",
      "2.790163946252115\n",
      "low : 2.773439269210702    up : 2.801313731091181\n",
      "\n",
      "edge: ((9, 10)\n",
      "2.8044592293936175\n",
      "low : 2.787648864186446    up : 2.815666139655052\n",
      "\n",
      "edge: ((9, 11)\n",
      "2.5989780266827416\n",
      "low : 2.588571447729418    up : 2.614587894869854\n",
      "\n"
     ]
    },
    {
     "data": {
      "text/plain": [
       "0"
      ]
     },
     "execution_count": 144,
     "metadata": {},
     "output_type": "execute_result"
    }
   ],
   "source": [
    "verif(X,dico_interval)"
   ]
  },
  {
   "cell_type": "code",
   "execution_count": 128,
   "metadata": {},
   "outputs": [
    {
     "data": {
      "text/plain": [
       "2.7161861812419787"
      ]
     },
     "execution_count": 128,
     "metadata": {},
     "output_type": "execute_result"
    }
   ],
   "source": [
    "np.linalg.norm(X[0] - X[1])"
   ]
  },
  {
   "cell_type": "code",
   "execution_count": 84,
   "metadata": {},
   "outputs": [
    {
     "data": {
      "text/plain": [
       "2.7154822749207317"
      ]
     },
     "execution_count": 84,
     "metadata": {},
     "output_type": "execute_result"
    }
   ],
   "source": [
    "X0 = np.array([2.83455656e+00 ,  6.36186041e-01 ,  3.63035087e+00 ])\n",
    "X1 = np.array([6.89690506e-01 , -4.68265409e-01 ,  2.38392374e+00])\n",
    "np.linalg.norm(X0 - X1)"
   ]
  },
  {
   "cell_type": "code",
   "execution_count": 129,
   "metadata": {},
   "outputs": [
    {
     "data": {
      "text/plain": [
       "array([[ 0.55787626,  3.02003749,  0.19846142],\n",
       "       [-1.30423651,  1.31719859, -0.8067963 ],\n",
       "       [-1.6210181 , -0.78209289,  1.19615428],\n",
       "       [-0.71340402, -0.96693982, -0.28869732],\n",
       "       [ 0.86540609, -2.67338861, -0.04022001],\n",
       "       [-0.51897231,  2.01584711,  1.16923965],\n",
       "       [ 1.13853775,  3.6727275 ,  2.82612003],\n",
       "       [-1.06257858,  4.48145958,  3.6341082 ],\n",
       "       [-2.85191609,  2.94703924,  2.72455013],\n",
       "       [ 1.35081799,  5.36385337,  4.51567046],\n",
       "       [ 2.97623767,  6.98989076,  6.14109012],\n",
       "       [-0.73378358,  6.44859615,  5.60124475]])"
      ]
     },
     "execution_count": 129,
     "metadata": {},
     "output_type": "execute_result"
    }
   ],
   "source": [
    "X "
   ]
  },
  {
   "cell_type": "code",
   "execution_count": 87,
   "metadata": {},
   "outputs": [
    {
     "data": {
      "text/plain": [
       "array([[2.83455656, 0.63618604, 3.63035087],\n",
       "       [4.4113534 , 2.21298286, 5.20774694],\n",
       "       [2.95296691, 4.69363621, 5.61378847],\n",
       "       [3.08799176, 3.42792869, 6.80583393],\n",
       "       [1.32855709, 3.57049243, 8.3230864 ],\n",
       "       [5.78924311, 3.95617846, 4.93912691],\n",
       "       [7.44675317, 5.61305887, 6.59600727],\n",
       "       [5.24563684, 6.42179094, 7.40399546],\n",
       "       [3.45629934, 4.8873706 , 6.49443739],\n",
       "       [7.65903342, 7.30418474, 8.2855577 ],\n",
       "       [9.28445307, 8.92960443, 9.91159509],\n",
       "       [5.57443185, 8.3889275 , 9.371132  ]])"
      ]
     },
     "execution_count": 87,
     "metadata": {},
     "output_type": "execute_result"
    }
   ],
   "source": [
    "X + np.array(X0)"
   ]
  },
  {
   "cell_type": "code",
   "execution_count": 134,
   "metadata": {},
   "outputs": [
    {
     "name": "stdout",
     "output_type": "stream",
     "text": [
      "3.363067782717367\n",
      "3.2794447863137433\n",
      "2.2192210446896676\n"
     ]
    }
   ],
   "source": [
    "X8 = np.array([  7.06760517e-01,  -4.71016652e+00 , -1.34681783e+00])\n",
    "X9 = np.array([ -1.49827588e+00 , -4.08228545e+00,  -3.37522343e-01])\n",
    "X12 = np.array([ -1.04372973e+00 , -3.02951353e+00 ,  3.31519175e-02])\n",
    "X13 = np.array([  5.43530260e-01 , -1.51619354e+00 , -3.06569111e-01])\n",
    "print(np.linalg.norm(X8-X13))\n",
    "print(np.linalg.norm(X9-X13))\n",
    "print(np.linalg.norm(X12-X13))\n",
    "\n",
    "      \n"
   ]
  },
  {
   "cell_type": "code",
   "execution_count": 60,
   "metadata": {},
   "outputs": [],
   "source": [
    "from mpl_toolkits.mplot3d import Axes3D\n",
    "import matplotlib.pyplot as plt"
   ]
  },
  {
   "cell_type": "code",
   "execution_count": 133,
   "metadata": {},
   "outputs": [
    {
     "data": {
      "image/png": "[encoded data removed]",
      "text/plain": [
       "<Figure size 640x480 with 1 Axes>"
      ]
     },
     "metadata": {},
     "output_type": "display_data"
    }
   ],
   "source": [
    "fig = plt.figure()\n",
    "ax = fig.add_subplot(111, projection='3d')\n",
    "ax.set_aspect(\"equal\")\n",
    "color = [\"b\",\"r\",\"g\"]\n",
    "count = 0\n",
    "for i in [7,8,11]:\n",
    "    center = X[i]\n",
    "    u = np.linspace(0, 2 * np.pi, 100)\n",
    "    v = np.linspace(0, np.pi, 100)\n",
    "    radius = np.mean(dico_interval[(i,12)])\n",
    "    x = center[0] + radius * np.outer(np.cos(u), np.sin(v))\n",
    "    y = center[1] + radius * np.outer(np.sin(u), np.sin(v))\n",
    "    z = center[2] + radius * np.outer(np.ones(np.size(u)), np.cos(v))\n",
    "    ax.plot_surface(x, y, z, color=color[count], alpha=0.5)\n",
    "    count += 1\n",
    "plt.show()"
   ]
  },
  {
   "cell_type": "code",
   "execution_count": 63,
   "metadata": {},
   "outputs": [
    {
     "name": "stdout",
     "output_type": "stream",
     "text": [
      "7\n",
      "8\n",
      "11\n"
     ]
    }
   ],
   "source": [
    "for (i,j),(low,up) in dico_interval.items():\n",
    "    if j==12:\n",
    "        print(i)"
   ]
  },
  {
   "cell_type": "code",
   "execution_count": null,
   "metadata": {},
   "outputs": [],
   "source": []
  }
 ],
 "metadata": {
  "kernelspec": {
   "display_name": "map588",
   "language": "python",
   "name": "python3"
  },
  "language_info": {
   "codemirror_mode": {
    "name": "ipython",
    "version": 3
   },
   "file_extension": ".py",
   "mimetype": "text/x-python",
   "name": "python",
   "nbconvert_exporter": "python",
   "pygments_lexer": "ipython3",
   "version": "3.9.16"
  }
 },
 "nbformat": 4,
 "nbformat_minor": 2
}
