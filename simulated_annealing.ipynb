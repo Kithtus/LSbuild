{
 "cells": [
  {
   "cell_type": "code",
   "execution_count": 1,
   "metadata": {},
   "outputs": [
    {
     "name": "stderr",
     "output_type": "stream",
     "text": [
      "c:\\Users\\thoma\\.conda\\envs\\map588\\lib\\site-packages\\numpy\\core\\getlimits.py:493: UserWarning: Signature b'\\xcc\\xcc\\xcc\\xbd' for <class 'numpy.float32'> does not match any known type: falling back to type probe function.\n",
      "This warnings indicates broken support for the dtype!\n",
      "  machar = _get_machar(dtype)\n",
      "c:\\Users\\thoma\\.conda\\envs\\map588\\lib\\site-packages\\numpy\\core\\_machar.py:295: RuntimeWarning: overflow encountered in divide\n",
      "  xmax = xmax / (xmin*beta*beta*beta)\n"
     ]
    }
   ],
   "source": [
    "import os\n",
    "import pandas as pd\n",
    "import numpy as np\n",
    "import matplotlib.pyplot as plt\n",
    "from codac import Interval, IntervalVector, CtcDist, Function,CtcFunction\n",
    "from collections import deque\n",
    "import networkx as nx\n",
    "from scipy.optimize import minimize, rosen, rosen_der"
   ]
  },
  {
   "cell_type": "code",
   "execution_count": 2,
   "metadata": {},
   "outputs": [],
   "source": [
    "f= open(\"graph_02.txt\", mode=\"r\")\n",
    "li = []\n",
    "for line in f:\n",
    "    li.append(line)"
   ]
  },
  {
   "cell_type": "code",
   "execution_count": 3,
   "metadata": {},
   "outputs": [],
   "source": [
    "f.close()"
   ]
  },
  {
   "cell_type": "code",
   "execution_count": 4,
   "metadata": {},
   "outputs": [],
   "source": [
    "dico_constrains = {}\n",
    "dico_interval = {}\n",
    "for elem in li:\n",
    "    i = int(elem[6:8].split(\" \")[-1])-1\n",
    "    j = int(elem[16:18].split(\" \")[-1])-1\n",
    "    mini = float(elem[21:42])\n",
    "    maxi = float(elem[45:-1])\n",
    "    dico_constrains[(i,j)] = (maxi + mini)/2\n",
    "    dico_interval[(i,j)] = [mini, maxi]"
   ]
  },
  {
   "cell_type": "markdown",
   "metadata": {},
   "source": [
    "# Evolution"
   ]
  },
  {
   "cell_type": "code",
   "execution_count": null,
   "metadata": {},
   "outputs": [],
   "source": [
    "def c_in(X,dico_interval):\n",
    "    count = 0\n",
    "    for key, value in dico_interval.items():\n",
    "        i,j = key\n",
    "        mini,maxi = value\n",
    "        if (np.linalg.norm(X[i]-X[j]) > mini and np.linalg.norm(X[i]-X[j]) < maxi):\n",
    "            count += 1\n",
    "    return count"
   ]
  },
  {
   "cell_type": "code",
   "execution_count": null,
   "metadata": {},
   "outputs": [],
   "source": [
    "def error(X,dico_interval):\n",
    "    li = []\n",
    "    for key, value in dico_interval.items():\n",
    "        i,j = key\n",
    "        mini,maxi = value\n",
    "        li.append([np.linalg.norm(X[i]-X[j]), mini, maxi])\n",
    "    return li"
   ]
  },
  {
   "cell_type": "code",
   "execution_count": null,
   "metadata": {},
   "outputs": [],
   "source": [
    "def cost_indiv(X, dico_interval):\n",
    "    cout = 0\n",
    "    for key, value in dico_interval.items():\n",
    "        i,j = key\n",
    "        mini, maxi = value\n",
    "        mean = (maxi+mini)/2\n",
    "        dist = np.linalg.norm(X[i]-X[j])\n",
    "        cout += np.max([(maxi**2 -dist**2)/maxi**2, (dist**2 - mini**2)/mini**2, 0])\n",
    "        #cout += (dist**2  - mean**2)**2 \n",
    "    return cout"
   ]
  },
  {
   "cell_type": "code",
   "execution_count": null,
   "metadata": {},
   "outputs": [],
   "source": [
    "def cost(X,dico_interval):\n",
    "    n = X.shape[0]\n",
    "    li_cost = np.zeros(n)\n",
    "    for i in range(n):\n",
    "        li_cost[i] = cost_indiv(X[i],dico_interval)\n",
    "    return li_cost"
   ]
  },
  {
   "cell_type": "code",
   "execution_count": null,
   "metadata": {},
   "outputs": [],
   "source": [
    "def select(X,cost, frac = 0.7):\n",
    "    ordering = np.argsort(cost)\n",
    "    n = int(frac*ordering.shape[0])\n",
    "    X_child = X[ordering[:n]]\n",
    "    return X_child\n"
   ]
  },
  {
   "cell_type": "code",
   "execution_count": null,
   "metadata": {},
   "outputs": [],
   "source": [
    "def variation(X,i):\n",
    "    atoms = np.random.choice([i for i in range(63)],size=X.shape[0], replace=True)\n",
    "    X[:,atoms,:] += np.random.normal(loc=0, scale=0.02,size=(X.shape[0],3))\n",
    "    return X\n"
   ]
  },
  {
   "cell_type": "code",
   "execution_count": null,
   "metadata": {},
   "outputs": [],
   "source": [
    "def remplacement(X,X_child,cost_X, cost_child):\n",
    "    n = X.shape[0]\n",
    "    cost_tot = np.concatenate([cost_X,cost_child])\n",
    "    ordering = np.argsort(cost_tot)[:n]\n",
    "    X_tot = np.concatenate([X, X_child])\n",
    "    return X_tot[ordering], cost_tot[ordering]\n"
   ]
  },
  {
   "cell_type": "code",
   "execution_count": null,
   "metadata": {},
   "outputs": [],
   "source": [
    "X = np.random.normal(loc=0, scale= 10,size=(200,63,3))\n",
    "cost_X = cost(X, dico_interval)\n",
    "mean = np.mean(cost_X)\n",
    "N_iter = 1000\n",
    "n = 0\n",
    "while n<N_iter:\n",
    "    if (n%10 == 0):\n",
    "        print(n)\n",
    "    X_child =  select(X, cost_X, frac=0.7)\n",
    "    X_child = variation(X_child,i)\n",
    "    cost_child = cost(X_child, dico_interval)\n",
    "    X, cost_X = remplacement(X,X_child, cost_X,cost_child)\n",
    "    n += 1\n"
   ]
  },
  {
   "cell_type": "code",
   "execution_count": null,
   "metadata": {},
   "outputs": [],
   "source": [
    "c_in(X,dico_interval)"
   ]
  },
  {
   "cell_type": "code",
   "execution_count": null,
   "metadata": {},
   "outputs": [],
   "source": [
    "cost_X[0]"
   ]
  },
  {
   "cell_type": "code",
   "execution_count": null,
   "metadata": {},
   "outputs": [],
   "source": [
    "li = error(X[0], dico_interval)"
   ]
  },
  {
   "cell_type": "code",
   "execution_count": null,
   "metadata": {},
   "outputs": [],
   "source": [
    "li"
   ]
  },
  {
   "cell_type": "markdown",
   "metadata": {},
   "source": [
    "# Explore"
   ]
  },
  {
   "cell_type": "code",
   "execution_count": null,
   "metadata": {},
   "outputs": [],
   "source": [
    "exist = True\n",
    "count = 0\n",
    "for i in range(3,63):\n",
    "    if not (links[i-3,i] and links[i-2,i] and links[i-1,i]):\n",
    "        count +=1"
   ]
  },
  {
   "cell_type": "code",
   "execution_count": null,
   "metadata": {},
   "outputs": [],
   "source": []
  },
  {
   "cell_type": "markdown",
   "metadata": {},
   "source": [
    "# Codac"
   ]
  },
  {
   "cell_type": "code",
   "execution_count": null,
   "metadata": {},
   "outputs": [],
   "source": [
    "M = 63"
   ]
  },
  {
   "cell_type": "code",
   "execution_count": null,
   "metadata": {},
   "outputs": [],
   "source": [
    "help(Interval)"
   ]
  },
  {
   "cell_type": "code",
   "execution_count": null,
   "metadata": {},
   "outputs": [],
   "source": [
    "li_f = []\n",
    "li_interval = []\n",
    "for (l,k), [mini,maxi] in dico_interval.items():\n",
    "    i = 3*l \n",
    "    j = 3*k \n",
    "    li_f.append(Function(f\"X[{M*3}]\", f\"sqrt((X[{i}]-X[{j}])^2+(X[{i}+1]-X[{j}+1])^2+(X[{i}+2]-X[{j}+2])^2)\"))\n",
    "    li_interval.append((mini, maxi))\n",
    "\n"
   ]
  },
  {
   "cell_type": "code",
   "execution_count": null,
   "metadata": {},
   "outputs": [],
   "source": [
    "li_ctf = []\n",
    "X = IntervalVector(M*3,(-10,10))\n",
    "for (l,k), [mini,maxi] in dico_interval.items():\n",
    "    i = 3*l \n",
    "    j = 3*k\n",
    "    ctc_f = CtcFunction(Function(f\"X[{M*3}]\", f\"sqrt((X[{i}]-X[{j}])^2+(X[{i}+1]-X[{j}+1])^2+(X[{i}+2]-X[{j}+2])^2)\"), Interval(mini,maxi))\n",
    "    li_ctf.append(ctc_f)\n",
    "for i in range(M-3):\n",
    "    ctc_f = CtcFunction(Function(f\"X[{M*3}]\", f\"\"\"sqrt((X[{i}]-X[{i+1}])^2+(X[{i}+1]-X[{i+1}+1])^2+(X[{i}+2]-X[{i+1}+2])^2) * \n",
    "                                 sqrt((X[{i+1}]-X[{i+2}])^2+(X[{i}+1]-X[{i+2}+1])^2+(X[{i}+2]-X[{i+2}+2])^2) * \n",
    "                                 \"\"\"), Interval(0,+oo))\n",
    "    li_ctf.append(ctc_f)\n",
    "\"\"\"for i in range(M-1):\n",
    "    print(i)\n",
    "    for j in range(i,M-2):\n",
    "        if (i!=j):\n",
    "            for k in range(j,M-3):\n",
    "                if i!=k and j!=k:\n",
    "                    ctc_f = CtcFunction(Function(f\"X[{M*3}]\", f\"((X[{i}]-X[{j}])^2+(X[{i}+1]-X[{j}+1])^2+(X[{i}+2]-X[{j}+2])^2)^0.5 - ((X[{i}]-X[{k}])^2+(X[{i}+1]-X[{k}+1])^2+(X[{i}+2]-X[{k}+2])^2)^0.5 - ((X[{k}]-X[{j}])^2+(X[{k}+1]-X[{j}+1])^2+(X[{k}+2]-X[{j}+2])^2)^0.5\"), \n",
    "                                        Interval(-oo,0))  \n",
    "                    li_ctf.append(ctc_f)\"\"\"\n",
    "    "
   ]
  },
  {
   "cell_type": "code",
   "execution_count": null,
   "metadata": {},
   "outputs": [],
   "source": [
    "def contract(X):\n",
    "    x = X\n",
    "     \n",
    "    for (l,k), [mini,maxi] in dico_interval.items():\n",
    "        i = 3*l \n",
    "        j = 3*k \n",
    "        a = IntervalVector([x[i],x[i+1],x[i+2]])\n",
    "        b = IntervalVector([x[j],x[j+1],x[j+2]])\n",
    "        ctc.dist.contract(a,b,Interval(mini, maxi))\n",
    "        x[i],x[i+1],x[i+2] = a\n",
    "        x[j],x[j+1],x[j+2] = b\n",
    "    return x"
   ]
  },
  {
   "cell_type": "code",
   "execution_count": null,
   "metadata": {},
   "outputs": [],
   "source": [
    "def C_in(X, li_f, li_interval):\n",
    "    if (empty(X)):\n",
    "        return False\n",
    "    in_it = True\n",
    "    for i in range(len(li_f)//2):\n",
    "        eval = li_f[i].eval(X)\n",
    "        mini, maxi = li_interval[i]\n",
    "        if ((eval.lb() < mini) or (eval.ub()>maxi)):\n",
    "            #in_it = False\n",
    "            return False\n",
    "    return True"
   ]
  },
  {
   "cell_type": "code",
   "execution_count": null,
   "metadata": {},
   "outputs": [],
   "source": [
    "def C_out(X,li_f, li_interval):\n",
    "    out_it = False\n",
    "    for i in range(len(li_f)//2):\n",
    "        eval = li_f[i].eval(X)\n",
    "        mini, maxi = li_interval[i]\n",
    "        if ((eval.lb()> maxi) or (eval.ub() < mini)):\n",
    "            out_it = True\n",
    "    return out_it"
   ]
  },
  {
   "cell_type": "code",
   "execution_count": null,
   "metadata": {},
   "outputs": [],
   "source": [
    "def get_largest(X):\n",
    "    max_index = 0\n",
    "    for i in range(M*3):\n",
    "        if (X[max_index].diam() < X[i].diam()):\n",
    "            max_index = i\n",
    "    return max_index"
   ]
  },
  {
   "cell_type": "code",
   "execution_count": null,
   "metadata": {},
   "outputs": [],
   "source": [
    "def empty(X):\n",
    "    for i in range(M*3):\n",
    "        if X[i].is_empty():\n",
    "            return True\n",
    "    return False"
   ]
  },
  {
   "cell_type": "code",
   "execution_count": null,
   "metadata": {},
   "outputs": [],
   "source": [
    "C_in(X,li_f, li_interval)"
   ]
  },
  {
   "cell_type": "code",
   "execution_count": null,
   "metadata": {},
   "outputs": [],
   "source": [
    "X[0]"
   ]
  },
  {
   "cell_type": "code",
   "execution_count": null,
   "metadata": {},
   "outputs": [],
   "source": [
    "def iteration(stack, stack_acc, stack_rej, stack_unc):\n",
    "    X = stack.pop()\n",
    "    count +=1\n",
    "    X = contract(X)\n",
    "    if not empty(X):\n",
    "        if (C_in(X,li_f, li_interval)):\n",
    "            sol = True\n",
    "            print(\"sol\")\n",
    "            stack_acc.append(X)\n",
    "        else:\n",
    "            if C_out(X, li_f, li_interval):\n",
    "                stack_rej.append(X)\n",
    "            else:\n",
    "                larger_index = get_largest(X)\n",
    "                if X[larger_index].diam() > tau:\n",
    "                    X_left, X_right  = X.bisect(larger_index)\n",
    "                    if not (empty(X_left)):\n",
    "                        stack.append(X_left)\n",
    "                    if not (empty(X_right)):\n",
    "                        stack.append(X_right)\n",
    "                else:\n",
    "                    stack_unc.append(X)\n",
    "    return stack, stack_acc, stack_rej, stack_unc"
   ]
  },
  {
   "cell_type": "code",
   "execution_count": null,
   "metadata": {},
   "outputs": [],
   "source": [
    "tau = 0.5\n",
    "stack = [IntervalVector(M*3,(-10,10))]\n",
    "stack_acc = deque()\n",
    "stack_rej = deque()\n",
    "stack_unc = deque()\n",
    "sol = False\n",
    "count = 0\n",
    "while len(stack) !=0 and (not sol):\n",
    "    X = stack.pop()\n",
    "    count +=1\n",
    "    X = contract(X)\n",
    "    if not empty(X):\n",
    "        if (C_in(X,li_f, li_interval)):\n",
    "            sol = True\n",
    "            print(\"sol\")\n",
    "            stack_acc.append(X)\n",
    "        else:\n",
    "            if C_out(X, li_f, li_interval):\n",
    "                stack_rej.append(X)\n",
    "            else:\n",
    "                larger_index = get_largest(X)\n",
    "                if X[larger_index].diam() > tau:\n",
    "                    X_left, X_right  = X.bisect(larger_index)\n",
    "                    if not (empty(X_left)):\n",
    "                        stack.append(X_left)\n",
    "                    if not (empty(X_right)):\n",
    "                        stack.append(X_right)\n",
    "                else:\n",
    "                    stack_unc.append(X)\n",
    "    \n",
    "    \n",
    "\n",
    "\n",
    "    \n",
    "        "
   ]
  },
  {
   "cell_type": "code",
   "execution_count": null,
   "metadata": {},
   "outputs": [],
   "source": [
    "X"
   ]
  },
  {
   "cell_type": "code",
   "execution_count": null,
   "metadata": {},
   "outputs": [],
   "source": [
    "solution = stack_acc.pop()"
   ]
  },
  {
   "cell_type": "code",
   "execution_count": null,
   "metadata": {},
   "outputs": [],
   "source": [
    "empty(solution)"
   ]
  },
  {
   "cell_type": "code",
   "execution_count": null,
   "metadata": {},
   "outputs": [],
   "source": [
    "a = stack.pop()\n",
    "b= a.copy()"
   ]
  },
  {
   "cell_type": "code",
   "execution_count": null,
   "metadata": {},
   "outputs": [],
   "source": [
    "a[10].diam()"
   ]
  },
  {
   "cell_type": "code",
   "execution_count": null,
   "metadata": {},
   "outputs": [],
   "source": [
    "a"
   ]
  },
  {
   "cell_type": "code",
   "execution_count": null,
   "metadata": {},
   "outputs": [],
   "source": [
    "b"
   ]
  },
  {
   "cell_type": "markdown",
   "metadata": {},
   "source": [
    "# Lsbuild"
   ]
  },
  {
   "cell_type": "markdown",
   "metadata": {},
   "source": [
    "## Clique"
   ]
  },
  {
   "cell_type": "code",
   "execution_count": 5,
   "metadata": {},
   "outputs": [],
   "source": [
    "G = nx.Graph()"
   ]
  },
  {
   "cell_type": "code",
   "execution_count": 6,
   "metadata": {},
   "outputs": [],
   "source": [
    "G.add_nodes_from([i for i in range(63)])"
   ]
  },
  {
   "cell_type": "code",
   "execution_count": 7,
   "metadata": {},
   "outputs": [],
   "source": [
    "for (i,j), (mini, maxi) in dico_interval.items():\n",
    "    G.add_edges_from([(i,j,{\"mini\":mini, \"maxi\":maxi})])"
   ]
  },
  {
   "cell_type": "code",
   "execution_count": 8,
   "metadata": {},
   "outputs": [],
   "source": [
    "cliques = nx.find_cliques(G)"
   ]
  },
  {
   "cell_type": "code",
   "execution_count": 9,
   "metadata": {},
   "outputs": [],
   "source": [
    "maxi_clique = max(nx.find_cliques(G), key=len)"
   ]
  },
  {
   "cell_type": "code",
   "execution_count": 10,
   "metadata": {},
   "outputs": [],
   "source": [
    "sub = nx.Graph()\n",
    "for node in maxi_clique:\n",
    "    sub.add_node(node)"
   ]
  },
  {
   "cell_type": "code",
   "execution_count": 11,
   "metadata": {},
   "outputs": [],
   "source": [
    "for (i,j), (mini, maxi) in dico_interval.items():\n",
    "    if i in maxi_clique and j in maxi_clique:\n",
    "        sub.add_edges_from([(i,j,{\"mini\":mini, \"maxi\":maxi})])"
   ]
  },
  {
   "cell_type": "code",
   "execution_count": null,
   "metadata": {},
   "outputs": [],
   "source": [
    "list(sub.nodes)"
   ]
  },
  {
   "cell_type": "code",
   "execution_count": 12,
   "metadata": {},
   "outputs": [],
   "source": [
    "def get_edm(nodes,t, graph):\n",
    "    n = len(nodes)\n",
    "    matrix = np.zeros((n,n))\n",
    "    for k in range(n-1):\n",
    "        for l in range(k+1,n):\n",
    "            i = nodes[k]\n",
    "            j = nodes[l]\n",
    "            low = graph.get_edge_data(i,j)[\"mini\"]\n",
    "            up = graph.get_edge_data(i,j)[\"maxi\"]\n",
    "            matrix[k,l] = (1-t[k,l])*low + t[k,l]*up\n",
    "            matrix[l,k] = (1-t[k,l])*low + t[k,l]*up\n",
    "    return matrix"
   ]
  },
  {
   "cell_type": "code",
   "execution_count": 13,
   "metadata": {},
   "outputs": [],
   "source": [
    "def get_x(EDM):\n",
    "    U, S, Vh = np.linalg.svd(EDM)\n",
    "    x = U[:,:3]\n",
    "    return x"
   ]
  },
  {
   "cell_type": "code",
   "execution_count": 14,
   "metadata": {},
   "outputs": [],
   "source": [
    "lamb = 1\n",
    "tau = 0.1\n",
    "\n",
    "def theta(x,i,j,c):\n",
    "    return (lamb**2 *(c-np.sqrt(np.linalg.norm(x[3*i:3*(i+1)]-x[3*j:3*(j+1)])**2 + tau**2))**2 + tau**2)\n",
    "def phi(x,i,j, low,up):\n",
    "    value = lamb*(low - up) + theta(x,i,j,low) + theta(x,i,j,up)\n",
    "    return value\n",
    "def cost(x,nodes,graph):\n",
    "    n = len(nodes)\n",
    "    cost_value = 0\n",
    "    for k in range(n-1):\n",
    "        for l in range(k+1,n):\n",
    "            i = nodes[k]\n",
    "            j = nodes[l]\n",
    "            low = graph.get_edge_data(i,j)[\"mini\"]\n",
    "            up = graph.get_edge_data(i,j)[\"maxi\"]\n",
    "            cost_value += phi(x,k,l,low,up)\n",
    "    return cost_value\n"
   ]
  },
  {
   "cell_type": "code",
   "execution_count": 15,
   "metadata": {},
   "outputs": [],
   "source": [
    "def get_n_error(X,nodes, graph):\n",
    "    n = len(nodes)\n",
    "    count = 0\n",
    "    relative_error = []\n",
    "    count_tot = 0\n",
    "    for k in range(n-1):\n",
    "        for l in range(k+1,n):\n",
    "            i = nodes[k]\n",
    "            j = nodes[l]\n",
    "            count_tot += 1\n",
    "            low = graph.get_edge_data(i,j)[\"mini\"]\n",
    "            up = graph.get_edge_data(i,j)[\"maxi\"]\n",
    "            dist = np.linalg.norm(X[k]-X[l])\n",
    "            print(f\"edge: ({i,j}\")\n",
    "            print(dist)\n",
    "            print(f\"low : {low}    up : {up}\")\n",
    "            print()\n",
    "            if (dist>up or dist < low):\n",
    "                count += 1\n",
    "                relative_error.append(np.min([np.abs(dist-low)/low,np.abs(dist-up)/up]))\n",
    "\n",
    "    return"
   ]
  },
  {
   "cell_type": "code",
   "execution_count": 16,
   "metadata": {},
   "outputs": [],
   "source": [
    "t = np.ones((9,9)) * 0.7\n",
    "D = get_edm(list(sub.nodes),t,sub)\n",
    "x = get_x(D)\n",
    "res = minimize(cost,x.flatten(),args=(list(sub.nodes),sub),method='BFGS')\n",
    "X = res.x.reshape(9,3)"
   ]
  },
  {
   "cell_type": "code",
   "execution_count": null,
   "metadata": {},
   "outputs": [],
   "source": [
    "get_n_error(X,list(sub.nodes),sub)"
   ]
  },
  {
   "cell_type": "code",
   "execution_count": 17,
   "metadata": {},
   "outputs": [],
   "source": [
    "dico_index_to_X = {}\n",
    "dico_X_to_index = {}\n",
    "count = 0\n",
    "for node in list(sub.nodes):\n",
    "    dico_index_to_X[node] = count\n",
    "    count += 1\n",
    "count = 0\n",
    "for node in list(sub.nodes):\n",
    "    dico_X_to_index[count] = node\n",
    "    count += 1 "
   ]
  },
  {
   "cell_type": "code",
   "execution_count": 18,
   "metadata": {},
   "outputs": [
    {
     "data": {
      "text/plain": [
       "{18: 0, 20: 1, 21: 2, 19: 3, 22: 4, 24: 5, 25: 6, 26: 7, 23: 8}"
      ]
     },
     "execution_count": 18,
     "metadata": {},
     "output_type": "execute_result"
    }
   ],
   "source": [
    "dico_index_to_X"
   ]
  },
  {
   "cell_type": "code",
   "execution_count": 19,
   "metadata": {},
   "outputs": [],
   "source": [
    "def best_node(nodes_base,node_to_choose, graph):\n",
    "    counter = [[] for _ in range(len(node_to_choose))]\n",
    "    for (i,j) in graph.edges:\n",
    "        if ((i in nodes_base) and (j not in nodes_base)):\n",
    "            counter[j].append(i)\n",
    "        if ((j in nodes_base) and (i not in nodes_base)):\n",
    "            counter[i].append(j)\n",
    "    for i in range(len(counter)):\n",
    "        if (len(counter[i])>=3):\n",
    "            return i, counter[i]\n"
   ]
  },
  {
   "cell_type": "code",
   "execution_count": 20,
   "metadata": {},
   "outputs": [],
   "source": [
    "node, node_base_connected = best_node(list(sub.nodes), list(G.nodes), G)"
   ]
  },
  {
   "cell_type": "code",
   "execution_count": 21,
   "metadata": {},
   "outputs": [
    {
     "data": {
      "text/plain": [
       "array([[ 0.92379823, -3.5731522 , -0.09978916],\n",
       "       [ 1.02014942, -1.09452151,  0.45208743],\n",
       "       [ 0.5266358 , -1.48538446, -1.18061632],\n",
       "       [-0.94895303, -2.13476559,  1.38241174],\n",
       "       [-1.2133437 ,  0.10901311, -1.18948256],\n",
       "       [ 0.4240286 ,  1.58868486,  0.84494465],\n",
       "       [-1.3290413 ,  2.28799029, -1.21421349],\n",
       "       [-1.01081181,  4.10579787,  0.04746002],\n",
       "       [-1.35792877,  0.11808317,  0.55467378]])"
      ]
     },
     "execution_count": 21,
     "metadata": {},
     "output_type": "execute_result"
    }
   ],
   "source": [
    "X"
   ]
  },
  {
   "cell_type": "code",
   "execution_count": 22,
   "metadata": {},
   "outputs": [],
   "source": [
    "def update_EDM(D, X, nodes_base, dico_index_to_X):\n",
    "    n = len(nodes_base)\n",
    "    for k in range(n-1):\n",
    "        for l in range(k+1, n):\n",
    "            i = dico_index_to_X[nodes_base[k]]\n",
    "            j = dico_index_to_X[nodes_base[l]]\n",
    "            D[i,j] = np.linalg.norm(X[i] - X[j])\n",
    "            D[j,i] = np.linalg.norm(X[i] - X[j])\n",
    "    return D"
   ]
  },
  {
   "cell_type": "code",
   "execution_count": 24,
   "metadata": {},
   "outputs": [
    {
     "name": "stdout",
     "output_type": "stream",
     "text": [
      "{'mini': 3.280604499173894, 'maxi': 3.346886033315147}\n",
      "{'mini': 3.185788056352778, 'maxi': 3.250153913278571}\n",
      "{'mini': 2.469650991537058, 'maxi': 2.519547971363112}\n"
     ]
    }
   ],
   "source": [
    "print(G.get_edge_data(10,18))\n",
    "print(G.get_edge_data(10,20))\n",
    "print(G.get_edge_data(10,21))"
   ]
  },
  {
   "cell_type": "markdown",
   "metadata": {},
   "source": [
    "## Compute 10th atom"
   ]
  },
  {
   "cell_type": "code",
   "execution_count": 25,
   "metadata": {},
   "outputs": [],
   "source": [
    "def get_f_ctc(node_base_connected, node_to_solve, graph):\n",
    "    li_ctc = []\n",
    "    li_constrains = []\n",
    "    li_f = []\n",
    "    for atom in node_base_connected:\n",
    "        low = graph.get_edge_data(node_to_solve,atom)[\"mini\"]\n",
    "        up = graph.get_edge_data(node_to_solve,atom)[\"maxi\"]\n",
    "        li_constrains.append([low,up])\n",
    "        center = X[dico_index_to_X[atom]]\n",
    "        f = Function(\"x[3]\", f\"sqrt(sqr(x[0]-{center[0]})+sqr(x[1]-{center[1]})+sqr(x[2]-{center[2]}))\")\n",
    "        li_f.append(f)\n",
    "        contractor = CtcFunction(f, Interval(low,up))\n",
    "        li_ctc.append(contractor)\n",
    "    return li_ctc,li_f, li_constrains\n"
   ]
  },
  {
   "cell_type": "code",
   "execution_count": 26,
   "metadata": {},
   "outputs": [],
   "source": [
    "li_ctc, li_f, li_constrains = get_f_ctc(node_base_connected, node, G)"
   ]
  },
  {
   "cell_type": "code",
   "execution_count": null,
   "metadata": {},
   "outputs": [],
   "source": [
    "len(li_f)"
   ]
  },
  {
   "cell_type": "code",
   "execution_count": 27,
   "metadata": {},
   "outputs": [],
   "source": [
    "def contract(x,li_ctc):\n",
    "    for ctc in li_ctc:\n",
    "        ctc.contract(x)\n",
    "    "
   ]
  },
  {
   "cell_type": "code",
   "execution_count": 28,
   "metadata": {},
   "outputs": [],
   "source": [
    "def empty(X):\n",
    "    for i in range(3):\n",
    "        if X[i].is_empty():\n",
    "            return True\n",
    "    return False"
   ]
  },
  {
   "cell_type": "code",
   "execution_count": 29,
   "metadata": {},
   "outputs": [],
   "source": [
    "def C_in(X, li_f, li_constrains):\n",
    "    if (empty(X)):\n",
    "        return False\n",
    "    for i in range(len(li_f)):\n",
    "        eval = li_f[i].eval(X)\n",
    "        low, up = li_constrains[i]\n",
    "        if ((eval.lb() < low) or (eval.ub()>up)):\n",
    "            #in_it = False\n",
    "            return False\n",
    "    return True"
   ]
  },
  {
   "cell_type": "code",
   "execution_count": 30,
   "metadata": {},
   "outputs": [],
   "source": [
    "def C_out(X,li_f, li_constrains):\n",
    "    out_it = False\n",
    "    for i in range(len(li_f)):\n",
    "        eval = li_f[i].eval(X)\n",
    "        low, up = li_constrains[i]\n",
    "        if ((eval.lb()> up) or (eval.ub() < low)):\n",
    "            print(i)\n",
    "            out_it = True\n",
    "    return out_it"
   ]
  },
  {
   "cell_type": "code",
   "execution_count": 31,
   "metadata": {},
   "outputs": [],
   "source": [
    "def get_largest(X):\n",
    "    max_index = 0\n",
    "    for i in range(3):\n",
    "        if (X[max_index].diam() < X[i].diam()):\n",
    "            max_index = i\n",
    "    return max_index"
   ]
  },
  {
   "cell_type": "code",
   "execution_count": 32,
   "metadata": {},
   "outputs": [
    {
     "name": "stdout",
     "output_type": "stream",
     "text": [
      "0\n",
      "0\n",
      "0\n",
      "0\n",
      "0\n",
      "sol\n"
     ]
    }
   ],
   "source": [
    "tau = 0.000001\n",
    "stack = [IntervalVector([[-10,10] for _ in range(3)])]\n",
    "stack_acc = []\n",
    "stack_rej = []\n",
    "stack_unc = []\n",
    "sol = False\n",
    "count = 0\n",
    "while len(stack) !=0 and (not sol):\n",
    "    x = stack.pop()\n",
    "    count +=1\n",
    "    contract(x, li_ctc)\n",
    "    if not empty(x):\n",
    "        if (C_in(x,li_f, li_constrains)):\n",
    "            sol = True\n",
    "            print(\"sol\")\n",
    "            stack_acc.append(x)\n",
    "        else:\n",
    "            if C_out(x, li_f, li_constrains):\n",
    "                stack_rej.append(x)\n",
    "            else:\n",
    "                larger_index = get_largest(x)\n",
    "                if x[larger_index].diam() > tau:\n",
    "                    X_left, X_right  = x.bisect(larger_index)\n",
    "                    if not (empty(X_left)):\n",
    "                        stack.append(X_left)\n",
    "                    if not (empty(X_right)):\n",
    "                        stack.append(X_right)\n",
    "                else:\n",
    "                    stack_unc.append(x)"
   ]
  },
  {
   "cell_type": "code",
   "execution_count": 33,
   "metadata": {},
   "outputs": [
    {
     "data": {
      "text/plain": [
       "([2.801218788572244, 2.801219311835224] ; [-1.680632378044126, -1.680631858955939] ; [-2.123474646522542, -2.123473675635291])"
      ]
     },
     "execution_count": 33,
     "metadata": {},
     "output_type": "execute_result"
    }
   ],
   "source": [
    "stack_acc[0]"
   ]
  },
  {
   "cell_type": "code",
   "execution_count": 34,
   "metadata": {},
   "outputs": [
    {
     "name": "stdout",
     "output_type": "stream",
     "text": [
      "Low : 3.3468848592262983    Up : 3.346886033314764\n",
      "Needed low : 3.280604499173894    Needed Up : 3.346886033315147\n",
      "\n",
      "Low : 3.185788515607867    Up : 3.185789688563983\n",
      "Needed low : 3.185788056352778    Needed Up : 3.250153913278571\n",
      "\n",
      "Low : 2.469985694327776    Up : 2.469986587840734\n",
      "Needed low : 2.469650991537058    Needed Up : 2.519547971363112\n",
      "\n"
     ]
    }
   ],
   "source": [
    "count = 0\n",
    "for node_base in node_base_connected:\n",
    "    bounds = li_f[count].eval(stack_acc[0])\n",
    "    print(f\"Low : {bounds.lb()}    Up : {bounds.ub()}\")\n",
    "    print(f\"Needed low : {G.get_edge_data(node,node_base)['mini']}    Needed Up : {G.get_edge_data(node,node_base)['maxi']}\")\n",
    "    print()\n",
    "    count +=1"
   ]
  },
  {
   "cell_type": "code",
   "execution_count": null,
   "metadata": {},
   "outputs": [],
   "source": [
    "links"
   ]
  },
  {
   "cell_type": "code",
   "execution_count": null,
   "metadata": {},
   "outputs": [],
   "source": []
  }
 ],
 "metadata": {
  "kernelspec": {
   "display_name": "map588",
   "language": "python",
   "name": "python3"
  },
  "language_info": {
   "codemirror_mode": {
    "name": "ipython",
    "version": 3
   },
   "file_extension": ".py",
   "mimetype": "text/x-python",
   "name": "python",
   "nbconvert_exporter": "python",
   "pygments_lexer": "ipython3",
   "version": "3.9.16"
  }
 },
 "nbformat": 4,
 "nbformat_minor": 2
}
