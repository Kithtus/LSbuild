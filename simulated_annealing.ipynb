{
 "cells": [
  {
   "cell_type": "code",
   "execution_count": 61,
   "metadata": {},
   "outputs": [],
   "source": [
    "import os\n",
    "import pandas as pd\n",
    "import numpy as np\n",
    "import matplotlib.pyplot as plt\n",
    "from codac import Interval, IntervalVector, CtcDist, Function,CtcFunction\n",
    "from collections import deque\n",
    "import networkx as nx\n",
    "from scipy.optimize import minimize"
   ]
  },
  {
   "cell_type": "code",
   "execution_count": 62,
   "metadata": {},
   "outputs": [],
   "source": [
    "f= open(\"graph_02.txt\", mode=\"r\")\n",
    "li = []\n",
    "for line in f:\n",
    "    li.append(line)"
   ]
  },
  {
   "cell_type": "code",
   "execution_count": 63,
   "metadata": {},
   "outputs": [],
   "source": [
    "f.close()"
   ]
  },
  {
   "cell_type": "code",
   "execution_count": 64,
   "metadata": {},
   "outputs": [],
   "source": [
    "dico_constrains = {}\n",
    "n= 63\n",
    "dico_interval = {}\n",
    "dico_interval_origin = {}\n",
    "for elem in li:\n",
    "    i = int(elem[6:8].split(\" \")[-1])-1\n",
    "    j = int(elem[16:18].split(\" \")[-1])-1\n",
    "    mini = float(elem[21:42])\n",
    "    maxi = float(elem[45:-1])\n",
    "    dico_constrains[(i,j)] = (maxi + mini)/2\n",
    "    dico_interval[(i,j)] = [mini, maxi]\n",
    "    dico_interval_origin[(i,j)] = [mini, maxi]\n",
    "    #dico_interval[(j,i)] = [mini, maxi]"
   ]
  },
  {
   "cell_type": "code",
   "execution_count": 5,
   "metadata": {},
   "outputs": [],
   "source": [
    "G = nx.Graph()\n",
    "G.add_nodes_from([i for i in range(63)])\n",
    "for (i,j), (mini, maxi) in dico_interval.items():\n",
    "    G.add_edges_from([(i,j,{\"mini\":mini, \"maxi\":maxi})])"
   ]
  },
  {
   "cell_type": "code",
   "execution_count": 6,
   "metadata": {},
   "outputs": [],
   "source": [
    "eps = 1e-8\n",
    "link = dict(nx.all_pairs_dijkstra(G))\n",
    "for i in range(n-1):\n",
    "    pairs = link[i][1]\n",
    "    for j in range(i+1,n):\n",
    "        if ((i,j) not in dico_interval.keys()) and i!=j:\n",
    "            path = pairs[j]\n",
    "            maxi = 0\n",
    "            for k in range(len(path)-1):\n",
    "                u = path[k]\n",
    "                v = path[k+1]\n",
    "                maxi += G.get_edge_data(u,v)[\"maxi\"]\n",
    "            G.add_edges_from([(i,j,{\"mini\":eps, \"maxi\":maxi})])\n",
    "            dico_interval[(i,j)] = [eps,maxi]\n",
    "            \n"
   ]
  },
  {
   "cell_type": "code",
   "execution_count": 7,
   "metadata": {},
   "outputs": [
    {
     "data": {
      "text/plain": [
       "[<matplotlib.lines.Line2D at 0x2607eaa36d0>]"
      ]
     },
     "execution_count": 7,
     "metadata": {},
     "output_type": "execute_result"
    },
    {
     "data": {
      "image/png": "[encoded data removed]",
      "text/plain": [
       "<Figure size 640x480 with 1 Axes>"
      ]
     },
     "metadata": {},
     "output_type": "display_data"
    }
   ],
   "source": [
    "n_contraintes = np.zeros(63)\n",
    "for (i,j) in dico_interval.keys():\n",
    "    n_contraintes[i] +=1\n",
    "    n_contraintes[j] +=1\n",
    "plt.plot(n_contraintes)"
   ]
  },
  {
   "cell_type": "markdown",
   "metadata": {},
   "source": [
    "# Evolution"
   ]
  },
  {
   "cell_type": "code",
   "execution_count": null,
   "metadata": {},
   "outputs": [],
   "source": [
    "def c_in(X,dico_interval):\n",
    "    count = 0\n",
    "    for key, value in dico_interval.items():\n",
    "        i,j = key\n",
    "        mini,maxi = value\n",
    "        if (np.linalg.norm(X[i]-X[j]) > mini and np.linalg.norm(X[i]-X[j]) < maxi):\n",
    "            count += 1\n",
    "    return count"
   ]
  },
  {
   "cell_type": "code",
   "execution_count": null,
   "metadata": {},
   "outputs": [],
   "source": [
    "def error(X,dico_interval):\n",
    "    li = []\n",
    "    for key, value in dico_interval.items():\n",
    "        i,j = key\n",
    "        mini,maxi = value\n",
    "        li.append([np.linalg.norm(X[i]-X[j]), mini, maxi])\n",
    "    return li"
   ]
  },
  {
   "cell_type": "code",
   "execution_count": null,
   "metadata": {},
   "outputs": [],
   "source": [
    "def cost_indiv(X, dico_interval):\n",
    "    cout = 0\n",
    "    for key, value in dico_interval.items():\n",
    "        i,j = key\n",
    "        mini, maxi = value\n",
    "        mean = (maxi+mini)/2\n",
    "        dist = np.linalg.norm(X[i]-X[j])\n",
    "        cout += np.max([(maxi**2 -dist**2)/maxi**2, (dist**2 - mini**2)/mini**2, 0])\n",
    "        #cout += (dist**2  - mean**2)**2 \n",
    "    return cout"
   ]
  },
  {
   "cell_type": "code",
   "execution_count": null,
   "metadata": {},
   "outputs": [],
   "source": [
    "def cost(X,dico_interval):\n",
    "    n = X.shape[0]\n",
    "    li_cost = np.zeros(n)\n",
    "    for i in range(n):\n",
    "        li_cost[i] = cost_indiv(X[i],dico_interval)\n",
    "    return li_cost"
   ]
  },
  {
   "cell_type": "code",
   "execution_count": null,
   "metadata": {},
   "outputs": [],
   "source": [
    "def select(X,cost, frac = 0.7):\n",
    "    ordering = np.argsort(cost)\n",
    "    n = int(frac*ordering.shape[0])\n",
    "    X_child = X[ordering[:n]]\n",
    "    return X_child\n"
   ]
  },
  {
   "cell_type": "code",
   "execution_count": null,
   "metadata": {},
   "outputs": [],
   "source": [
    "def variation(X,i):\n",
    "    atoms = np.random.choice([i for i in range(63)],size=X.shape[0], replace=True)\n",
    "    X[:,atoms,:] += np.random.normal(loc=0, scale=0.02,size=(X.shape[0],3))\n",
    "    return X\n"
   ]
  },
  {
   "cell_type": "code",
   "execution_count": null,
   "metadata": {},
   "outputs": [],
   "source": [
    "def remplacement(X,X_child,cost_X, cost_child):\n",
    "    n = X.shape[0]\n",
    "    cost_tot = np.concatenate([cost_X,cost_child])\n",
    "    ordering = np.argsort(cost_tot)[:n]\n",
    "    X_tot = np.concatenate([X, X_child])\n",
    "    return X_tot[ordering], cost_tot[ordering]\n"
   ]
  },
  {
   "cell_type": "code",
   "execution_count": null,
   "metadata": {},
   "outputs": [],
   "source": [
    "X = np.random.normal(loc=0, scale= 10,size=(200,63,3))\n",
    "cost_X = cost(X, dico_interval)\n",
    "mean = np.mean(cost_X)\n",
    "N_iter = 1000\n",
    "n = 0\n",
    "while n<N_iter:\n",
    "    if (n%10 == 0):\n",
    "        print(n)\n",
    "    X_child =  select(X, cost_X, frac=0.7)\n",
    "    X_child = variation(X_child,i)\n",
    "    cost_child = cost(X_child, dico_interval)\n",
    "    X, cost_X = remplacement(X,X_child, cost_X,cost_child)\n",
    "    n += 1\n"
   ]
  },
  {
   "cell_type": "code",
   "execution_count": null,
   "metadata": {},
   "outputs": [],
   "source": [
    "c_in(X,dico_interval)"
   ]
  },
  {
   "cell_type": "code",
   "execution_count": null,
   "metadata": {},
   "outputs": [],
   "source": [
    "cost_X[0]"
   ]
  },
  {
   "cell_type": "code",
   "execution_count": null,
   "metadata": {},
   "outputs": [],
   "source": [
    "li = error(X[0], dico_interval)"
   ]
  },
  {
   "cell_type": "markdown",
   "metadata": {},
   "source": [
    "# SPE"
   ]
  },
  {
   "cell_type": "code",
   "execution_count": 39,
   "metadata": {},
   "outputs": [],
   "source": [
    "def cost_indiv(X, dico_interval):\n",
    "    cout = 0\n",
    "    for key, value in dico_interval.items():\n",
    "        i,j = key\n",
    "        mini, maxi = value\n",
    "        dist = np.linalg.norm(X[i]-X[j])\n",
    "        cout += np.max([(maxi**2 -dist**2)/maxi**2, (dist**2 - mini**2)/mini**2, 0])\n",
    "    return cout"
   ]
  },
  {
   "cell_type": "code",
   "execution_count": 40,
   "metadata": {},
   "outputs": [],
   "source": [
    "def has_terminated(X, dico_interval):\n",
    "    for key, value in dico_interval.items():\n",
    "        i,j = key\n",
    "        mini, maxi = value\n",
    "        dist = np.linalg.norm(X[i]-X[j])\n",
    "        if dist>maxi or dist<mini:\n",
    "            return False\n",
    "    return True"
   ]
  },
  {
   "cell_type": "code",
   "execution_count": 49,
   "metadata": {},
   "outputs": [],
   "source": [
    "def choose_constrain(dico_interval):\n",
    "    index = np.random.choice([i for i in range(len(list(dico_interval.keys())))])\n",
    "    return list(dico_interval.keys())[index]"
   ]
  },
  {
   "cell_type": "code",
   "execution_count": 50,
   "metadata": {},
   "outputs": [
    {
     "data": {
      "text/plain": [
       "(45, 48)"
      ]
     },
     "execution_count": 50,
     "metadata": {},
     "output_type": "execute_result"
    }
   ],
   "source": [
    "choose_constrain(dico_interval)"
   ]
  },
  {
   "cell_type": "code",
   "execution_count": 56,
   "metadata": {},
   "outputs": [],
   "source": [
    "def iter(X,dico_interval, l):\n",
    "    (i,j) = choose_constrain(dico_interval)\n",
    "    low, up = dico_interval[(i,j)]\n",
    "    dist = np.linalg.norm(X[i] - X[j])\n",
    "    if dist<low or dist>up:\n",
    "        dist_low = np.abs(dist - low)\n",
    "        dist_up = np.abs(dist - up)\n",
    "        if dist_low < dist_up:\n",
    "            t = low\n",
    "        else:\n",
    "            t = up\n",
    "        X[j] = X[j] + l*(t-dist)/(2*(dist + eps))* (X[j] - X[i])\n",
    "        X[i] = X[i] + l*(t-dist)/(2*(dist + eps))* (X[i] - X[j])\n",
    "    return X\n",
    "        "
   ]
  },
  {
   "cell_type": "code",
   "execution_count": 57,
   "metadata": {},
   "outputs": [],
   "source": [
    "def cycle(X,dico_interval,l,S):\n",
    "    for _ in range(S):\n",
    "        X = iter(X,dico_interval,l)\n",
    "    return X"
   ]
  },
  {
   "cell_type": "code",
   "execution_count": 58,
   "metadata": {},
   "outputs": [],
   "source": [
    "def update_param(l,delta):\n",
    "    return l*delta"
   ]
  },
  {
   "cell_type": "code",
   "execution_count": 60,
   "metadata": {},
   "outputs": [
    {
     "name": "stdout",
     "output_type": "stream",
     "text": [
      "0\n",
      "1\n",
      "2\n",
      "3\n",
      "4\n",
      "5\n",
      "6\n",
      "7\n",
      "8\n",
      "9\n",
      "10\n",
      "11\n",
      "12\n",
      "13\n",
      "14\n",
      "15\n",
      "16\n",
      "17\n",
      "18\n",
      "19\n",
      "20\n",
      "21\n",
      "22\n",
      "23\n",
      "24\n",
      "25\n",
      "26\n",
      "27\n",
      "28\n",
      "29\n",
      "30\n",
      "31\n",
      "32\n",
      "33\n",
      "34\n",
      "35\n",
      "36\n",
      "37\n",
      "38\n",
      "39\n",
      "40\n",
      "41\n",
      "42\n",
      "43\n",
      "44\n",
      "45\n",
      "46\n",
      "47\n",
      "48\n",
      "49\n"
     ]
    }
   ],
   "source": [
    "X = np.random.uniform(low=-20,high=20, size=(63,3))\n",
    "eps = 1e-10\n",
    "l = 1e-2\n",
    "n_cycle = 0\n",
    "while not has_terminated(X,dico_interval) and n_cycle<50:\n",
    "    print(n_cycle)\n",
    "    X = cycle(X, dico_interval,l,50*236)\n",
    "    l = update_param(l,0.9/50)\n",
    "    n_cycle+=1"
   ]
  },
  {
   "cell_type": "code",
   "execution_count": 63,
   "metadata": {},
   "outputs": [
    {
     "data": {
      "text/plain": [
       "1103.9897755208065"
      ]
     },
     "execution_count": 63,
     "metadata": {},
     "output_type": "execute_result"
    }
   ],
   "source": [
    "cost_indiv(X,dico_interval)"
   ]
  },
  {
   "cell_type": "code",
   "execution_count": null,
   "metadata": {},
   "outputs": [],
   "source": []
  },
  {
   "cell_type": "markdown",
   "metadata": {},
   "source": [
    "# Codac"
   ]
  },
  {
   "cell_type": "code",
   "execution_count": null,
   "metadata": {},
   "outputs": [],
   "source": [
    "M = 63"
   ]
  },
  {
   "cell_type": "code",
   "execution_count": null,
   "metadata": {},
   "outputs": [],
   "source": [
    "help(Interval)"
   ]
  },
  {
   "cell_type": "code",
   "execution_count": 29,
   "metadata": {},
   "outputs": [],
   "source": [
    "li_f = []\n",
    "li_interval = []\n",
    "li_ctc = []\n",
    "for (l,k), [low,up] in dico_interval.items():\n",
    "    i = 3*l \n",
    "    j = 3*k \n",
    "    f = Function(f\"X[{n*3}]\", f\"sqrt((X[{i}]-X[{j}])^2+(X[{i}+1]-X[{j}+1])^2+(X[{i}+2]-X[{j}+2])^2)\")\n",
    "    li_f.append(f)\n",
    "    contractor = CtcFunction(f, Interval(low,up))\n",
    "    li_ctc.append(contractor)\n",
    "    li_interval.append((low, up))\n",
    "\n",
    "\n",
    "def contract(x,li_ctc):\n",
    "    for ctc in li_ctc:\n",
    "        ctc.contract(x)\n",
    "    \n",
    "def empty(X):\n",
    "    for i in range(3):\n",
    "        if X[i].is_empty():\n",
    "            return True\n",
    "    return False\n",
    "def C_in(X, li_f, li_constrains):\n",
    "    if (empty(X)):\n",
    "        return False\n",
    "    for i in range(len(li_f)):\n",
    "        eval = li_f[i].eval(X)\n",
    "        low, up = li_constrains[i]\n",
    "        if ((eval.lb() < low) or (eval.ub()>up)):\n",
    "            #in_it = False\n",
    "            return False\n",
    "    return True\n",
    "def C_out(X,li_f, li_constrains):\n",
    "    out_it = False\n",
    "    for i in range(len(li_f)):\n",
    "        eval = li_f[i].eval(X)\n",
    "        low, up = li_constrains[i]\n",
    "        if ((eval.lb()> up) or (eval.ub() < low)):\n",
    "            out_it = True\n",
    "    return out_it\n",
    "def get_largest(X):\n",
    "    max_index = 0\n",
    "    for i in range(n*3):\n",
    "        if (X[max_index].diam() < X[i].diam()):\n",
    "            max_index = i\n",
    "    return max_index\n",
    "def mean(vector):\n",
    "    vec = []\n",
    "    for i in range(3):\n",
    "        vec.append((vector[i][0]+vector[i][1])/2)\n",
    "    return np.array(vec).reshape(1,3)"
   ]
  },
  {
   "cell_type": "code",
   "execution_count": 54,
   "metadata": {},
   "outputs": [
    {
     "ename": "KeyboardInterrupt",
     "evalue": "",
     "output_type": "error",
     "traceback": [
      "\u001b[1;31m---------------------------------------------------------------------------\u001b[0m",
      "\u001b[1;31mKeyboardInterrupt\u001b[0m                         Traceback (most recent call last)",
      "\u001b[1;32mc:\\Users\\thoma\\ENSTA\\IA302\\LSbuild\\simulated_annealing.ipynb Cell 35\u001b[0m line \u001b[0;36m1\n\u001b[0;32m     <a href='vscode-notebook-cell:/c%3A/Users/thoma/ENSTA/IA302/LSbuild/simulated_annealing.ipynb#X61sZmlsZQ%3D%3D?line=13'>14</a>\u001b[0m x \u001b[39m=\u001b[39m stack\u001b[39m.\u001b[39mpop()\n\u001b[0;32m     <a href='vscode-notebook-cell:/c%3A/Users/thoma/ENSTA/IA302/LSbuild/simulated_annealing.ipynb#X61sZmlsZQ%3D%3D?line=14'>15</a>\u001b[0m count \u001b[39m+\u001b[39m\u001b[39m=\u001b[39m\u001b[39m1\u001b[39m\n\u001b[1;32m---> <a href='vscode-notebook-cell:/c%3A/Users/thoma/ENSTA/IA302/LSbuild/simulated_annealing.ipynb#X61sZmlsZQ%3D%3D?line=15'>16</a>\u001b[0m contract(x, li_ctc)\n\u001b[0;32m     <a href='vscode-notebook-cell:/c%3A/Users/thoma/ENSTA/IA302/LSbuild/simulated_annealing.ipynb#X61sZmlsZQ%3D%3D?line=16'>17</a>\u001b[0m \u001b[39mif\u001b[39;00m \u001b[39mnot\u001b[39;00m empty(x):\n\u001b[0;32m     <a href='vscode-notebook-cell:/c%3A/Users/thoma/ENSTA/IA302/LSbuild/simulated_annealing.ipynb#X61sZmlsZQ%3D%3D?line=17'>18</a>\u001b[0m     \u001b[39mif\u001b[39;00m (C_in(x,li_f, li_interval)):\n",
      "\u001b[1;32mc:\\Users\\thoma\\ENSTA\\IA302\\LSbuild\\simulated_annealing.ipynb Cell 35\u001b[0m line \u001b[0;36m1\n\u001b[0;32m     <a href='vscode-notebook-cell:/c%3A/Users/thoma/ENSTA/IA302/LSbuild/simulated_annealing.ipynb#X61sZmlsZQ%3D%3D?line=13'>14</a>\u001b[0m \u001b[39mdef\u001b[39;00m \u001b[39mcontract\u001b[39m(x,li_ctc):\n\u001b[0;32m     <a href='vscode-notebook-cell:/c%3A/Users/thoma/ENSTA/IA302/LSbuild/simulated_annealing.ipynb#X61sZmlsZQ%3D%3D?line=14'>15</a>\u001b[0m     \u001b[39mfor\u001b[39;00m ctc \u001b[39min\u001b[39;00m li_ctc:\n\u001b[1;32m---> <a href='vscode-notebook-cell:/c%3A/Users/thoma/ENSTA/IA302/LSbuild/simulated_annealing.ipynb#X61sZmlsZQ%3D%3D?line=15'>16</a>\u001b[0m         ctc\u001b[39m.\u001b[39mcontract(x)\n",
      "\u001b[1;31mKeyboardInterrupt\u001b[0m: "
     ]
    }
   ],
   "source": [
    "tau = 0.5\n",
    "stack = [IntervalVector(n*3,(-20,20))]\n",
    "stack[0][0] = Interval(0,0)\n",
    "stack[0][1] = Interval(0,0)\n",
    "stack[0][2] = Interval(0,0)\n",
    "stack[0][4] = Interval(0,0)\n",
    "stack[0][5] = Interval(0,0)\n",
    "stack[0][6] = Interval(0,0)\n",
    "\n",
    "stack_acc = []\n",
    "stack_rej = []\n",
    "stack_unc = []\n",
    "sol = 0\n",
    "count = 0\n",
    "while len(stack) !=0 and (not sol):\n",
    "    x = stack.pop()\n",
    "    count +=1\n",
    "    contract(x, li_ctc)\n",
    "    if not empty(x):\n",
    "        if (C_in(x,li_f, li_interval)):\n",
    "            sol = True\n",
    "            stack_acc.append(x)\n",
    "        else:\n",
    "            if C_out(x, li_f, li_interval):\n",
    "                stack_rej.append(x)\n",
    "            else:\n",
    "                larger_index = get_largest(x)\n",
    "                if x[larger_index].diam() > tau:\n",
    "                    X_left, X_right  = x.bisect(larger_index)\n",
    "                    if not (empty(X_left)):\n",
    "                        stack.append(X_left)\n",
    "                    if not (empty(X_right)):\n",
    "                        stack.append(X_right)\n",
    "                else:\n",
    "                    stack_unc.append(x)\n",
    "    \n",
    "    \n",
    "\n",
    "\n",
    "    \n",
    "        "
   ]
  },
  {
   "cell_type": "code",
   "execution_count": 59,
   "metadata": {},
   "outputs": [
    {
     "data": {
      "text/plain": [
       "0"
      ]
     },
     "execution_count": 59,
     "metadata": {},
     "output_type": "execute_result"
    }
   ],
   "source": [
    "len(stack_acc)"
   ]
  },
  {
   "cell_type": "code",
   "execution_count": 57,
   "metadata": {},
   "outputs": [
    {
     "data": {
      "text/plain": [
       "3792"
      ]
     },
     "execution_count": 57,
     "metadata": {},
     "output_type": "execute_result"
    }
   ],
   "source": [
    "count"
   ]
  },
  {
   "cell_type": "code",
   "execution_count": null,
   "metadata": {},
   "outputs": [],
   "source": [
    "solution = stack_acc.pop()"
   ]
  },
  {
   "cell_type": "markdown",
   "metadata": {},
   "source": [
    "# Lsbuild"
   ]
  },
  {
   "cell_type": "markdown",
   "metadata": {},
   "source": [
    "## Clique"
   ]
  },
  {
   "cell_type": "code",
   "execution_count": 65,
   "metadata": {},
   "outputs": [],
   "source": [
    "G = nx.Graph()"
   ]
  },
  {
   "cell_type": "code",
   "execution_count": 66,
   "metadata": {},
   "outputs": [],
   "source": [
    "G.add_nodes_from([i for i in range(63)])"
   ]
  },
  {
   "cell_type": "code",
   "execution_count": 67,
   "metadata": {},
   "outputs": [],
   "source": [
    "for (i,j), (mini, maxi) in dico_interval.items():\n",
    "    G.add_edges_from([(i,j,{\"mini\":mini, \"maxi\":maxi})])"
   ]
  },
  {
   "cell_type": "code",
   "execution_count": 87,
   "metadata": {},
   "outputs": [
    {
     "data": {
      "image/png": "[encoded data removed]",
      "text/plain": [
       "<Figure size 640x480 with 1 Axes>"
      ]
     },
     "metadata": {},
     "output_type": "display_data"
    }
   ],
   "source": [
    "nx.draw_networkx(G, pos= nx.spring_layout(G))"
   ]
  },
  {
   "cell_type": "code",
   "execution_count": 69,
   "metadata": {},
   "outputs": [],
   "source": [
    "cliques = nx.find_cliques(G)"
   ]
  },
  {
   "cell_type": "code",
   "execution_count": 70,
   "metadata": {},
   "outputs": [
    {
     "name": "stdout",
     "output_type": "stream",
     "text": [
      "[0, 1, 2, 3, 4]\n",
      "[1, 5, 2, 3]\n",
      "[3, 2, 16, 17]\n",
      "[3, 2, 16, 5]\n",
      "[3, 2, 17, 4]\n",
      "[4, 42, 43]\n",
      "[5, 8, 16]\n",
      "[5, 8, 6, 7]\n",
      "[6, 9, 7]\n",
      "[7, 11, 9]\n",
      "[7, 11, 12]\n",
      "[7, 12, 8]\n",
      "[8, 13, 16, 15]\n",
      "[8, 13, 12]\n",
      "[9, 10]\n",
      "[11, 12, 13]\n",
      "[14, 33, 35]\n",
      "[14, 13, 16, 17, 15]\n",
      "[18, 16, 2]\n",
      "[18, 16, 13]\n",
      "[18, 27, 21]\n",
      "[18, 20, 2]\n",
      "[18, 20, 21, 10]\n",
      "[18, 20, 21, 19, 22, 24, 25, 26, 23]\n",
      "[28, 45, 46]\n",
      "[28, 46, 53]\n",
      "[28, 30, 32, 27, 29, 31]\n",
      "[28, 30, 53]\n",
      "[29, 31, 27, 33]\n",
      "[29, 31, 38, 33]\n",
      "[31, 32, 58]\n",
      "[31, 33, 34, 37, 38]\n",
      "[31, 58, 34]\n",
      "[33, 35, 34, 36, 37, 38]\n",
      "[33, 35, 39]\n",
      "[34, 56, 58, 59, 54]\n",
      "[34, 56, 36]\n",
      "[34, 59, 37]\n",
      "[39, 41, 40, 43, 42, 44]\n",
      "[39, 41, 40, 43, 19]\n",
      "[39, 41, 45]\n",
      "[41, 47, 45]\n",
      "[44, 23, 24]\n",
      "[45, 46, 50]\n",
      "[45, 46, 47, 48, 49]\n",
      "[46, 53, 50]\n",
      "[47, 22, 23]\n",
      "[48, 26, 49]\n",
      "[49, 25, 26]\n",
      "[50, 51, 52, 53]\n",
      "[50, 51, 52, 54]\n",
      "[52, 58, 54]\n",
      "[54, 55, 56, 57, 58, 59, 60, 61, 62]\n"
     ]
    }
   ],
   "source": [
    "for clique in cliques:\n",
    "    print(clique)"
   ]
  },
  {
   "cell_type": "code",
   "execution_count": 9,
   "metadata": {},
   "outputs": [],
   "source": [
    "maxi_clique = max(nx.find_cliques(G), key=len)"
   ]
  },
  {
   "cell_type": "code",
   "execution_count": 73,
   "metadata": {},
   "outputs": [],
   "source": [
    "maxi_clique = [54, 55, 56, 57, 58, 59, 60, 61, 62]"
   ]
  },
  {
   "cell_type": "code",
   "execution_count": 74,
   "metadata": {},
   "outputs": [],
   "source": [
    "sub = nx.Graph()\n",
    "for node in maxi_clique:\n",
    "    sub.add_node(node)"
   ]
  },
  {
   "cell_type": "code",
   "execution_count": 75,
   "metadata": {},
   "outputs": [],
   "source": [
    "for (i,j), (mini, maxi) in dico_interval.items():\n",
    "    if i in maxi_clique and j in maxi_clique:\n",
    "        sub.add_edges_from([(i,j,{\"mini\":mini, \"maxi\":maxi})])"
   ]
  },
  {
   "cell_type": "code",
   "execution_count": 88,
   "metadata": {},
   "outputs": [
    {
     "data": {
      "text/plain": [
       "36"
      ]
     },
     "execution_count": 88,
     "metadata": {},
     "output_type": "execute_result"
    }
   ],
   "source": [
    "len(list(sub.edges))"
   ]
  },
  {
   "cell_type": "code",
   "execution_count": 77,
   "metadata": {},
   "outputs": [],
   "source": [
    "def get_edm(nodes,t, graph):\n",
    "    n = len(nodes)\n",
    "    matrix = np.zeros((n,n))\n",
    "    for k in range(n-1):\n",
    "        for l in range(k+1,n):\n",
    "            i = nodes[k]\n",
    "            j = nodes[l]\n",
    "            low = graph.get_edge_data(i,j)[\"mini\"]\n",
    "            up = graph.get_edge_data(i,j)[\"maxi\"]\n",
    "            matrix[k,l] = (1-t[k,l])*low + t[k,l]*up\n",
    "            matrix[l,k] = (1-t[k,l])*low + t[k,l]*up\n",
    "    return matrix"
   ]
  },
  {
   "cell_type": "code",
   "execution_count": 78,
   "metadata": {},
   "outputs": [],
   "source": [
    "def get_x(EDM):\n",
    "    U, S, Vh = np.linalg.svd(EDM)\n",
    "    x = U[:,:3]\n",
    "    return x"
   ]
  },
  {
   "cell_type": "code",
   "execution_count": 79,
   "metadata": {},
   "outputs": [],
   "source": [
    "lamb = 1\n",
    "tau = 0.1\n",
    "\n",
    "def theta(x,i,j,c):\n",
    "    return (lamb**2 *(c-np.sqrt(np.linalg.norm(x[3*i:3*(i+1)]-x[3*j:3*(j+1)])**2 + tau**2))**2 + tau**2)\n",
    "def phi(x,i,j, low,up):\n",
    "    value = lamb*(low - up) + theta(x,i,j,low) + theta(x,i,j,up)\n",
    "    return value\n",
    "def cost(x,dico_interval):\n",
    "    cost_value = 0\n",
    "    for (i,j) in dico_interval.keys():\n",
    "            low, up = dico_interval[(i,j)]\n",
    "            cost_value += phi(x,i,j,low,up)\n",
    "    return cost_value\n"
   ]
  },
  {
   "cell_type": "code",
   "execution_count": 80,
   "metadata": {},
   "outputs": [],
   "source": [
    "def get_n_error(X,nodes, graph):\n",
    "    n = len(nodes)\n",
    "    count = 0\n",
    "    relative_error = []\n",
    "    count_tot = 0\n",
    "    for k in range(n-1):\n",
    "        for l in range(k+1,n):\n",
    "            i = nodes[k]\n",
    "            j = nodes[l]\n",
    "            count_tot += 1\n",
    "            low = graph.get_edge_data(i,j)[\"mini\"]\n",
    "            up = graph.get_edge_data(i,j)[\"maxi\"]\n",
    "            dist = np.linalg.norm(X[k]-X[l])\n",
    "            print(f\"edge: ({i,j}\")\n",
    "            print(dist)\n",
    "            print(f\"low : {low}    up : {up}\")\n",
    "            print()\n",
    "            if (dist>up or dist < low):\n",
    "                count += 1\n",
    "                relative_error.append(np.min([np.abs(dist-low)/low,np.abs(dist-up)/up]))\n",
    "\n",
    "    return"
   ]
  },
  {
   "cell_type": "code",
   "execution_count": 81,
   "metadata": {},
   "outputs": [],
   "source": [
    "def c_in_intermediate(X,nodes,graph):\n",
    "    n = len(nodes)\n",
    "    count = 0\n",
    "    relative_error = []\n",
    "    count_tot = 0\n",
    "    for k in range(n-1):\n",
    "        for l in range(k+1,n):\n",
    "            i = nodes[k]\n",
    "            j = nodes[l]\n",
    "            count_tot += 1\n",
    "            low = graph.get_edge_data(i,j)[\"mini\"]\n",
    "            up = graph.get_edge_data(i,j)[\"maxi\"]\n",
    "            dist = np.linalg.norm(X[k]-X[l])\n",
    "            if (dist>up or dist < low):\n",
    "                count += 1\n",
    "                relative_error.append(np.min([np.abs(dist-low)/low,np.abs(dist-up)/up]))\n",
    "    return count"
   ]
  },
  {
   "cell_type": "code",
   "execution_count": 82,
   "metadata": {},
   "outputs": [],
   "source": [
    "def place_relative_atoms(clique,dico_interval, t=0.7):\n",
    "    atoms = list(clique.nodes)\n",
    "    n = len(atoms)\n",
    "    ponderation = np.ones((n,n))*t\n",
    "    D = get_edm(list(clique.nodes),ponderation,clique)\n",
    "    x = get_x(D)\n",
    "    print(\"before opti\")\n",
    "    res = minimize(cost,x.flatten(),args=(dico_interval),method='BFGS',options={\"maxiter\" : 100})\n",
    "    print(\"after\")\n",
    "    X = res.x.reshape(n,3)\n",
    "    dico_index_to_X = {}\n",
    "    dico_X_to_index = {}\n",
    "    count = 0\n",
    "    for node in list(clique.nodes):\n",
    "        dico_index_to_X[node] = count\n",
    "        count += 1\n",
    "    count = 0\n",
    "    for node in list(clique.nodes):\n",
    "        dico_X_to_index[count] = node\n",
    "    count += 1 \n",
    "    return X, dico_X_to_index, dico_index_to_X"
   ]
  },
  {
   "cell_type": "code",
   "execution_count": 91,
   "metadata": {},
   "outputs": [
    {
     "data": {
      "text/plain": [
       "[54, 55, 56, 57, 58, 59, 60, 61, 62]"
      ]
     },
     "execution_count": 91,
     "metadata": {},
     "output_type": "execute_result"
    }
   ],
   "source": [
    "list(sub.nodes)"
   ]
  },
  {
   "cell_type": "code",
   "execution_count": 85,
   "metadata": {},
   "outputs": [
    {
     "name": "stdout",
     "output_type": "stream",
     "text": [
      "before opti\n"
     ]
    },
    {
     "ename": "ValueError",
     "evalue": "operands could not be broadcast together with shapes (3,) (0,) ",
     "output_type": "error",
     "traceback": [
      "\u001b[1;31m---------------------------------------------------------------------------\u001b[0m",
      "\u001b[1;31mValueError\u001b[0m                                Traceback (most recent call last)",
      "\u001b[1;32mc:\\Users\\thoma\\ENSTA\\IA302\\LSbuild\\simulated_annealing.ipynb Cell 58\u001b[0m line \u001b[0;36m1\n\u001b[1;32m----> <a href='vscode-notebook-cell:/c%3A/Users/thoma/ENSTA/IA302/LSbuild/simulated_annealing.ipynb#Y130sZmlsZQ%3D%3D?line=0'>1</a>\u001b[0m X, dico_X_to_index, dico_index_to_X \u001b[39m=\u001b[39m place_relative_atoms(sub,dico_interval)\n",
      "\u001b[1;32mc:\\Users\\thoma\\ENSTA\\IA302\\LSbuild\\simulated_annealing.ipynb Cell 58\u001b[0m line \u001b[0;36m8\n\u001b[0;32m      <a href='vscode-notebook-cell:/c%3A/Users/thoma/ENSTA/IA302/LSbuild/simulated_annealing.ipynb#Y130sZmlsZQ%3D%3D?line=5'>6</a>\u001b[0m x \u001b[39m=\u001b[39m get_x(D)\n\u001b[0;32m      <a href='vscode-notebook-cell:/c%3A/Users/thoma/ENSTA/IA302/LSbuild/simulated_annealing.ipynb#Y130sZmlsZQ%3D%3D?line=6'>7</a>\u001b[0m \u001b[39mprint\u001b[39m(\u001b[39m\"\u001b[39m\u001b[39mbefore opti\u001b[39m\u001b[39m\"\u001b[39m)\n\u001b[1;32m----> <a href='vscode-notebook-cell:/c%3A/Users/thoma/ENSTA/IA302/LSbuild/simulated_annealing.ipynb#Y130sZmlsZQ%3D%3D?line=7'>8</a>\u001b[0m res \u001b[39m=\u001b[39m minimize(cost,x\u001b[39m.\u001b[39;49mflatten(),args\u001b[39m=\u001b[39;49m(dico_interval),method\u001b[39m=\u001b[39;49m\u001b[39m'\u001b[39;49m\u001b[39mBFGS\u001b[39;49m\u001b[39m'\u001b[39;49m,options\u001b[39m=\u001b[39;49m{\u001b[39m\"\u001b[39;49m\u001b[39mmaxiter\u001b[39;49m\u001b[39m\"\u001b[39;49m : \u001b[39m100\u001b[39;49m})\n\u001b[0;32m      <a href='vscode-notebook-cell:/c%3A/Users/thoma/ENSTA/IA302/LSbuild/simulated_annealing.ipynb#Y130sZmlsZQ%3D%3D?line=8'>9</a>\u001b[0m \u001b[39mprint\u001b[39m(\u001b[39m\"\u001b[39m\u001b[39mafter\u001b[39m\u001b[39m\"\u001b[39m)\n\u001b[0;32m     <a href='vscode-notebook-cell:/c%3A/Users/thoma/ENSTA/IA302/LSbuild/simulated_annealing.ipynb#Y130sZmlsZQ%3D%3D?line=9'>10</a>\u001b[0m X \u001b[39m=\u001b[39m res\u001b[39m.\u001b[39mx\u001b[39m.\u001b[39mreshape(n,\u001b[39m3\u001b[39m)\n",
      "File \u001b[1;32mc:\\Users\\thoma\\.conda\\envs\\map588\\lib\\site-packages\\scipy\\optimize\\_minimize.py:705\u001b[0m, in \u001b[0;36mminimize\u001b[1;34m(fun, x0, args, method, jac, hess, hessp, bounds, constraints, tol, callback, options)\u001b[0m\n\u001b[0;32m    703\u001b[0m     res \u001b[39m=\u001b[39m _minimize_cg(fun, x0, args, jac, callback, \u001b[39m*\u001b[39m\u001b[39m*\u001b[39moptions)\n\u001b[0;32m    704\u001b[0m \u001b[39melif\u001b[39;00m meth \u001b[39m==\u001b[39m \u001b[39m'\u001b[39m\u001b[39mbfgs\u001b[39m\u001b[39m'\u001b[39m:\n\u001b[1;32m--> 705\u001b[0m     res \u001b[39m=\u001b[39m _minimize_bfgs(fun, x0, args, jac, callback, \u001b[39m*\u001b[39m\u001b[39m*\u001b[39moptions)\n\u001b[0;32m    706\u001b[0m \u001b[39melif\u001b[39;00m meth \u001b[39m==\u001b[39m \u001b[39m'\u001b[39m\u001b[39mnewton-cg\u001b[39m\u001b[39m'\u001b[39m:\n\u001b[0;32m    707\u001b[0m     res \u001b[39m=\u001b[39m _minimize_newtoncg(fun, x0, args, jac, hess, hessp, callback,\n\u001b[0;32m    708\u001b[0m                              \u001b[39m*\u001b[39m\u001b[39m*\u001b[39moptions)\n",
      "File \u001b[1;32mc:\\Users\\thoma\\.conda\\envs\\map588\\lib\\site-packages\\scipy\\optimize\\_optimize.py:1419\u001b[0m, in \u001b[0;36m_minimize_bfgs\u001b[1;34m(fun, x0, args, jac, callback, gtol, norm, eps, maxiter, disp, return_all, finite_diff_rel_step, xrtol, **unknown_options)\u001b[0m\n\u001b[0;32m   1416\u001b[0m \u001b[39mif\u001b[39;00m maxiter \u001b[39mis\u001b[39;00m \u001b[39mNone\u001b[39;00m:\n\u001b[0;32m   1417\u001b[0m     maxiter \u001b[39m=\u001b[39m \u001b[39mlen\u001b[39m(x0) \u001b[39m*\u001b[39m \u001b[39m200\u001b[39m\n\u001b[1;32m-> 1419\u001b[0m sf \u001b[39m=\u001b[39m _prepare_scalar_function(fun, x0, jac, args\u001b[39m=\u001b[39;49margs, epsilon\u001b[39m=\u001b[39;49meps,\n\u001b[0;32m   1420\u001b[0m                               finite_diff_rel_step\u001b[39m=\u001b[39;49mfinite_diff_rel_step)\n\u001b[0;32m   1422\u001b[0m f \u001b[39m=\u001b[39m sf\u001b[39m.\u001b[39mfun\n\u001b[0;32m   1423\u001b[0m myfprime \u001b[39m=\u001b[39m sf\u001b[39m.\u001b[39mgrad\n",
      "File \u001b[1;32mc:\\Users\\thoma\\.conda\\envs\\map588\\lib\\site-packages\\scipy\\optimize\\_optimize.py:383\u001b[0m, in \u001b[0;36m_prepare_scalar_function\u001b[1;34m(fun, x0, jac, args, bounds, epsilon, finite_diff_rel_step, hess)\u001b[0m\n\u001b[0;32m    379\u001b[0m     bounds \u001b[39m=\u001b[39m (\u001b[39m-\u001b[39mnp\u001b[39m.\u001b[39minf, np\u001b[39m.\u001b[39minf)\n\u001b[0;32m    381\u001b[0m \u001b[39m# ScalarFunction caches. Reuse of fun(x) during grad\u001b[39;00m\n\u001b[0;32m    382\u001b[0m \u001b[39m# calculation reduces overall function evaluations.\u001b[39;00m\n\u001b[1;32m--> 383\u001b[0m sf \u001b[39m=\u001b[39m ScalarFunction(fun, x0, args, grad, hess,\n\u001b[0;32m    384\u001b[0m                     finite_diff_rel_step, bounds, epsilon\u001b[39m=\u001b[39;49mepsilon)\n\u001b[0;32m    386\u001b[0m \u001b[39mreturn\u001b[39;00m sf\n",
      "File \u001b[1;32mc:\\Users\\thoma\\.conda\\envs\\map588\\lib\\site-packages\\scipy\\optimize\\_differentiable_functions.py:158\u001b[0m, in \u001b[0;36mScalarFunction.__init__\u001b[1;34m(self, fun, x0, args, grad, hess, finite_diff_rel_step, finite_diff_bounds, epsilon)\u001b[0m\n\u001b[0;32m    155\u001b[0m     \u001b[39mself\u001b[39m\u001b[39m.\u001b[39mf \u001b[39m=\u001b[39m fun_wrapped(\u001b[39mself\u001b[39m\u001b[39m.\u001b[39mx)\n\u001b[0;32m    157\u001b[0m \u001b[39mself\u001b[39m\u001b[39m.\u001b[39m_update_fun_impl \u001b[39m=\u001b[39m update_fun\n\u001b[1;32m--> 158\u001b[0m \u001b[39mself\u001b[39;49m\u001b[39m.\u001b[39;49m_update_fun()\n\u001b[0;32m    160\u001b[0m \u001b[39m# Gradient evaluation\u001b[39;00m\n\u001b[0;32m    161\u001b[0m \u001b[39mif\u001b[39;00m callable(grad):\n",
      "File \u001b[1;32mc:\\Users\\thoma\\.conda\\envs\\map588\\lib\\site-packages\\scipy\\optimize\\_differentiable_functions.py:251\u001b[0m, in \u001b[0;36mScalarFunction._update_fun\u001b[1;34m(self)\u001b[0m\n\u001b[0;32m    249\u001b[0m \u001b[39mdef\u001b[39;00m \u001b[39m_update_fun\u001b[39m(\u001b[39mself\u001b[39m):\n\u001b[0;32m    250\u001b[0m     \u001b[39mif\u001b[39;00m \u001b[39mnot\u001b[39;00m \u001b[39mself\u001b[39m\u001b[39m.\u001b[39mf_updated:\n\u001b[1;32m--> 251\u001b[0m         \u001b[39mself\u001b[39;49m\u001b[39m.\u001b[39;49m_update_fun_impl()\n\u001b[0;32m    252\u001b[0m         \u001b[39mself\u001b[39m\u001b[39m.\u001b[39mf_updated \u001b[39m=\u001b[39m \u001b[39mTrue\u001b[39;00m\n",
      "File \u001b[1;32mc:\\Users\\thoma\\.conda\\envs\\map588\\lib\\site-packages\\scipy\\optimize\\_differentiable_functions.py:155\u001b[0m, in \u001b[0;36mScalarFunction.__init__.<locals>.update_fun\u001b[1;34m()\u001b[0m\n\u001b[0;32m    154\u001b[0m \u001b[39mdef\u001b[39;00m \u001b[39mupdate_fun\u001b[39m():\n\u001b[1;32m--> 155\u001b[0m     \u001b[39mself\u001b[39m\u001b[39m.\u001b[39mf \u001b[39m=\u001b[39m fun_wrapped(\u001b[39mself\u001b[39;49m\u001b[39m.\u001b[39;49mx)\n",
      "File \u001b[1;32mc:\\Users\\thoma\\.conda\\envs\\map588\\lib\\site-packages\\scipy\\optimize\\_differentiable_functions.py:137\u001b[0m, in \u001b[0;36mScalarFunction.__init__.<locals>.fun_wrapped\u001b[1;34m(x)\u001b[0m\n\u001b[0;32m    133\u001b[0m \u001b[39mself\u001b[39m\u001b[39m.\u001b[39mnfev \u001b[39m+\u001b[39m\u001b[39m=\u001b[39m \u001b[39m1\u001b[39m\n\u001b[0;32m    134\u001b[0m \u001b[39m# Send a copy because the user may overwrite it.\u001b[39;00m\n\u001b[0;32m    135\u001b[0m \u001b[39m# Overwriting results in undefined behaviour because\u001b[39;00m\n\u001b[0;32m    136\u001b[0m \u001b[39m# fun(self.x) will change self.x, with the two no longer linked.\u001b[39;00m\n\u001b[1;32m--> 137\u001b[0m fx \u001b[39m=\u001b[39m fun(np\u001b[39m.\u001b[39;49mcopy(x), \u001b[39m*\u001b[39;49margs)\n\u001b[0;32m    138\u001b[0m \u001b[39m# Make sure the function returns a true scalar\u001b[39;00m\n\u001b[0;32m    139\u001b[0m \u001b[39mif\u001b[39;00m \u001b[39mnot\u001b[39;00m np\u001b[39m.\u001b[39misscalar(fx):\n",
      "\u001b[1;32mc:\\Users\\thoma\\ENSTA\\IA302\\LSbuild\\simulated_annealing.ipynb Cell 58\u001b[0m line \u001b[0;36m1\n\u001b[0;32m     <a href='vscode-notebook-cell:/c%3A/Users/thoma/ENSTA/IA302/LSbuild/simulated_annealing.ipynb#Y130sZmlsZQ%3D%3D?line=10'>11</a>\u001b[0m \u001b[39mfor\u001b[39;00m (i,j) \u001b[39min\u001b[39;00m dico_interval\u001b[39m.\u001b[39mkeys():\n\u001b[0;32m     <a href='vscode-notebook-cell:/c%3A/Users/thoma/ENSTA/IA302/LSbuild/simulated_annealing.ipynb#Y130sZmlsZQ%3D%3D?line=11'>12</a>\u001b[0m         low, up \u001b[39m=\u001b[39m dico_interval[(i,j)]\n\u001b[1;32m---> <a href='vscode-notebook-cell:/c%3A/Users/thoma/ENSTA/IA302/LSbuild/simulated_annealing.ipynb#Y130sZmlsZQ%3D%3D?line=12'>13</a>\u001b[0m         cost_value \u001b[39m+\u001b[39m\u001b[39m=\u001b[39m phi(x,i,j,low,up)\n\u001b[0;32m     <a href='vscode-notebook-cell:/c%3A/Users/thoma/ENSTA/IA302/LSbuild/simulated_annealing.ipynb#Y130sZmlsZQ%3D%3D?line=13'>14</a>\u001b[0m \u001b[39mreturn\u001b[39;00m cost_value\n",
      "\u001b[1;32mc:\\Users\\thoma\\ENSTA\\IA302\\LSbuild\\simulated_annealing.ipynb Cell 58\u001b[0m line \u001b[0;36m7\n\u001b[0;32m      <a href='vscode-notebook-cell:/c%3A/Users/thoma/ENSTA/IA302/LSbuild/simulated_annealing.ipynb#Y130sZmlsZQ%3D%3D?line=5'>6</a>\u001b[0m \u001b[39mdef\u001b[39;00m \u001b[39mphi\u001b[39m(x,i,j, low,up):\n\u001b[1;32m----> <a href='vscode-notebook-cell:/c%3A/Users/thoma/ENSTA/IA302/LSbuild/simulated_annealing.ipynb#Y130sZmlsZQ%3D%3D?line=6'>7</a>\u001b[0m     value \u001b[39m=\u001b[39m lamb\u001b[39m*\u001b[39m(low \u001b[39m-\u001b[39m up) \u001b[39m+\u001b[39m theta(x,i,j,low) \u001b[39m+\u001b[39m theta(x,i,j,up)\n\u001b[0;32m      <a href='vscode-notebook-cell:/c%3A/Users/thoma/ENSTA/IA302/LSbuild/simulated_annealing.ipynb#Y130sZmlsZQ%3D%3D?line=7'>8</a>\u001b[0m     \u001b[39mreturn\u001b[39;00m value\n",
      "\u001b[1;32mc:\\Users\\thoma\\ENSTA\\IA302\\LSbuild\\simulated_annealing.ipynb Cell 58\u001b[0m line \u001b[0;36m5\n\u001b[0;32m      <a href='vscode-notebook-cell:/c%3A/Users/thoma/ENSTA/IA302/LSbuild/simulated_annealing.ipynb#Y130sZmlsZQ%3D%3D?line=3'>4</a>\u001b[0m \u001b[39mdef\u001b[39;00m \u001b[39mtheta\u001b[39m(x,i,j,c):\n\u001b[1;32m----> <a href='vscode-notebook-cell:/c%3A/Users/thoma/ENSTA/IA302/LSbuild/simulated_annealing.ipynb#Y130sZmlsZQ%3D%3D?line=4'>5</a>\u001b[0m     \u001b[39mreturn\u001b[39;00m (lamb\u001b[39m*\u001b[39m\u001b[39m*\u001b[39m\u001b[39m2\u001b[39m \u001b[39m*\u001b[39m(c\u001b[39m-\u001b[39mnp\u001b[39m.\u001b[39msqrt(np\u001b[39m.\u001b[39mlinalg\u001b[39m.\u001b[39mnorm(x[\u001b[39m3\u001b[39;49m\u001b[39m*\u001b[39;49mi:\u001b[39m3\u001b[39;49m\u001b[39m*\u001b[39;49m(i\u001b[39m+\u001b[39;49m\u001b[39m1\u001b[39;49m)]\u001b[39m-\u001b[39;49mx[\u001b[39m3\u001b[39;49m\u001b[39m*\u001b[39;49mj:\u001b[39m3\u001b[39;49m\u001b[39m*\u001b[39;49m(j\u001b[39m+\u001b[39;49m\u001b[39m1\u001b[39;49m)])\u001b[39m*\u001b[39m\u001b[39m*\u001b[39m\u001b[39m2\u001b[39m \u001b[39m+\u001b[39m tau\u001b[39m*\u001b[39m\u001b[39m*\u001b[39m\u001b[39m2\u001b[39m))\u001b[39m*\u001b[39m\u001b[39m*\u001b[39m\u001b[39m2\u001b[39m \u001b[39m+\u001b[39m tau\u001b[39m*\u001b[39m\u001b[39m*\u001b[39m\u001b[39m2\u001b[39m)\n",
      "\u001b[1;31mValueError\u001b[0m: operands could not be broadcast together with shapes (3,) (0,) "
     ]
    }
   ],
   "source": [
    "X, dico_X_to_index, dico_index_to_X = place_relative_atoms(sub,dico_interval)"
   ]
  },
  {
   "cell_type": "code",
   "execution_count": 21,
   "metadata": {},
   "outputs": [],
   "source": [
    "def verif(X,dico_interval):\n",
    "    n = X.shape[0]\n",
    "    count = 0\n",
    "    for (i,j), (low,up) in dico_interval.items():\n",
    "        if i<n and j<n:\n",
    "            dist = np.linalg.norm(X[i] - X[j])\n",
    "            if low<dist<up:\n",
    "                count +=1\n",
    "            \"\"\"print(f\"edge: ({i,j}\")\n",
    "            print(dist)\n",
    "            print(f\"low : {low}    up : {up}\")\n",
    "            print()\"\"\"\n",
    "    return count"
   ]
  },
  {
   "cell_type": "code",
   "execution_count": 23,
   "metadata": {},
   "outputs": [
    {
     "data": {
      "text/plain": [
       "128"
      ]
     },
     "execution_count": 23,
     "metadata": {},
     "output_type": "execute_result"
    }
   ],
   "source": [
    "verif(X,dico_interval_origin)"
   ]
  },
  {
   "cell_type": "code",
   "execution_count": 20,
   "metadata": {},
   "outputs": [],
   "source": [
    "def best_node(nodes_base,node_to_choose, graph):\n",
    "    counter = [[] for _ in range(len(node_to_choose))]\n",
    "    for (i,j) in graph.edges:\n",
    "        if ((i in nodes_base) and (j not in nodes_base)):\n",
    "            counter[j].append(i)\n",
    "        if ((j in nodes_base) and (i not in nodes_base)):\n",
    "            counter[i].append(j)\n",
    "    for i in range(len(counter)):\n",
    "        if (len(counter[i])>=3):\n",
    "            return i, counter[i]\n"
   ]
  },
  {
   "cell_type": "code",
   "execution_count": 21,
   "metadata": {},
   "outputs": [],
   "source": [
    "node, node_base_connected = best_node(list(sub.nodes), list(G.nodes), G)"
   ]
  },
  {
   "cell_type": "code",
   "execution_count": 22,
   "metadata": {},
   "outputs": [
    {
     "data": {
      "text/plain": [
       "array([[ 0.92379823, -3.5731522 , -0.09978916],\n",
       "       [ 1.02014942, -1.09452151,  0.45208743],\n",
       "       [ 0.5266358 , -1.48538446, -1.18061632],\n",
       "       [-0.94895303, -2.13476559,  1.38241174],\n",
       "       [-1.2133437 ,  0.10901311, -1.18948256],\n",
       "       [ 0.4240286 ,  1.58868486,  0.84494465],\n",
       "       [-1.3290413 ,  2.28799029, -1.21421349],\n",
       "       [-1.01081181,  4.10579787,  0.04746002],\n",
       "       [-1.35792877,  0.11808317,  0.55467378]])"
      ]
     },
     "execution_count": 22,
     "metadata": {},
     "output_type": "execute_result"
    }
   ],
   "source": [
    "X"
   ]
  },
  {
   "cell_type": "code",
   "execution_count": null,
   "metadata": {},
   "outputs": [],
   "source": []
  },
  {
   "cell_type": "markdown",
   "metadata": {},
   "source": [
    "## Compute 10th atom"
   ]
  },
  {
   "cell_type": "code",
   "execution_count": 24,
   "metadata": {},
   "outputs": [],
   "source": [
    "def get_f_ctc(node_base_connected, node_to_solve, graph):\n",
    "    li_ctc = []\n",
    "    li_constrains = []\n",
    "    li_f = []\n",
    "    for atom in node_base_connected:\n",
    "        low = graph.get_edge_data(node_to_solve,atom)[\"mini\"]\n",
    "        up = graph.get_edge_data(node_to_solve,atom)[\"maxi\"]\n",
    "        li_constrains.append([low,up])\n",
    "        center = X[dico_index_to_X[atom]]\n",
    "        f = Function(\"x[3]\", f\"sqrt(sqr(x[0]-{center[0]})+sqr(x[1]-{center[1]})+sqr(x[2]-{center[2]}))\")\n",
    "        li_f.append(f)\n",
    "        contractor = CtcFunction(f, Interval(low,up))\n",
    "        li_ctc.append(contractor)\n",
    "    return li_ctc,li_f, li_constrains\n"
   ]
  },
  {
   "cell_type": "code",
   "execution_count": 25,
   "metadata": {},
   "outputs": [],
   "source": [
    "li_ctc, li_f, li_constrains = get_f_ctc(node_base_connected, node, G)"
   ]
  },
  {
   "cell_type": "code",
   "execution_count": 26,
   "metadata": {},
   "outputs": [],
   "source": [
    "def contract(x,li_ctc):\n",
    "    for ctc in li_ctc:\n",
    "        ctc.contract(x)\n",
    "    "
   ]
  },
  {
   "cell_type": "code",
   "execution_count": 27,
   "metadata": {},
   "outputs": [],
   "source": [
    "def empty(X):\n",
    "    for i in range(3):\n",
    "        if X[i].is_empty():\n",
    "            return True\n",
    "    return False"
   ]
  },
  {
   "cell_type": "code",
   "execution_count": 28,
   "metadata": {},
   "outputs": [],
   "source": [
    "def C_in(X, li_f, li_constrains):\n",
    "    if (empty(X)):\n",
    "        return False\n",
    "    for i in range(len(li_f)):\n",
    "        eval = li_f[i].eval(X)\n",
    "        low, up = li_constrains[i]\n",
    "        if ((eval.lb() < low) or (eval.ub()>up)):\n",
    "            #in_it = False\n",
    "            return False\n",
    "    return True"
   ]
  },
  {
   "cell_type": "code",
   "execution_count": 29,
   "metadata": {},
   "outputs": [],
   "source": [
    "def C_out(X,li_f, li_constrains):\n",
    "    out_it = False\n",
    "    for i in range(len(li_f)):\n",
    "        eval = li_f[i].eval(X)\n",
    "        low, up = li_constrains[i]\n",
    "        if ((eval.lb()> up) or (eval.ub() < low)):\n",
    "            print(i)\n",
    "            out_it = True\n",
    "    return out_it"
   ]
  },
  {
   "cell_type": "code",
   "execution_count": 30,
   "metadata": {},
   "outputs": [],
   "source": [
    "def get_largest(X):\n",
    "    max_index = 0\n",
    "    for i in range(3):\n",
    "        if (X[max_index].diam() < X[i].diam()):\n",
    "            max_index = i\n",
    "    return max_index"
   ]
  },
  {
   "cell_type": "code",
   "execution_count": 31,
   "metadata": {},
   "outputs": [
    {
     "name": "stdout",
     "output_type": "stream",
     "text": [
      "0\n",
      "0\n",
      "0\n",
      "0\n",
      "0\n",
      "sol\n"
     ]
    }
   ],
   "source": [
    "tau = 0.000001\n",
    "stack = [IntervalVector([[-10,10] for _ in range(3)])]\n",
    "stack_acc = []\n",
    "stack_rej = []\n",
    "stack_unc = []\n",
    "sol = False\n",
    "count = 0\n",
    "while len(stack) !=0 and (not sol):\n",
    "    x = stack.pop()\n",
    "    count +=1\n",
    "    contract(x, li_ctc)\n",
    "    if not empty(x):\n",
    "        if (C_in(x,li_f, li_constrains)):\n",
    "            sol = True\n",
    "            print(\"sol\")\n",
    "            stack_acc.append(x)\n",
    "        else:\n",
    "            if C_out(x, li_f, li_constrains):\n",
    "                stack_rej.append(x)\n",
    "            else:\n",
    "                larger_index = get_largest(x)\n",
    "                if x[larger_index].diam() > tau:\n",
    "                    X_left, X_right  = x.bisect(larger_index)\n",
    "                    if not (empty(X_left)):\n",
    "                        stack.append(X_left)\n",
    "                    if not (empty(X_right)):\n",
    "                        stack.append(X_right)\n",
    "                else:\n",
    "                    stack_unc.append(x)"
   ]
  },
  {
   "cell_type": "code",
   "execution_count": 40,
   "metadata": {},
   "outputs": [],
   "source": [
    "def mean(vector):\n",
    "    vec = []\n",
    "    for i in range(3):\n",
    "        vec.append((vector[i][0]+vector[i][1])/2)\n",
    "    return np.array(vec).reshape(1,3)\n"
   ]
  },
  {
   "cell_type": "code",
   "execution_count": 42,
   "metadata": {},
   "outputs": [],
   "source": [
    "X_10 = mean(stack_acc[0])"
   ]
  },
  {
   "cell_type": "code",
   "execution_count": 43,
   "metadata": {},
   "outputs": [
    {
     "data": {
      "text/plain": [
       "array([[ 2.80121905, -1.68063212, -2.12347416]])"
      ]
     },
     "execution_count": 43,
     "metadata": {},
     "output_type": "execute_result"
    }
   ],
   "source": [
    "X_10"
   ]
  },
  {
   "cell_type": "code",
   "execution_count": 47,
   "metadata": {},
   "outputs": [],
   "source": [
    "X = np.concatenate([X,X_10])"
   ]
  },
  {
   "cell_type": "code",
   "execution_count": 48,
   "metadata": {},
   "outputs": [],
   "source": [
    "dico_index_to_X[10] = 10\n",
    "dico_X_to_index[10] = 10"
   ]
  },
  {
   "cell_type": "code",
   "execution_count": 49,
   "metadata": {},
   "outputs": [],
   "source": [
    "nodes_base = list(sub.nodes)\n",
    "nodes_base.append(10)"
   ]
  },
  {
   "cell_type": "code",
   "execution_count": 50,
   "metadata": {},
   "outputs": [
    {
     "ename": "TypeError",
     "evalue": "cannot unpack non-iterable NoneType object",
     "output_type": "error",
     "traceback": [
      "\u001b[1;31m---------------------------------------------------------------------------\u001b[0m",
      "\u001b[1;31mTypeError\u001b[0m                                 Traceback (most recent call last)",
      "\u001b[1;32mc:\\Users\\thoma\\ENSTA\\IA302\\LSbuild\\simulated_annealing.ipynb Cell 82\u001b[0m line \u001b[0;36m1\n\u001b[1;32m----> <a href='vscode-notebook-cell:/c%3A/Users/thoma/ENSTA/IA302/LSbuild/simulated_annealing.ipynb#Y151sZmlsZQ%3D%3D?line=0'>1</a>\u001b[0m node, node_base_connected \u001b[39m=\u001b[39m best_node(nodes_base, \u001b[39mlist\u001b[39m(G\u001b[39m.\u001b[39mnodes), G)\n",
      "\u001b[1;31mTypeError\u001b[0m: cannot unpack non-iterable NoneType object"
     ]
    }
   ],
   "source": [
    "node, node_base_connected = best_node(nodes_base, list(G.nodes), G)"
   ]
  },
  {
   "cell_type": "code",
   "execution_count": 52,
   "metadata": {},
   "outputs": [],
   "source": [
    "counter = [[] for _ in range(63)]\n",
    "for (i,j) in G.edges:\n",
    "    if ((i in nodes_base) and (j not in nodes_base)):\n",
    "        counter[j].append(i)\n",
    "    if ((j in nodes_base) and (i not in nodes_base)):\n",
    "        counter[i].append(j)\n"
   ]
  },
  {
   "cell_type": "code",
   "execution_count": null,
   "metadata": {},
   "outputs": [],
   "source": [
    "counter"
   ]
  },
  {
   "cell_type": "code",
   "execution_count": 34,
   "metadata": {},
   "outputs": [
    {
     "name": "stdout",
     "output_type": "stream",
     "text": [
      "Low : 3.3468848592262983    Up : 3.346886033314764\n",
      "Needed low : 3.280604499173894    Needed Up : 3.346886033315147\n",
      "\n",
      "Low : 3.185788515607867    Up : 3.185789688563983\n",
      "Needed low : 3.185788056352778    Needed Up : 3.250153913278571\n",
      "\n",
      "Low : 2.469985694327776    Up : 2.469986587840734\n",
      "Needed low : 2.469650991537058    Needed Up : 2.519547971363112\n",
      "\n"
     ]
    }
   ],
   "source": [
    "count = 0\n",
    "for node_base in node_base_connected:\n",
    "    bounds = li_f[count].eval(stack_acc[0])\n",
    "    print(f\"Low : {bounds.lb()}    Up : {bounds.ub()}\")\n",
    "    print(f\"Needed low : {G.get_edge_data(node,node_base)['mini']}    Needed Up : {G.get_edge_data(node,node_base)['maxi']}\")\n",
    "    print()\n",
    "    count +=1"
   ]
  },
  {
   "cell_type": "markdown",
   "metadata": {},
   "source": [
    "## N cliques"
   ]
  },
  {
   "cell_type": "code",
   "execution_count": 26,
   "metadata": {},
   "outputs": [],
   "source": [
    "G_prime = G.copy()"
   ]
  },
  {
   "cell_type": "code",
   "execution_count": 56,
   "metadata": {},
   "outputs": [],
   "source": [
    "for noeud in list(sub.nodes):\n",
    "    G_prime.remove_node(noeud)"
   ]
  },
  {
   "cell_type": "code",
   "execution_count": 65,
   "metadata": {},
   "outputs": [],
   "source": [
    "cliques = nx.find_cliques(G)"
   ]
  },
  {
   "cell_type": "code",
   "execution_count": null,
   "metadata": {},
   "outputs": [],
   "source": [
    "def already_seen(clique, cliques_tested):\n",
    "    for i in range(len(cliques_tested)):\n",
    "        if cliques_tested[i] in clique:"
   ]
  },
  {
   "cell_type": "code",
   "execution_count": 67,
   "metadata": {},
   "outputs": [],
   "source": [
    "cliques = nx.find_cliques(G)\n",
    "X_tot = []\n",
    "li_index_to_X_tot = []\n",
    "li_X_to_index_tot = []\n",
    "errors = []\n",
    "cliques_testes = []\n",
    "for clique in cliques:\n",
    "    if (len(clique)>3):\n",
    "        sub = nx.Graph()\n",
    "        for node in clique:\n",
    "            sub.add_node(node)\n",
    "        for (i,j), (mini, maxi) in dico_interval.items():\n",
    "            if i in clique and j in clique:\n",
    "                sub.add_edges_from([(i,j,{\"mini\":mini, \"maxi\":maxi})])\n",
    "        X, dico_X_to_index, dico_index_to_X = place_relative_atoms(sub)\n",
    "        errors.append(c_in_intermediate(X,list(sub.nodes),sub))\n",
    "        X_tot.append(X)\n",
    "        li_index_to_X_tot.append(dico_index_to_X)\n",
    "        li_X_to_index_tot.append(dico_X_to_index)\n",
    "        errors.append(c_in_intermediate(X,list(sub.nodes),sub))\n",
    "    "
   ]
  },
  {
   "cell_type": "code",
   "execution_count": 69,
   "metadata": {},
   "outputs": [
    {
     "data": {
      "text/plain": [
       "True"
      ]
     },
     "execution_count": 69,
     "metadata": {},
     "output_type": "execute_result"
    }
   ],
   "source": [
    "def post_treatment(X_tot, li_X_to_index_tot, li_index_to_X_tot):\n",
    "    n = len(X_tot)\n",
    "    cliques_seen = []"
   ]
  },
  {
   "cell_type": "code",
   "execution_count": null,
   "metadata": {},
   "outputs": [],
   "source": []
  },
  {
   "cell_type": "code",
   "execution_count": 62,
   "metadata": {},
   "outputs": [],
   "source": [
    "maxi_clique = max(nx.find_cliques(G_prime), key=len)"
   ]
  },
  {
   "cell_type": "code",
   "execution_count": 63,
   "metadata": {},
   "outputs": [
    {
     "data": {
      "text/plain": [
       "[54, 58, 56, 59, 55, 57, 60, 61, 62]"
      ]
     },
     "execution_count": 63,
     "metadata": {},
     "output_type": "execute_result"
    }
   ],
   "source": [
    "maxi_clique"
   ]
  },
  {
   "cell_type": "code",
   "execution_count": null,
   "metadata": {},
   "outputs": [],
   "source": []
  },
  {
   "cell_type": "markdown",
   "metadata": {},
   "source": [
    "# Construction"
   ]
  },
  {
   "cell_type": "code",
   "execution_count": 155,
   "metadata": {},
   "outputs": [],
   "source": [
    "def get_f_ctc(X, dico_interval, atom):\n",
    "    li_ctc = []\n",
    "    li_constrains = []\n",
    "    li_f = []\n",
    "    for ((i,j), (low,up)) in dico_interval.items():\n",
    "        if j == atom and i!=j:\n",
    "            #low1 = low*0.6+0.4*up\n",
    "            #up = low*0.4+0.6*up\n",
    "            #low = low1\n",
    "            li_constrains.append([low,up])\n",
    "\n",
    "            center = X[i]\n",
    "            f = Function(\"x[3]\", f\"sqrt(sqr(x[0]-{center[0]})+sqr(x[1]-{center[1]})+sqr(x[2]-{center[2]}))\")\n",
    "            li_f.append(f)\n",
    "            contractor = CtcFunction(f, Interval(low,up))\n",
    "            li_ctc.append(contractor)\n",
    "    \n",
    "    return li_ctc, li_f, li_constrains\n",
    "\n",
    "def contract(x,li_ctc):\n",
    "    for ctc in li_ctc:\n",
    "        ctc.contract(x)\n",
    "    \n",
    "def empty(X):\n",
    "    for i in range(3):\n",
    "        if X[i].is_empty():\n",
    "            return True\n",
    "    return False\n",
    "def C_in(X, li_f, li_constrains):\n",
    "    if (empty(X)):\n",
    "        return False\n",
    "    for i in range(len(li_f)):\n",
    "        eval = li_f[i].eval(X)\n",
    "        low, up = li_constrains[i]\n",
    "        if ((eval.lb() < low) or (eval.ub()>up)):\n",
    "            #in_it = False\n",
    "            return False\n",
    "    return True\n",
    "def C_out(X,li_f, li_constrains):\n",
    "    out_it = False\n",
    "    for i in range(len(li_f)):\n",
    "        eval = li_f[i].eval(X)\n",
    "        low, up = li_constrains[i]\n",
    "        if ((eval.lb()> up) or (eval.ub() < low)):\n",
    "            out_it = True\n",
    "    return out_it\n",
    "def get_largest(X):\n",
    "    max_index = 0\n",
    "    for i in range(3):\n",
    "        if (X[max_index].diam() < X[i].diam()):\n",
    "            max_index = i\n",
    "    if (X[0].diam() == X[1].diam() and X[1].diam() == X[2].diam()):\n",
    "        return np.random.randint(3)\n",
    "    return max_index\n",
    "def mean(vector):\n",
    "    vec = []\n",
    "    for i in range(3):\n",
    "        vec.append((vector[i][0]+vector[i][1])/2)\n",
    "    return np.array(vec).reshape(1,3)\n"
   ]
  },
  {
   "cell_type": "code",
   "execution_count": 156,
   "metadata": {},
   "outputs": [],
   "source": [
    "def add_atom(X, dico_interval, atom):\n",
    "    tau = 0.0000000001\n",
    "    stack = [IntervalVector([[-20,20] for _ in range(3)])]\n",
    "    li_ctc, li_f, li_constrains = get_f_ctc(X, dico_interval, atom)\n",
    "    print(len(li_ctc))\n",
    "    stack_acc = []\n",
    "    stack_rej = []\n",
    "    stack_unc = []\n",
    "    sol = 0\n",
    "    count = 0\n",
    "    while len(stack) !=0 and (not sol):\n",
    "        x = stack.pop()\n",
    "        count +=1\n",
    "        contract(x, li_ctc)\n",
    "        if not empty(x):\n",
    "            if (C_in(x,li_f, li_constrains)):\n",
    "                sol = True\n",
    "                stack_acc.append(x)\n",
    "            else:\n",
    "                if C_out(x, li_f, li_constrains):\n",
    "                    stack_rej.append(x)\n",
    "                else:\n",
    "                    larger_index = get_largest(x)\n",
    "                    if x[larger_index].diam() > tau:\n",
    "                        X_left, X_right  = x.bisect(larger_index)\n",
    "                        if not (empty(X_left)):\n",
    "                            stack.append(X_left)\n",
    "                        if not (empty(X_right)):\n",
    "                            stack.append(X_right)\n",
    "                    else:\n",
    "                        stack_unc.append(x)\n",
    "    if (len(stack_acc) != 0):\n",
    "        pos = mean(stack_acc[0])\n",
    "    new_X = np.concatenate([X,pos])\n",
    "    return new_X\n",
    "    "
   ]
  },
  {
   "cell_type": "code",
   "execution_count": 167,
   "metadata": {},
   "outputs": [],
   "source": [
    "def get_pos(X, dico_interval, atom):\n",
    "    tau = 0.0000000001\n",
    "    stack = [IntervalVector([[-20,20] for _ in range(3)])]\n",
    "    li_ctc, li_f, li_constrains = get_f_ctc(X, dico_interval, atom)\n",
    "    stack_acc = []\n",
    "    stack_rej = []\n",
    "    stack_unc = []\n",
    "    sol = 0\n",
    "    count = 0\n",
    "    while len(stack) !=0 and (not sol):\n",
    "        x = stack.pop()\n",
    "        count +=1\n",
    "        contract(x, li_ctc)\n",
    "        if not empty(x):\n",
    "            if (C_in(x,li_f, li_constrains)):\n",
    "                sol = True\n",
    "                stack_acc.append(x)\n",
    "            else:\n",
    "                if C_out(x, li_f, li_constrains):\n",
    "                    stack_rej.append(x)\n",
    "                else:\n",
    "                    larger_index = get_largest(x)\n",
    "                    if x[larger_index].diam() > tau:\n",
    "                        X_left, X_right  = x.bisect(larger_index)\n",
    "                        if not (empty(X_left)):\n",
    "                            stack.append(X_left)\n",
    "                        if not (empty(X_right)):\n",
    "                            stack.append(X_right)\n",
    "                    else:\n",
    "                        stack_unc.append(x)\n",
    "    if (len(stack_acc) != 0):\n",
    "        pos = stack_acc[0]\n",
    "    else:\n",
    "        pos = [0,0,0]\n",
    "    return pos"
   ]
  },
  {
   "cell_type": "code",
   "execution_count": 175,
   "metadata": {},
   "outputs": [
    {
     "name": "stdout",
     "output_type": "stream",
     "text": [
      "0\n",
      "0\n",
      "0\n",
      "0\n",
      "0\n",
      "0\n",
      "0\n",
      "3\n",
      "7\n",
      "7\n",
      "10\n",
      "15\n",
      "15\n",
      "15\n",
      "18\n",
      "22\n",
      "22\n",
      "22\n",
      "22\n",
      "22\n",
      "22\n",
      "25\n",
      "29\n",
      "29\n",
      "32\n",
      "37\n",
      "37\n",
      "37\n",
      "40\n",
      "44\n",
      "44\n",
      "47\n",
      "53\n",
      "53\n",
      "53\n",
      "53\n",
      "56\n",
      "60\n",
      "60\n",
      "63\n",
      "68\n",
      "68\n",
      "68\n",
      "71\n",
      "75\n",
      "75\n",
      "78\n",
      "85\n",
      "85\n",
      "85\n",
      "85\n",
      "85\n",
      "88\n",
      "92\n",
      "92\n",
      "95\n",
      "100\n",
      "100\n",
      "100\n",
      "103\n",
      "107\n",
      "107\n",
      "110\n",
      "116\n",
      "116\n",
      "116\n",
      "116\n",
      "119\n",
      "123\n",
      "123\n",
      "126\n",
      "131\n",
      "131\n",
      "131\n",
      "134\n",
      "138\n",
      "138\n",
      "141\n",
      "151\n",
      "151\n",
      "151\n",
      "151\n",
      "151\n",
      "151\n",
      "151\n",
      "151\n",
      "154\n",
      "158\n",
      "158\n",
      "161\n",
      "166\n",
      "166\n",
      "166\n",
      "169\n",
      "173\n",
      "173\n",
      "176\n",
      "182\n",
      "182\n",
      "182\n",
      "182\n",
      "185\n",
      "189\n",
      "189\n",
      "192\n",
      "197\n",
      "197\n",
      "197\n",
      "200\n",
      "204\n",
      "204\n",
      "207\n",
      "214\n",
      "214\n",
      "214\n",
      "214\n",
      "214\n",
      "217\n",
      "221\n",
      "221\n",
      "224\n",
      "229\n",
      "229\n",
      "229\n",
      "232\n",
      "236\n",
      "236\n",
      "239\n",
      "245\n",
      "245\n",
      "245\n",
      "245\n",
      "248\n",
      "252\n",
      "252\n",
      "255\n",
      "260\n",
      "260\n",
      "260\n",
      "263\n",
      "267\n",
      "267\n",
      "270\n",
      "278\n",
      "278\n",
      "281\n",
      "286\n",
      "286\n",
      "286\n",
      "286\n",
      "286\n",
      "286\n",
      "286\n",
      "289\n",
      "293\n",
      "293\n",
      "296\n",
      "301\n",
      "301\n",
      "301\n",
      "304\n",
      "308\n",
      "308\n",
      "311\n",
      "317\n",
      "317\n",
      "317\n",
      "317\n",
      "320\n",
      "324\n",
      "324\n",
      "327\n",
      "332\n",
      "332\n",
      "332\n",
      "335\n",
      "339\n",
      "339\n",
      "342\n",
      "349\n",
      "349\n",
      "349\n",
      "349\n",
      "349\n",
      "352\n",
      "356\n",
      "356\n",
      "359\n",
      "364\n",
      "364\n",
      "364\n",
      "367\n",
      "371\n",
      "371\n",
      "374\n",
      "380\n",
      "380\n",
      "380\n",
      "380\n",
      "383\n",
      "387\n",
      "387\n",
      "390\n",
      "395\n",
      "395\n",
      "395\n",
      "398\n",
      "402\n",
      "402\n",
      "405\n",
      "413\n",
      "413\n",
      "416\n",
      "423\n",
      "423\n",
      "423\n",
      "423\n",
      "423\n",
      "423\n",
      "423\n",
      "423\n",
      "423\n",
      "426\n",
      "430\n",
      "430\n",
      "433\n",
      "438\n",
      "438\n",
      "438\n",
      "441\n",
      "445\n",
      "445\n",
      "448\n",
      "454\n",
      "454\n",
      "454\n",
      "454\n",
      "457\n",
      "461\n",
      "461\n",
      "464\n",
      "469\n",
      "469\n",
      "469\n",
      "472\n",
      "476\n",
      "476\n",
      "479\n",
      "486\n",
      "486\n",
      "486\n",
      "486\n",
      "486\n",
      "489\n",
      "493\n",
      "493\n",
      "496\n",
      "501\n",
      "501\n",
      "501\n",
      "504\n",
      "508\n",
      "508\n",
      "511\n",
      "517\n",
      "517\n",
      "517\n",
      "517\n",
      "520\n",
      "524\n",
      "524\n",
      "527\n",
      "532\n",
      "532\n",
      "532\n",
      "535\n",
      "539\n",
      "539\n",
      "542\n",
      "550\n",
      "550\n",
      "553\n",
      "558\n",
      "558\n",
      "558\n",
      "558\n",
      "558\n",
      "558\n",
      "558\n",
      "561\n",
      "565\n",
      "565\n",
      "568\n",
      "573\n",
      "573\n",
      "573\n",
      "576\n",
      "580\n",
      "580\n",
      "583\n",
      "589\n",
      "589\n",
      "589\n",
      "589\n",
      "592\n",
      "596\n",
      "596\n",
      "599\n",
      "604\n",
      "604\n",
      "604\n",
      "607\n",
      "611\n",
      "611\n",
      "614\n",
      "621\n",
      "621\n",
      "621\n",
      "621\n",
      "621\n",
      "624\n",
      "628\n",
      "628\n",
      "631\n",
      "636\n",
      "636\n",
      "636\n",
      "639\n",
      "643\n",
      "643\n",
      "646\n",
      "652\n",
      "652\n",
      "652\n",
      "652\n",
      "655\n",
      "659\n",
      "659\n",
      "662\n",
      "667\n",
      "667\n",
      "667\n",
      "670\n",
      "674\n",
      "674\n",
      "677\n",
      "685\n",
      "685\n",
      "688\n",
      "694\n",
      "694\n",
      "694\n",
      "694\n",
      "694\n",
      "694\n",
      "694\n",
      "694\n",
      "697\n",
      "701\n",
      "701\n",
      "704\n",
      "709\n",
      "709\n",
      "709\n",
      "712\n",
      "716\n",
      "716\n",
      "719\n",
      "725\n",
      "725\n",
      "725\n",
      "725\n",
      "728\n",
      "732\n",
      "732\n",
      "735\n",
      "740\n",
      "740\n",
      "740\n",
      "743\n",
      "747\n",
      "747\n",
      "750\n",
      "757\n",
      "757\n",
      "757\n",
      "757\n",
      "757\n",
      "760\n",
      "764\n",
      "764\n",
      "767\n",
      "772\n",
      "772\n",
      "772\n",
      "775\n",
      "779\n",
      "779\n",
      "782\n",
      "788\n",
      "788\n",
      "788\n",
      "788\n",
      "791\n",
      "795\n",
      "795\n",
      "798\n",
      "803\n",
      "803\n",
      "803\n",
      "806\n",
      "810\n",
      "810\n",
      "813\n",
      "821\n",
      "821\n",
      "821\n",
      "821\n",
      "821\n",
      "821\n",
      "824\n",
      "828\n",
      "828\n",
      "831\n",
      "836\n",
      "836\n",
      "836\n",
      "839\n",
      "843\n",
      "843\n",
      "846\n",
      "852\n",
      "852\n",
      "852\n",
      "852\n",
      "855\n",
      "859\n",
      "859\n",
      "862\n",
      "867\n",
      "867\n",
      "867\n",
      "870\n",
      "874\n",
      "874\n",
      "877\n",
      "884\n",
      "884\n",
      "884\n",
      "884\n",
      "884\n",
      "887\n",
      "891\n",
      "891\n",
      "894\n",
      "899\n",
      "899\n",
      "899\n",
      "902\n",
      "906\n",
      "906\n",
      "909\n",
      "915\n",
      "915\n",
      "915\n",
      "915\n",
      "918\n",
      "922\n",
      "922\n",
      "925\n",
      "930\n",
      "930\n",
      "930\n",
      "933\n",
      "937\n",
      "937\n",
      "940\n",
      "949\n",
      "949\n",
      "949\n",
      "949\n",
      "949\n",
      "949\n",
      "949\n",
      "952\n",
      "956\n",
      "956\n",
      "959\n",
      "964\n",
      "964\n",
      "964\n",
      "967\n",
      "971\n",
      "971\n",
      "974\n",
      "980\n",
      "980\n",
      "980\n",
      "980\n",
      "983\n",
      "987\n",
      "987\n",
      "990\n",
      "995\n",
      "995\n",
      "995\n",
      "998\n",
      "1002\n",
      "1002\n",
      "1005\n",
      "1012\n",
      "1012\n",
      "1012\n",
      "1012\n",
      "1012\n",
      "1015\n",
      "1019\n",
      "1019\n",
      "1022\n",
      "1027\n",
      "1027\n",
      "1027\n",
      "1030\n",
      "1034\n",
      "1034\n",
      "1037\n",
      "1043\n",
      "1043\n",
      "1043\n",
      "1043\n",
      "1046\n",
      "1050\n",
      "1050\n",
      "1053\n",
      "1058\n",
      "1058\n",
      "1058\n",
      "1061\n",
      "1065\n",
      "1065\n",
      "1068\n",
      "1076\n",
      "1076\n",
      "1076\n",
      "1076\n",
      "1076\n",
      "1076\n",
      "1079\n",
      "1083\n",
      "1083\n",
      "1086\n",
      "1091\n",
      "1091\n",
      "1091\n",
      "1094\n",
      "1098\n",
      "1098\n",
      "1101\n",
      "1107\n",
      "1107\n",
      "1107\n",
      "1107\n",
      "1110\n",
      "1114\n",
      "1114\n",
      "1117\n",
      "1122\n",
      "1122\n",
      "1122\n",
      "1125\n",
      "1129\n",
      "1129\n",
      "1132\n",
      "1139\n",
      "1139\n",
      "1139\n",
      "1139\n",
      "1139\n",
      "1142\n",
      "1146\n",
      "1146\n",
      "1149\n",
      "1154\n",
      "1154\n",
      "1154\n",
      "1157\n",
      "1161\n",
      "1161\n",
      "1164\n",
      "1170\n",
      "1170\n",
      "1170\n",
      "1170\n",
      "1173\n",
      "1177\n",
      "1177\n",
      "1180\n",
      "1185\n",
      "1185\n",
      "1185\n",
      "1188\n",
      "1192\n",
      "1192\n",
      "1195\n",
      "1207\n",
      "1207\n",
      "1207\n",
      "1207\n",
      "1207\n",
      "1207\n",
      "1210\n",
      "1214\n",
      "1214\n",
      "1217\n",
      "1222\n",
      "1222\n",
      "1222\n",
      "1222\n",
      "1222\n",
      "1222\n",
      "1222\n",
      "1225\n",
      "1229\n",
      "1229\n",
      "1232\n",
      "1237\n",
      "1237\n",
      "1237\n",
      "1240\n",
      "1244\n",
      "1244\n",
      "1247\n",
      "1253\n",
      "1253\n",
      "1253\n",
      "1253\n",
      "1256\n",
      "1260\n",
      "1260\n",
      "1263\n",
      "1268\n",
      "1268\n",
      "1268\n",
      "1271\n",
      "1275\n",
      "1275\n",
      "1278\n",
      "1285\n",
      "1285\n",
      "1285\n",
      "1285\n",
      "1285\n",
      "1288\n",
      "1292\n",
      "1292\n",
      "1295\n",
      "1300\n",
      "1300\n",
      "1300\n",
      "1303\n",
      "1307\n",
      "1307\n",
      "1310\n",
      "1316\n",
      "1316\n",
      "1316\n",
      "1316\n",
      "1319\n",
      "1323\n",
      "1323\n",
      "1326\n",
      "1331\n",
      "1331\n",
      "1331\n",
      "1334\n",
      "1338\n",
      "1338\n",
      "1341\n",
      "1349\n",
      "1349\n",
      "1352\n",
      "1358\n",
      "1358\n",
      "1358\n",
      "1358\n",
      "1358\n",
      "1358\n",
      "1358\n",
      "1358\n",
      "1361\n",
      "1365\n",
      "1365\n",
      "1368\n",
      "1373\n",
      "1373\n",
      "1373\n",
      "1376\n",
      "1380\n",
      "1380\n",
      "1383\n",
      "1389\n",
      "1389\n",
      "1389\n",
      "1389\n",
      "1392\n",
      "1396\n",
      "1396\n",
      "1399\n",
      "1404\n",
      "1404\n",
      "1404\n",
      "1407\n",
      "1411\n",
      "1411\n",
      "1414\n",
      "1421\n",
      "1421\n",
      "1421\n",
      "1421\n",
      "1421\n",
      "1424\n",
      "1428\n",
      "1428\n",
      "1431\n",
      "1436\n",
      "1436\n",
      "1436\n",
      "1439\n",
      "1443\n",
      "1443\n",
      "1446\n",
      "1452\n",
      "1452\n",
      "1452\n",
      "1452\n",
      "1455\n",
      "1459\n",
      "1459\n",
      "1462\n",
      "1467\n",
      "1467\n",
      "1467\n",
      "1470\n",
      "1474\n",
      "1474\n",
      "1477\n",
      "1485\n",
      "1485\n",
      "1488\n",
      "1493\n",
      "1493\n",
      "1493\n",
      "1493\n",
      "1493\n",
      "1493\n",
      "1493\n",
      "1496\n",
      "1500\n",
      "1500\n",
      "1503\n",
      "1508\n",
      "1508\n",
      "1508\n",
      "1511\n",
      "1515\n",
      "1515\n",
      "1518\n",
      "1524\n",
      "1524\n",
      "1524\n",
      "1524\n",
      "1527\n",
      "1531\n",
      "1531\n",
      "1534\n",
      "1539\n",
      "1539\n",
      "1539\n",
      "1542\n",
      "1546\n",
      "1546\n",
      "1549\n",
      "1556\n",
      "1556\n",
      "1556\n",
      "1556\n",
      "1556\n",
      "1559\n",
      "1563\n",
      "1563\n",
      "1566\n",
      "1571\n",
      "1571\n",
      "1571\n",
      "1574\n",
      "1578\n",
      "1578\n",
      "1581\n",
      "1587\n",
      "1587\n",
      "1587\n",
      "1587\n",
      "1590\n",
      "1594\n",
      "1594\n",
      "1597\n",
      "1602\n",
      "1602\n",
      "1602\n",
      "1605\n",
      "1609\n",
      "1609\n",
      "1612\n",
      "1620\n",
      "1620\n",
      "1623\n",
      "1630\n",
      "1630\n",
      "1630\n",
      "1630\n",
      "1630\n",
      "1633\n",
      "1637\n",
      "1637\n",
      "1640\n",
      "1645\n",
      "1645\n",
      "1645\n",
      "1648\n",
      "1652\n",
      "1652\n",
      "1655\n",
      "1661\n",
      "1661\n",
      "1661\n",
      "1661\n",
      "1661\n",
      "1661\n",
      "1661\n",
      "1661\n",
      "1664\n",
      "1668\n",
      "1668\n",
      "1671\n",
      "1676\n",
      "1676\n",
      "1676\n",
      "1679\n",
      "1683\n",
      "1683\n",
      "1686\n",
      "1692\n",
      "1692\n",
      "1692\n",
      "1692\n",
      "1695\n",
      "1699\n",
      "1699\n",
      "1702\n",
      "1707\n",
      "1707\n",
      "1707\n",
      "1710\n",
      "1714\n",
      "1714\n",
      "1717\n",
      "1724\n",
      "1724\n",
      "1724\n",
      "1724\n",
      "1724\n",
      "1727\n",
      "1731\n",
      "1731\n",
      "1734\n",
      "1739\n",
      "1739\n",
      "1739\n",
      "1742\n",
      "1746\n",
      "1746\n",
      "1749\n",
      "1755\n",
      "1755\n",
      "1755\n",
      "1755\n",
      "1758\n",
      "1762\n",
      "1762\n",
      "1765\n",
      "1770\n",
      "1770\n",
      "1770\n",
      "1773\n",
      "1777\n",
      "1777\n",
      "1780\n",
      "1788\n",
      "1788\n",
      "1788\n",
      "1788\n",
      "1788\n",
      "1788\n",
      "1791\n",
      "1795\n",
      "1795\n",
      "1798\n",
      "1803\n",
      "1803\n",
      "1803\n",
      "1806\n",
      "1810\n",
      "1810\n",
      "1813\n",
      "1819\n",
      "1819\n",
      "1819\n",
      "1819\n",
      "1822\n",
      "1826\n",
      "1826\n",
      "1829\n",
      "1834\n",
      "1834\n",
      "1834\n",
      "1837\n",
      "1841\n",
      "1841\n",
      "1844\n",
      "1851\n",
      "1851\n",
      "1851\n",
      "1851\n",
      "1851\n",
      "1854\n",
      "1858\n",
      "1858\n",
      "1861\n",
      "1866\n",
      "1866\n",
      "1866\n",
      "1869\n",
      "1873\n",
      "1873\n",
      "1876\n",
      "1882\n",
      "1882\n",
      "1882\n",
      "1882\n",
      "1885\n",
      "1889\n",
      "1889\n",
      "1892\n",
      "1897\n",
      "1897\n",
      "1897\n",
      "1900\n",
      "1904\n",
      "1904\n",
      "1907\n",
      "1916\n",
      "1916\n",
      "1916\n",
      "1916\n",
      "1916\n",
      "1916\n",
      "1916\n",
      "1919\n",
      "1923\n",
      "1923\n",
      "1926\n",
      "1931\n",
      "1931\n",
      "1931\n",
      "1934\n",
      "1938\n",
      "1938\n",
      "1941\n",
      "1947\n",
      "1947\n",
      "1947\n",
      "1947\n",
      "1950\n",
      "1954\n",
      "1954\n",
      "1957\n",
      "1962\n",
      "1962\n",
      "1962\n",
      "1965\n",
      "1969\n",
      "1969\n",
      "1972\n",
      "1979\n",
      "1979\n",
      "1979\n",
      "1979\n",
      "1979\n",
      "1982\n",
      "1986\n",
      "1986\n",
      "1989\n",
      "1994\n",
      "1994\n",
      "1994\n",
      "1997\n",
      "2001\n",
      "2001\n",
      "2004\n",
      "2010\n",
      "2010\n",
      "2010\n",
      "2010\n",
      "2013\n",
      "2017\n",
      "2017\n",
      "2020\n",
      "2025\n",
      "2025\n",
      "2025\n",
      "2028\n",
      "2032\n",
      "2032\n",
      "2035\n",
      "2043\n",
      "2043\n",
      "2043\n",
      "2043\n",
      "2043\n",
      "2043\n",
      "2046\n",
      "2050\n",
      "2050\n",
      "2053\n",
      "2058\n",
      "2058\n",
      "2058\n",
      "2061\n",
      "2065\n",
      "2065\n",
      "2068\n",
      "2074\n",
      "2074\n",
      "2074\n",
      "2074\n",
      "2077\n",
      "2081\n",
      "2081\n",
      "2084\n",
      "2089\n",
      "2089\n",
      "2089\n",
      "2092\n",
      "2096\n",
      "2096\n",
      "2099\n",
      "2106\n",
      "2106\n",
      "2106\n",
      "2106\n",
      "2106\n",
      "2109\n",
      "2113\n",
      "2113\n",
      "2116\n",
      "2121\n",
      "2121\n",
      "2121\n",
      "2124\n",
      "2128\n",
      "2128\n",
      "2131\n",
      "2137\n",
      "2137\n",
      "2137\n",
      "2137\n",
      "2140\n",
      "2144\n",
      "2144\n",
      "2147\n",
      "2152\n",
      "2152\n",
      "2152\n",
      "2155\n",
      "2159\n",
      "2159\n",
      "2162\n"
     ]
    }
   ],
   "source": [
    "dico_tot = []\n",
    "count = 0\n",
    "def construct(i,n,X,dico_interval):\n",
    "    \n",
    "    if i>n:\n",
    "        return X\n",
    "    else:\n",
    "        pos = get_pos(X,dico_interval,i)\n",
    "        if pos!=[0,0,0]:\n",
    "            print(len(dico_tot))\n",
    "            x_moins = np.array([pos[0][0], pos[1][0], pos[2][0]]).reshape((1,3))\n",
    "            x_plus = np.array([pos[0][1], pos[1][1], pos[2][1]]).reshape((1,3))\n",
    "            X_moins = np.concatenate([X, x_moins])\n",
    "            X_plus = np.concatenate([X,x_plus])\n",
    "            dico_tot.append(construct(i+1,n,X_moins,dico_interval))\n",
    "            dico_tot.append(construct(i+1,n,X_plus,dico_interval))\n",
    "        else:\n",
    "            return X\n",
    "X = np.zeros((1,3))\n",
    "construct(1,n,X,dico_interval )"
   ]
  },
  {
   "cell_type": "code",
   "execution_count": 179,
   "metadata": {},
   "outputs": [],
   "source": [
    "n_max = 1\n",
    "elem_max = []\n",
    "for elem in dico_tot:\n",
    "    if elem is not None and len(elem)>n_max:\n",
    "        elem_max = elem\n",
    "        n_max = len(elem)"
   ]
  },
  {
   "cell_type": "code",
   "execution_count": 182,
   "metadata": {},
   "outputs": [
    {
     "data": {
      "text/plain": [
       "array([[ 0.        ,  0.        ,  0.        ],\n",
       "       [ 1.58458354,  1.58518573,  1.58458352],\n",
       "       [ 2.10139974,  0.11953618,  4.02279336],\n",
       "       [ 3.24804356,  0.30678786,  2.73413321],\n",
       "       [ 4.78000316, -1.47794656,  2.86233139],\n",
       "       [ 1.34383726,  2.93823523,  3.3651353 ],\n",
       "       [ 3.00889981,  4.6032978 ,  5.03083065],\n",
       "       [ 3.82327194,  5.42014642,  2.84926642],\n",
       "       [ 2.91407978,  3.9353226 ,  1.05098006],\n",
       "       [ 4.70176196,  6.30311374,  5.27865928],\n",
       "       [ 5.50887084,  4.36246266,  7.17310359],\n",
       "       [ 6.51436363,  5.95017722,  3.48340741]])"
      ]
     },
     "execution_count": 182,
     "metadata": {},
     "output_type": "execute_result"
    }
   ],
   "source": [
    "elem_max"
   ]
  },
  {
   "cell_type": "code",
   "execution_count": 72,
   "metadata": {},
   "outputs": [],
   "source": [
    "#X = np.random.normal(loc = 0, scale=20, size=(63,3))\n",
    "X = np.zeros((,3))\n",
    "X[1] = [dico_constrains[(0,1)],0,0]\n",
    "X[2] = [0,dico_constrains[(0,2)],0]\n",
    "#X[3] = [0,0,dico_constrains[(0,3)]]\n",
    "\n"
   ]
  },
  {
   "cell_type": "code",
   "execution_count": 73,
   "metadata": {},
   "outputs": [
    {
     "data": {
      "text/plain": [
       "array([[0.        , 0.        , 0.        ],\n",
       "       [2.71784866, 0.        , 0.        ],\n",
       "       [0.        , 4.49537026, 0.        ]])"
      ]
     },
     "execution_count": 73,
     "metadata": {},
     "output_type": "execute_result"
    }
   ],
   "source": [
    "X"
   ]
  },
  {
   "cell_type": "code",
   "execution_count": 137,
   "metadata": {},
   "outputs": [
    {
     "name": "stdout",
     "output_type": "stream",
     "text": [
      "1\n",
      "1\n",
      "2\n",
      "2\n",
      "3\n",
      "3\n",
      "4\n",
      "4\n",
      "5\n",
      "5\n",
      "6\n",
      "6\n",
      "7\n",
      "7\n",
      "8\n",
      "8\n",
      "9\n",
      "9\n",
      "10\n",
      "10\n",
      "11\n",
      "11\n",
      "12\n",
      "12\n"
     ]
    },
    {
     "ename": "UnboundLocalError",
     "evalue": "local variable 'pos' referenced before assignment",
     "output_type": "error",
     "traceback": [
      "\u001b[1;31m---------------------------------------------------------------------------\u001b[0m",
      "\u001b[1;31mUnboundLocalError\u001b[0m                         Traceback (most recent call last)",
      "\u001b[1;32mc:\\Users\\thoma\\ENSTA\\IA302\\LSbuild\\simulated_annealing.ipynb Cell 116\u001b[0m line \u001b[0;36m5\n\u001b[0;32m      <a href='vscode-notebook-cell:/c%3A/Users/thoma/ENSTA/IA302/LSbuild/simulated_annealing.ipynb#Y224sZmlsZQ%3D%3D?line=2'>3</a>\u001b[0m \u001b[39mwhile\u001b[39;00m count\u001b[39m!=\u001b[39m\u001b[39m15\u001b[39m:\n\u001b[0;32m      <a href='vscode-notebook-cell:/c%3A/Users/thoma/ENSTA/IA302/LSbuild/simulated_annealing.ipynb#Y224sZmlsZQ%3D%3D?line=3'>4</a>\u001b[0m     \u001b[39mprint\u001b[39m(count)\n\u001b[1;32m----> <a href='vscode-notebook-cell:/c%3A/Users/thoma/ENSTA/IA302/LSbuild/simulated_annealing.ipynb#Y224sZmlsZQ%3D%3D?line=4'>5</a>\u001b[0m     X \u001b[39m=\u001b[39m add_atom(X, dico_interval, count)\n\u001b[0;32m      <a href='vscode-notebook-cell:/c%3A/Users/thoma/ENSTA/IA302/LSbuild/simulated_annealing.ipynb#Y224sZmlsZQ%3D%3D?line=5'>6</a>\u001b[0m     count \u001b[39m+\u001b[39m\u001b[39m=\u001b[39m \u001b[39m1\u001b[39m\n",
      "\u001b[1;32mc:\\Users\\thoma\\ENSTA\\IA302\\LSbuild\\simulated_annealing.ipynb Cell 116\u001b[0m line \u001b[0;36m3\n\u001b[0;32m     <a href='vscode-notebook-cell:/c%3A/Users/thoma/ENSTA/IA302/LSbuild/simulated_annealing.ipynb#Y224sZmlsZQ%3D%3D?line=31'>32</a>\u001b[0m \u001b[39mif\u001b[39;00m (\u001b[39mlen\u001b[39m(stack_acc) \u001b[39m!=\u001b[39m \u001b[39m0\u001b[39m):\n\u001b[0;32m     <a href='vscode-notebook-cell:/c%3A/Users/thoma/ENSTA/IA302/LSbuild/simulated_annealing.ipynb#Y224sZmlsZQ%3D%3D?line=32'>33</a>\u001b[0m     pos \u001b[39m=\u001b[39m mean(stack_acc[\u001b[39m0\u001b[39m])\n\u001b[1;32m---> <a href='vscode-notebook-cell:/c%3A/Users/thoma/ENSTA/IA302/LSbuild/simulated_annealing.ipynb#Y224sZmlsZQ%3D%3D?line=33'>34</a>\u001b[0m new_X \u001b[39m=\u001b[39m np\u001b[39m.\u001b[39mconcatenate([X,pos])\n\u001b[0;32m     <a href='vscode-notebook-cell:/c%3A/Users/thoma/ENSTA/IA302/LSbuild/simulated_annealing.ipynb#Y224sZmlsZQ%3D%3D?line=34'>35</a>\u001b[0m \u001b[39mreturn\u001b[39;00m new_X\n",
      "\u001b[1;31mUnboundLocalError\u001b[0m: local variable 'pos' referenced before assignment"
     ]
    }
   ],
   "source": [
    "count = 1\n",
    "X = np.zeros((1,3))\n",
    "while count!=15:\n",
    "    print(count)\n",
    "    X = add_atom(X, dico_interval, count)\n",
    "    count += 1"
   ]
  },
  {
   "cell_type": "code",
   "execution_count": 139,
   "metadata": {},
   "outputs": [
    {
     "data": {
      "text/plain": [
       "(12, 3)"
      ]
     },
     "execution_count": 139,
     "metadata": {},
     "output_type": "execute_result"
    }
   ],
   "source": [
    "X.shape"
   ]
  },
  {
   "cell_type": "code",
   "execution_count": 140,
   "metadata": {},
   "outputs": [],
   "source": [
    "for i in range(12):\n",
    "    for j in range(12):\n",
    "        for k in range(12):\n",
    "            if np.linalg.norm(X[i]-X[j]) > np.linalg.norm(X[i]-X[k]) + np.linalg.norm(X[k]-X[j]):\n",
    "                print(\"error\")"
   ]
  },
  {
   "cell_type": "code",
   "execution_count": null,
   "metadata": {},
   "outputs": [],
   "source": []
  },
  {
   "cell_type": "code",
   "execution_count": 92,
   "metadata": {},
   "outputs": [],
   "source": [
    "X_5_8 = np.array([[-0.5086419 , -0.04529048, -1.89655235],\n",
    "       [-0.50091488,  2.0554787 ,  0.15775394],\n",
    "       [-0.49707916, -2.0204531 ,  0.16403237],\n",
    "       [-0.4921365 ,  0.00635664,  1.61221973]])"
   ]
  },
  {
   "cell_type": "code",
   "execution_count": null,
   "metadata": {},
   "outputs": [],
   "source": [
    "X_tot = np.concatenate([X,X_5_8])"
   ]
  },
  {
   "cell_type": "code",
   "execution_count": 78,
   "metadata": {},
   "outputs": [
    {
     "name": "stdout",
     "output_type": "stream",
     "text": [
      "5\n",
      "3\n"
     ]
    },
    {
     "ename": "UnboundLocalError",
     "evalue": "local variable 'pos' referenced before assignment",
     "output_type": "error",
     "traceback": [
      "\u001b[1;31m---------------------------------------------------------------------------\u001b[0m",
      "\u001b[1;31mUnboundLocalError\u001b[0m                         Traceback (most recent call last)",
      "\u001b[1;32mc:\\Users\\thoma\\ENSTA\\IA302\\LSbuild\\simulated_annealing.ipynb Cell 109\u001b[0m line \u001b[0;36m5\n\u001b[0;32m      <a href='vscode-notebook-cell:/c%3A/Users/thoma/ENSTA/IA302/LSbuild/simulated_annealing.ipynb#Y232sZmlsZQ%3D%3D?line=2'>3</a>\u001b[0m \u001b[39mwhile\u001b[39;00m count\u001b[39m!=\u001b[39m\u001b[39m9\u001b[39m:\n\u001b[0;32m      <a href='vscode-notebook-cell:/c%3A/Users/thoma/ENSTA/IA302/LSbuild/simulated_annealing.ipynb#Y232sZmlsZQ%3D%3D?line=3'>4</a>\u001b[0m     \u001b[39mprint\u001b[39m(count)\n\u001b[1;32m----> <a href='vscode-notebook-cell:/c%3A/Users/thoma/ENSTA/IA302/LSbuild/simulated_annealing.ipynb#Y232sZmlsZQ%3D%3D?line=4'>5</a>\u001b[0m     X \u001b[39m=\u001b[39m add_atom(X, dico_interval, count)\n\u001b[0;32m      <a href='vscode-notebook-cell:/c%3A/Users/thoma/ENSTA/IA302/LSbuild/simulated_annealing.ipynb#Y232sZmlsZQ%3D%3D?line=5'>6</a>\u001b[0m     count \u001b[39m+\u001b[39m\u001b[39m=\u001b[39m \u001b[39m1\u001b[39m\n",
      "\u001b[1;32mc:\\Users\\thoma\\ENSTA\\IA302\\LSbuild\\simulated_annealing.ipynb Cell 109\u001b[0m line \u001b[0;36m3\n\u001b[0;32m     <a href='vscode-notebook-cell:/c%3A/Users/thoma/ENSTA/IA302/LSbuild/simulated_annealing.ipynb#Y232sZmlsZQ%3D%3D?line=31'>32</a>\u001b[0m \u001b[39mif\u001b[39;00m (\u001b[39mlen\u001b[39m(stack_acc) \u001b[39m!=\u001b[39m \u001b[39m0\u001b[39m):\n\u001b[0;32m     <a href='vscode-notebook-cell:/c%3A/Users/thoma/ENSTA/IA302/LSbuild/simulated_annealing.ipynb#Y232sZmlsZQ%3D%3D?line=32'>33</a>\u001b[0m     pos \u001b[39m=\u001b[39m mean(stack_acc[\u001b[39m0\u001b[39m])\n\u001b[1;32m---> <a href='vscode-notebook-cell:/c%3A/Users/thoma/ENSTA/IA302/LSbuild/simulated_annealing.ipynb#Y232sZmlsZQ%3D%3D?line=33'>34</a>\u001b[0m new_X \u001b[39m=\u001b[39m np\u001b[39m.\u001b[39mconcatenate([X,pos])\n\u001b[0;32m     <a href='vscode-notebook-cell:/c%3A/Users/thoma/ENSTA/IA302/LSbuild/simulated_annealing.ipynb#Y232sZmlsZQ%3D%3D?line=34'>35</a>\u001b[0m \u001b[39mreturn\u001b[39;00m new_X\n",
      "\u001b[1;31mUnboundLocalError\u001b[0m: local variable 'pos' referenced before assignment"
     ]
    }
   ],
   "source": [
    "count = 5\n",
    "X = np.zeros((5,3))\n",
    "while count!=9:\n",
    "    print(count)\n",
    "    X = add_atom(X, dico_interval, count)\n",
    "    count += 1"
   ]
  },
  {
   "cell_type": "code",
   "execution_count": 67,
   "metadata": {},
   "outputs": [
    {
     "data": {
      "text/plain": [
       "2.7205665736483455"
      ]
     },
     "execution_count": 67,
     "metadata": {},
     "output_type": "execute_result"
    }
   ],
   "source": [
    "np.linalg.norm(X[1])"
   ]
  },
  {
   "cell_type": "code",
   "execution_count": 105,
   "metadata": {},
   "outputs": [],
   "source": [
    "def verif(X,dico_interval):\n",
    "    n = X.shape[0]\n",
    "    count = 0\n",
    "    for (i,j), (low,up) in dico_interval.items():\n",
    "        if i<n and j<n:\n",
    "            dist = np.linalg.norm(X[i] - X[j])\n",
    "            print(f\"edge: ({i,j}\")\n",
    "            print(dist)\n",
    "            print(f\"low : {low}    up : {up}\")\n",
    "            print()\n",
    "    return count"
   ]
  },
  {
   "cell_type": "code",
   "execution_count": 111,
   "metadata": {},
   "outputs": [],
   "source": [
    "def verif_tot(X, dico_interval):\n",
    "    for (i,j), (low,up) in dico_interval.items():\n",
    "        dist = np.linalg.norm(X[i] - X[j])\n",
    "        if dist<low or dist >up:\n",
    "            return False\n",
    "    return True"
   ]
  },
  {
   "cell_type": "code",
   "execution_count": 112,
   "metadata": {},
   "outputs": [
    {
     "data": {
      "text/plain": [
       "False"
      ]
     },
     "execution_count": 112,
     "metadata": {},
     "output_type": "execute_result"
    }
   ],
   "source": [
    "verif_tot(X,dico_interval)"
   ]
  },
  {
   "cell_type": "code",
   "execution_count": 128,
   "metadata": {},
   "outputs": [
    {
     "data": {
      "text/plain": [
       "2.7161861812419787"
      ]
     },
     "execution_count": 128,
     "metadata": {},
     "output_type": "execute_result"
    }
   ],
   "source": [
    "np.linalg.norm(X[0] - X[1])"
   ]
  },
  {
   "cell_type": "code",
   "execution_count": 84,
   "metadata": {},
   "outputs": [
    {
     "data": {
      "text/plain": [
       "2.7154822749207317"
      ]
     },
     "execution_count": 84,
     "metadata": {},
     "output_type": "execute_result"
    }
   ],
   "source": [
    "X0 = np.array([2.83455656e+00 ,  6.36186041e-01 ,  3.63035087e+00 ])\n",
    "X1 = np.array([6.89690506e-01 , -4.68265409e-01 ,  2.38392374e+00])\n",
    "np.linalg.norm(X0 - X1)"
   ]
  },
  {
   "cell_type": "code",
   "execution_count": 129,
   "metadata": {},
   "outputs": [
    {
     "data": {
      "text/plain": [
       "array([[ 0.55787626,  3.02003749,  0.19846142],\n",
       "       [-1.30423651,  1.31719859, -0.8067963 ],\n",
       "       [-1.6210181 , -0.78209289,  1.19615428],\n",
       "       [-0.71340402, -0.96693982, -0.28869732],\n",
       "       [ 0.86540609, -2.67338861, -0.04022001],\n",
       "       [-0.51897231,  2.01584711,  1.16923965],\n",
       "       [ 1.13853775,  3.6727275 ,  2.82612003],\n",
       "       [-1.06257858,  4.48145958,  3.6341082 ],\n",
       "       [-2.85191609,  2.94703924,  2.72455013],\n",
       "       [ 1.35081799,  5.36385337,  4.51567046],\n",
       "       [ 2.97623767,  6.98989076,  6.14109012],\n",
       "       [-0.73378358,  6.44859615,  5.60124475]])"
      ]
     },
     "execution_count": 129,
     "metadata": {},
     "output_type": "execute_result"
    }
   ],
   "source": [
    "X "
   ]
  },
  {
   "cell_type": "code",
   "execution_count": 87,
   "metadata": {},
   "outputs": [
    {
     "data": {
      "text/plain": [
       "array([[2.83455656, 0.63618604, 3.63035087],\n",
       "       [4.4113534 , 2.21298286, 5.20774694],\n",
       "       [2.95296691, 4.69363621, 5.61378847],\n",
       "       [3.08799176, 3.42792869, 6.80583393],\n",
       "       [1.32855709, 3.57049243, 8.3230864 ],\n",
       "       [5.78924311, 3.95617846, 4.93912691],\n",
       "       [7.44675317, 5.61305887, 6.59600727],\n",
       "       [5.24563684, 6.42179094, 7.40399546],\n",
       "       [3.45629934, 4.8873706 , 6.49443739],\n",
       "       [7.65903342, 7.30418474, 8.2855577 ],\n",
       "       [9.28445307, 8.92960443, 9.91159509],\n",
       "       [5.57443185, 8.3889275 , 9.371132  ]])"
      ]
     },
     "execution_count": 87,
     "metadata": {},
     "output_type": "execute_result"
    }
   ],
   "source": [
    "X + np.array(X0)"
   ]
  },
  {
   "cell_type": "code",
   "execution_count": 134,
   "metadata": {},
   "outputs": [
    {
     "name": "stdout",
     "output_type": "stream",
     "text": [
      "3.363067782717367\n",
      "3.2794447863137433\n",
      "2.2192210446896676\n"
     ]
    }
   ],
   "source": [
    "X8 = np.array([  7.06760517e-01,  -4.71016652e+00 , -1.34681783e+00])\n",
    "X9 = np.array([ -1.49827588e+00 , -4.08228545e+00,  -3.37522343e-01])\n",
    "X12 = np.array([ -1.04372973e+00 , -3.02951353e+00 ,  3.31519175e-02])\n",
    "X13 = np.array([  5.43530260e-01 , -1.51619354e+00 , -3.06569111e-01])\n",
    "print(np.linalg.norm(X8-X13))\n",
    "print(np.linalg.norm(X9-X13))\n",
    "print(np.linalg.norm(X12-X13))\n",
    "\n",
    "      \n"
   ]
  },
  {
   "cell_type": "code",
   "execution_count": 27,
   "metadata": {},
   "outputs": [],
   "source": [
    "from mpl_toolkits.mplot3d import Axes3D\n",
    "import matplotlib.pyplot as plt"
   ]
  },
  {
   "cell_type": "code",
   "execution_count": 29,
   "metadata": {},
   "outputs": [
    {
     "ename": "IndexError",
     "evalue": "list index out of range",
     "output_type": "error",
     "traceback": [
      "\u001b[1;31m---------------------------------------------------------------------------\u001b[0m",
      "\u001b[1;31mIndexError\u001b[0m                                Traceback (most recent call last)",
      "\u001b[1;32mc:\\Users\\thoma\\ENSTA\\IA302\\LSbuild\\simulated_annealing.ipynb Cell 114\u001b[0m line \u001b[0;36m1\n\u001b[0;32m     <a href='vscode-notebook-cell:/c%3A/Users/thoma/ENSTA/IA302/LSbuild/simulated_annealing.ipynb#Y215sZmlsZQ%3D%3D?line=11'>12</a>\u001b[0m     y \u001b[39m=\u001b[39m center[\u001b[39m1\u001b[39m] \u001b[39m+\u001b[39m radius \u001b[39m*\u001b[39m np\u001b[39m.\u001b[39mouter(np\u001b[39m.\u001b[39msin(u), np\u001b[39m.\u001b[39msin(v))\n\u001b[0;32m     <a href='vscode-notebook-cell:/c%3A/Users/thoma/ENSTA/IA302/LSbuild/simulated_annealing.ipynb#Y215sZmlsZQ%3D%3D?line=12'>13</a>\u001b[0m     z \u001b[39m=\u001b[39m center[\u001b[39m2\u001b[39m] \u001b[39m+\u001b[39m radius \u001b[39m*\u001b[39m np\u001b[39m.\u001b[39mouter(np\u001b[39m.\u001b[39mones(np\u001b[39m.\u001b[39msize(u)), np\u001b[39m.\u001b[39mcos(v))\n\u001b[1;32m---> <a href='vscode-notebook-cell:/c%3A/Users/thoma/ENSTA/IA302/LSbuild/simulated_annealing.ipynb#Y215sZmlsZQ%3D%3D?line=13'>14</a>\u001b[0m     ax\u001b[39m.\u001b[39mplot_surface(x, y, z, color\u001b[39m=\u001b[39mcolor[count], alpha\u001b[39m=\u001b[39m\u001b[39m0.5\u001b[39m)\n\u001b[0;32m     <a href='vscode-notebook-cell:/c%3A/Users/thoma/ENSTA/IA302/LSbuild/simulated_annealing.ipynb#Y215sZmlsZQ%3D%3D?line=14'>15</a>\u001b[0m     count \u001b[39m+\u001b[39m\u001b[39m=\u001b[39m \u001b[39m1\u001b[39m\n\u001b[0;32m     <a href='vscode-notebook-cell:/c%3A/Users/thoma/ENSTA/IA302/LSbuild/simulated_annealing.ipynb#Y215sZmlsZQ%3D%3D?line=15'>16</a>\u001b[0m plt\u001b[39m.\u001b[39mshow()\n",
      "\u001b[1;31mIndexError\u001b[0m: list index out of range"
     ]
    },
    {
     "data": {
      "image/png": "[encoded data removed]",
      "text/plain": [
       "<Figure size 640x480 with 1 Axes>"
      ]
     },
     "metadata": {},
     "output_type": "display_data"
    }
   ],
   "source": [
    "fig = plt.figure()\n",
    "ax = fig.add_subplot(111, projection='3d')\n",
    "ax.set_aspect(\"equal\")\n",
    "color = [\"b\",\"r\",\"g\"]\n",
    "count = 0\n",
    "for i in [0,1,2,3]:\n",
    "    center = X[i]\n",
    "    u = np.linspace(0, 2 * np.pi, 100)\n",
    "    v = np.linspace(0, np.pi, 100)\n",
    "    radius = np.mean(dico_interval[(i,4)])\n",
    "    x = center[0] + radius * np.outer(np.cos(u), np.sin(v))\n",
    "    y = center[1] + radius * np.outer(np.sin(u), np.sin(v))\n",
    "    z = center[2] + radius * np.outer(np.ones(np.size(u)), np.cos(v))\n",
    "    ax.plot_surface(x, y, z, color=color[count], alpha=0.5)\n",
    "    count += 1\n",
    "plt.show()"
   ]
  },
  {
   "cell_type": "code",
   "execution_count": 63,
   "metadata": {},
   "outputs": [
    {
     "name": "stdout",
     "output_type": "stream",
     "text": [
      "7\n",
      "8\n",
      "11\n"
     ]
    }
   ],
   "source": [
    "for (i,j),(low,up) in dico_interval.items():\n",
    "    if j==12:\n",
    "        print(i)"
   ]
  },
  {
   "cell_type": "code",
   "execution_count": null,
   "metadata": {},
   "outputs": [],
   "source": []
  },
  {
   "cell_type": "markdown",
   "metadata": {},
   "source": [
    "# APA"
   ]
  },
  {
   "cell_type": "code",
   "execution_count": 86,
   "metadata": {},
   "outputs": [],
   "source": [
    "G = nx.Graph()\n",
    "G.add_nodes_from([i for i in range(n)])\n",
    "for (i,j), (mini, maxi) in dico_interval.items():\n",
    "    G.add_edges_from([(i,j,{\"mini\":mini, \"maxi\":maxi})])\n",
    "eps = 1e-8\n",
    "link = dict(nx.all_pairs_dijkstra(G))\n",
    "for i in range(n-1):\n",
    "    pairs = link[i][1]\n",
    "    for j in range(i+1,n):\n",
    "        if ((i,j) not in dico_interval.keys()) and i!=j:\n",
    "            path = pairs[j]\n",
    "            maxi = 0\n",
    "            for k in range(len(path)-1):\n",
    "                u = path[k]\n",
    "                v = path[k+1]\n",
    "                maxi += G.get_edge_data(u,v)[\"maxi\"]\n",
    "            G.add_edges_from([(i,j,{\"mini\":eps, \"maxi\":maxi})])\n",
    "            dico_interval[(i,j)] = [eps,maxi]\n",
    "            \n",
    "\n",
    "for k in range(n):\n",
    "    for i in range(n-1):\n",
    "        for j in range(i+1,n):\n",
    "            if i!=j and j!=k and i!=k:\n",
    "                low = G.get_edge_data(i,j)[\"mini\"]\n",
    "                up = G.get_edge_data(i,j)[\"maxi\"]\n",
    "                if up > G.get_edge_data(i,k)[\"maxi\"] + G.get_edge_data(k,j)[\"maxi\"]:\n",
    "                    up = G.get_edge_data(i,k)[\"maxi\"] + G.get_edge_data(k,j)[\"maxi\"]\n",
    "                if low < G.get_edge_data(i,k)[\"mini\"] - G.get_edge_data(k,j)[\"maxi\"]:\n",
    "                    low = G.get_edge_data(i,k)[\"mini\"] - G.get_edge_data(k,j)[\"maxi\"]\n",
    "                if low < G.get_edge_data(k,j)[\"mini\"] - G.get_edge_data(k,i)[\"maxi\"]:\n",
    "                    low = G.get_edge_data(k,j)[\"mini\"] - G.get_edge_data(k,i)[\"maxi\"]\n",
    "                G.add_edges_from([(i,j,{\"mini\":low, \"maxi\":up})])\n",
    "            "
   ]
  },
  {
   "cell_type": "code",
   "execution_count": 88,
   "metadata": {},
   "outputs": [],
   "source": [
    "def smooth_entry(upper,lower,li,j,k):\n",
    "    for i in li:\n",
    "        new_up = np.min([upper[i,j],upper[i,k] + upper[k,j]])\n",
    "        new_low = np.max([lower[i,j],lower[i,k] - upper[k,j], lower[j,k] - upper[k,i]])\n",
    "        upper[i,j] = new_up\n",
    "        lower[i,j] = np.max([eps,new_low])\n",
    "    return upper, lower"
   ]
  },
  {
   "cell_type": "code",
   "execution_count": 40,
   "metadata": {},
   "outputs": [],
   "source": [
    "dico_apa = {}\n",
    "for i in range(n):\n",
    "    for j in range(n):\n",
    "        if i!=j:\n",
    "            dico_apa[(i,j)] = [G.get_edge_data(i,j)[\"mini\"], G.get_edge_data(i,j)[\"maxi\"]]"
   ]
  },
  {
   "cell_type": "code",
   "execution_count": 93,
   "metadata": {},
   "outputs": [],
   "source": [
    "def get_pre_distance_matrice(n,dico_interval):\n",
    "    D = np.zeros((n,n))\n",
    "    for (i, j),(low, up) in dico_interval.items():\n",
    "        a = np.random.random()\n",
    "        #a = 0.5\n",
    "        D[i,j] = a*low + (1-a)*up\n",
    "        D[j,i] = a*low + (1-a)*up\n",
    "    return D"
   ]
  },
  {
   "cell_type": "code",
   "execution_count": 60,
   "metadata": {},
   "outputs": [],
   "source": [
    "def get_P(n):\n",
    "    return np.identity(n) - (1/n)*np.ones((n,1))@np.ones((1,n))"
   ]
  },
  {
   "cell_type": "code",
   "execution_count": 42,
   "metadata": {},
   "outputs": [],
   "source": [
    "def get_A(n,dico_interval):\n",
    "    D = get_pre_distance_matrice(n,dico_interval)\n",
    "    P = get_P(n)\n",
    "    A = -0.5*P@D@P\n",
    "    return A"
   ]
  },
  {
   "cell_type": "code",
   "execution_count": 142,
   "metadata": {},
   "outputs": [],
   "source": [
    "D = get_pre_distance_matrice(n,dico_interval_origin)"
   ]
  },
  {
   "cell_type": "code",
   "execution_count": 144,
   "metadata": {},
   "outputs": [],
   "source": [
    "values, vectors = np.linalg.eig(D)"
   ]
  },
  {
   "cell_type": "code",
   "execution_count": null,
   "metadata": {},
   "outputs": [],
   "source": [
    "index"
   ]
  },
  {
   "cell_type": "code",
   "execution_count": 145,
   "metadata": {},
   "outputs": [
    {
     "data": {
      "text/plain": [
       "array([ 31.71857291,  28.19041064,  22.14832638,  20.43936167,\n",
       "        18.05436433,  16.48990193,  13.93298564,  12.71109216,\n",
       "       -15.7862442 ,  10.51477124,   8.66484426, -12.96003474,\n",
       "       -12.4541188 ,   5.1023775 , -10.78984271,  -9.97439908,\n",
       "        -9.72297785,   3.68095918,  -9.00736589,  -8.29533847,\n",
       "        -7.77026873,   2.48655968,  -7.47284703,   2.13218137,\n",
       "        -7.02336825,   1.67005011,   1.44796727,   1.35643839,\n",
       "         1.07142969,  -6.30483528,  -6.20511105,  -5.98635144,\n",
       "        -5.65992255,  -5.45957711,  -5.16306042,   0.66643365,\n",
       "         0.47961275,   0.19084506,   0.11930001,  -4.53287818,\n",
       "        -4.21821482,  -4.13147259,  -3.99856139,  -3.69264844,\n",
       "        -3.67534209,  -0.4762722 ,  -0.5770899 ,  -3.26929277,\n",
       "        -3.10591501,  -0.88819153,  -0.99102977,  -1.20641733,\n",
       "        -1.37876187,  -1.46885159,  -1.58105673,  -1.68768508,\n",
       "        -1.90764047,  -2.02032317,  -2.7355289 ,  -2.62475786,\n",
       "        -2.28302096,  -2.37600887,  -2.40616071])"
      ]
     },
     "execution_count": 145,
     "metadata": {},
     "output_type": "execute_result"
    }
   ],
   "source": [
    "values"
   ]
  },
  {
   "cell_type": "code",
   "execution_count": 146,
   "metadata": {},
   "outputs": [
    {
     "data": {
      "text/plain": [
       "(63, 63)"
      ]
     },
     "execution_count": 146,
     "metadata": {},
     "output_type": "execute_result"
    }
   ],
   "source": [
    "vectors.shape"
   ]
  },
  {
   "cell_type": "code",
   "execution_count": 68,
   "metadata": {},
   "outputs": [],
   "source": [
    "def verif_triangle(A):\n",
    "    for i in range(n):\n",
    "        for j in range(n):\n",
    "            for k in range(n):\n",
    "                if A[i,j] > A[i,k] + A[k,j]:\n",
    "                    print(i,j,k)\n",
    "                    return False\n",
    "    return True"
   ]
  },
  {
   "cell_type": "code",
   "execution_count": 120,
   "metadata": {},
   "outputs": [],
   "source": [
    "def turn_triangle(A):\n",
    "    B = A.copy()\n",
    "    for i in range(n-1):\n",
    "        for j in range(i+1,n):\n",
    "            for k in range(n):\n",
    "                if B[i,j] > B[i,k] + B[k,j]:\n",
    "                    B[i,j] = B[i,k] + B[k,j]\n",
    "                    B[j,i] = B[i,j]\n",
    "    return B"
   ]
  },
  {
   "cell_type": "code",
   "execution_count": 121,
   "metadata": {},
   "outputs": [
    {
     "name": "stdout",
     "output_type": "stream",
     "text": [
      "0 1 33\n"
     ]
    },
    {
     "data": {
      "text/plain": [
       "False"
      ]
     },
     "execution_count": 121,
     "metadata": {},
     "output_type": "execute_result"
    }
   ],
   "source": [
    "D = get_pre_distance_matrice(n,dico_interval)\n",
    "D_triangle = turn_triangle(D)\n",
    "verif_triangle(D_triangle)"
   ]
  },
  {
   "cell_type": "code",
   "execution_count": 124,
   "metadata": {},
   "outputs": [
    {
     "data": {
      "text/plain": [
       "9.94393915709487"
      ]
     },
     "execution_count": 124,
     "metadata": {},
     "output_type": "execute_result"
    }
   ],
   "source": [
    "D[1,33]"
   ]
  },
  {
   "cell_type": "code",
   "execution_count": 126,
   "metadata": {},
   "outputs": [
    {
     "data": {
      "text/plain": [
       "1.550740979008212"
      ]
     },
     "execution_count": 126,
     "metadata": {},
     "output_type": "execute_result"
    }
   ],
   "source": [
    "D_triangle[0,1]"
   ]
  },
  {
   "cell_type": "code",
   "execution_count": 118,
   "metadata": {},
   "outputs": [
    {
     "data": {
      "text/plain": [
       "1.00920678888092"
      ]
     },
     "execution_count": 118,
     "metadata": {},
     "output_type": "execute_result"
    }
   ],
   "source": [
    "D_triangle[0,3]"
   ]
  },
  {
   "cell_type": "code",
   "execution_count": 79,
   "metadata": {},
   "outputs": [
    {
     "data": {
      "text/plain": [
       "False"
      ]
     },
     "execution_count": 79,
     "metadata": {},
     "output_type": "execute_result"
    }
   ],
   "source": [
    "def column_metrization(dico_interval):\n",
    "    lower = np.zeros((n,n))\n",
    "    upper = np.zeros((n,n))\n",
    "    for i in range(n):\n",
    "        for j in range(n):\n",
    "            if i!=j:\n",
    "                low = G.get_edge_data(i,j)[\"mini\"]\n",
    "                up = G.get_edge_data(i,j)[\"maxi\"]\n",
    "                lower[i,j] = low\n",
    "                upper[i,j] = up\n",
    "        n = A.shape[0]\n",
    "    order = np.random.choice([i for i in range(n)],size=n,replace=False)\n",
    "    for j in range(n-3):\n",
    "        t = order[j]\n",
    "        S = np.random.choice([order[j:]],size=n-j-2,replace=False)\n",
    "        for i in range(n-j-2):\n",
    "            s = S[i]\n",
    "            a = np.random.random()\n",
    "            dist = a * low[s,t] + (1-a)*dist[s,t][\"maxi\"]\n",
    "            lower[s,t] = dist\n",
    "            lower[t,s]  = dist\n",
    "            upper[s,t] = dist\n",
    "            upper[t,s] = dist\n",
    "            ensemble = list()\n",
    "            lower,upper = smooth_entry(upper,lower,S[]) \n",
    "\n"
   ]
  },
  {
   "cell_type": "code",
   "execution_count": 90,
   "metadata": {},
   "outputs": [],
   "source": [
    "order = np.random.choice([i for i in range(n)],size=n,replace=False)\n",
    "j = 0\n",
    "t = order[j]\n",
    "S = np.random.choice(order[j:],size=n-j-1,replace=False)"
   ]
  },
  {
   "cell_type": "code",
   "execution_count": 92,
   "metadata": {},
   "outputs": [
    {
     "data": {
      "text/plain": [
       "(62,)"
      ]
     },
     "execution_count": 92,
     "metadata": {},
     "output_type": "execute_result"
    }
   ],
   "source": [
    "S.shape"
   ]
  },
  {
   "cell_type": "code",
   "execution_count": null,
   "metadata": {},
   "outputs": [],
   "source": []
  },
  {
   "cell_type": "markdown",
   "metadata": {},
   "source": [
    "# DGSOL"
   ]
  },
  {
   "cell_type": "code",
   "execution_count": 12,
   "metadata": {},
   "outputs": [],
   "source": [
    "import scipy\n",
    "import torch"
   ]
  },
  {
   "cell_type": "code",
   "execution_count": 29,
   "metadata": {},
   "outputs": [],
   "source": [
    "def h(dist,low,up):\n",
    "    return torch.min(torch.tensor([0,(dist**2 - low**2)/low**2]))**2 + torch.max(torch.tensor([0,(dist**2 - up**2)/up**2]))**2\n",
    "\n",
    "def cost(X,dico_interval):\n",
    "    cout = 0\n",
    "    for (i,j),(low,up) in dico_interval.items():\n",
    "        dist = np.linalg.norm(X[i] - X[j])\n",
    "        cout += h(dist,low,up)\n",
    "    return cout"
   ]
  },
  {
   "cell_type": "code",
   "execution_count": 30,
   "metadata": {},
   "outputs": [],
   "source": [
    "def integrande(s,l,dist,low,up):\n",
    "    return (dist+l*s)*h(dist+l*s,low,up)*np.exp(-0.5*s**2)/(dist*np.sqrt(2*np.pi))\n",
    "def gaussian_transform(l,X,dico_interval):\n",
    "    func = 0\n",
    "    print(\"transform\")\n",
    "    for (i,j),(low,up) in dico_interval.items():\n",
    "        dist = np.linalg.norm(X[i] - X[j])\n",
    "        func += scipy.integrate.quad(integrande,-20,20,args=(l,dist,low,up))[0]\n",
    "    return func\n"
   ]
  },
  {
   "cell_type": "code",
   "execution_count": 33,
   "metadata": {},
   "outputs": [],
   "source": [
    "def gauss_approx(l,q,X,dico_interval):\n",
    "    s,w= np.polynomial.hermite.hermgauss(q)\n",
    "    func = 0\n",
    "    for (i,j),(low,up) in dico_interval.items():\n",
    "        dist = torch.sqrt(torch.sum((X[i] - X[j])**2))\n",
    "        sub_func = 0\n",
    "        for k in range(q):\n",
    "            wk = w[k]\n",
    "            sk = s[k]\n",
    "            sub_func += torch.tensor(wk)*(dist+torch.tensor(l*sk))*h(dist+torch.tensor(l*sk),low,up)\n",
    "        func += sub_func/dist\n",
    "    return func"
   ]
  },
  {
   "cell_type": "code",
   "execution_count": 91,
   "metadata": {},
   "outputs": [],
   "source": [
    "X = torch.rand((n,3),requires_grad=True)\n",
    "X_origin = X.clone()\n",
    "count = 0\n",
    "origin = gauss_approx(lambda0,10,X,dico_interval)\n",
    "alpha = 0.01\n",
    "while count <100:\n",
    "    loss = gauss_approx(lambda0,10,X,dico_interval)\n",
    "    loss.backward()\n",
    "    X.data = X.data + alpha*X.grad.data\n",
    "    X.grad.zero_()\n",
    "    count += 1"
   ]
  },
  {
   "cell_type": "code",
   "execution_count": 90,
   "metadata": {},
   "outputs": [
    {
     "data": {
      "text/plain": [
       "tensor(225.5639, dtype=torch.float64, grad_fn=<AddBackward0>)"
      ]
     },
     "execution_count": 90,
     "metadata": {},
     "output_type": "execute_result"
    }
   ],
   "source": [
    "origin"
   ]
  },
  {
   "cell_type": "code",
   "execution_count": 79,
   "metadata": {},
   "outputs": [
    {
     "ename": "AttributeError",
     "evalue": "'NoneType' object has no attribute 'zero_'",
     "output_type": "error",
     "traceback": [
      "\u001b[1;31m---------------------------------------------------------------------------\u001b[0m",
      "\u001b[1;31mAttributeError\u001b[0m                            Traceback (most recent call last)",
      "\u001b[1;32mc:\\Users\\thoma\\ENSTA\\IA302\\LSbuild\\simulated_annealing.ipynb Cell 166\u001b[0m line \u001b[0;36m2\n\u001b[0;32m      <a href='vscode-notebook-cell:/c%3A/Users/thoma/ENSTA/IA302/LSbuild/simulated_annealing.ipynb#Y366sZmlsZQ%3D%3D?line=0'>1</a>\u001b[0m X \u001b[39m=\u001b[39m torch\u001b[39m.\u001b[39mrand((n,\u001b[39m3\u001b[39m),requires_grad\u001b[39m=\u001b[39m\u001b[39mTrue\u001b[39;00m)\n\u001b[1;32m----> <a href='vscode-notebook-cell:/c%3A/Users/thoma/ENSTA/IA302/LSbuild/simulated_annealing.ipynb#Y366sZmlsZQ%3D%3D?line=1'>2</a>\u001b[0m X\u001b[39m.\u001b[39;49mgrad\u001b[39m.\u001b[39;49mzero_()\n\u001b[0;32m      <a href='vscode-notebook-cell:/c%3A/Users/thoma/ENSTA/IA302/LSbuild/simulated_annealing.ipynb#Y366sZmlsZQ%3D%3D?line=2'>3</a>\u001b[0m X_origin \u001b[39m=\u001b[39m X\u001b[39m.\u001b[39mclone()\n\u001b[0;32m      <a href='vscode-notebook-cell:/c%3A/Users/thoma/ENSTA/IA302/LSbuild/simulated_annealing.ipynb#Y366sZmlsZQ%3D%3D?line=3'>4</a>\u001b[0m count \u001b[39m=\u001b[39m \u001b[39m0\u001b[39m\n",
      "\u001b[1;31mAttributeError\u001b[0m: 'NoneType' object has no attribute 'zero_'"
     ]
    }
   ],
   "source": [
    "X = torch.rand((n,3),requires_grad=True)\n",
    "X.grad.zero_()\n",
    "X_origin = X.clone()\n",
    "count = 0\n",
    "origin = gauss_approx(lambda0,10,X,dico_interval)\n",
    "alpha = 0.001\n",
    "loss = gauss_approx(lambda0,10,X,dico_interval)\n",
    "loss.backward()\n",
    "X.data = X.data + alpha*X.grad.data\n"
   ]
  },
  {
   "cell_type": "code",
   "execution_count": 80,
   "metadata": {},
   "outputs": [],
   "source": []
  },
  {
   "cell_type": "code",
   "execution_count": 86,
   "metadata": {},
   "outputs": [
    {
     "name": "stdout",
     "output_type": "stream",
     "text": [
      "tensor(223.7627, dtype=torch.float64, grad_fn=<AddBackward0>)\n"
     ]
    },
    {
     "data": {
      "text/plain": [
       "tensor(222.2760, dtype=torch.float64, grad_fn=<AddBackward0>)"
      ]
     },
     "execution_count": 86,
     "metadata": {},
     "output_type": "execute_result"
    }
   ],
   "source": [
    "X = torch.rand((n,3),requires_grad=True)\n",
    "loss = gauss_approx(lambda0,10,X,dico_interval)\n",
    "print(loss)\n",
    "loss.backward()\n",
    "gauss_approx(lambda0,10,X+0.01*X.grad.data,dico_interval)"
   ]
  },
  {
   "cell_type": "code",
   "execution_count": 84,
   "metadata": {},
   "outputs": [
    {
     "data": {
      "text/plain": [
       "tensor(225.9898, dtype=torch.float64, grad_fn=<AddBackward0>)"
      ]
     },
     "execution_count": 84,
     "metadata": {},
     "output_type": "execute_result"
    }
   ],
   "source": [
    "loss"
   ]
  },
  {
   "cell_type": "code",
   "execution_count": 75,
   "metadata": {},
   "outputs": [
    {
     "data": {
      "text/plain": [
       "tensor(224.9625, dtype=torch.float64, grad_fn=<AddBackward0>)"
      ]
     },
     "execution_count": 75,
     "metadata": {},
     "output_type": "execute_result"
    }
   ],
   "source": [
    "origin"
   ]
  },
  {
   "cell_type": "code",
   "execution_count": 76,
   "metadata": {},
   "outputs": [
    {
     "data": {
      "text/plain": [
       "tensor(224.8413, dtype=torch.float64, grad_fn=<AddBackward0>)"
      ]
     },
     "execution_count": 76,
     "metadata": {},
     "output_type": "execute_result"
    }
   ],
   "source": [
    "gauss_approx(lambda0,10,X,dico_interval)"
   ]
  },
  {
   "cell_type": "code",
   "execution_count": 9,
   "metadata": {},
   "outputs": [],
   "source": [
    "def to_min(x,l,dico_interval):\n",
    "    X = x.reshape((n,3))\n",
    "    return gaussian_transform(l,X,dico_interval)"
   ]
  },
  {
   "cell_type": "code",
   "execution_count": 10,
   "metadata": {},
   "outputs": [],
   "source": [
    "def get_l(l0,k,p):\n",
    "    return l0*(1-k/p)\n",
    "def get_lij(low,up):\n",
    "    rho = low/up\n",
    "    return up*(rho/np.sqrt(5) + np.sqrt(2)*(1-rho))\n",
    "def choose_lo(dico_interval):\n",
    "    array = []\n",
    "    for (i,j),(low,up) in dico_interval.items():\n",
    "        array.append(get_lij(low,up))\n",
    "    return np.median(array)"
   ]
  },
  {
   "cell_type": "code",
   "execution_count": 11,
   "metadata": {},
   "outputs": [
    {
     "name": "stdout",
     "output_type": "stream",
     "text": [
      "0\n",
      "transform\n",
      "transform\n",
      "transform\n",
      "transform\n",
      "transform\n",
      "transform\n",
      "transform\n",
      "transform\n",
      "transform\n",
      "transform\n",
      "transform\n",
      "transform\n",
      "transform\n",
      "transform\n",
      "transform\n",
      "transform\n",
      "transform\n",
      "transform\n",
      "transform\n",
      "transform\n",
      "transform\n",
      "transform\n",
      "transform\n",
      "transform\n",
      "transform\n",
      "transform\n",
      "transform\n",
      "transform\n",
      "transform\n",
      "transform\n",
      "transform\n",
      "transform\n",
      "transform\n",
      "transform\n",
      "transform\n",
      "transform\n",
      "transform\n",
      "transform\n",
      "transform\n",
      "transform\n",
      "transform\n"
     ]
    },
    {
     "ename": "KeyboardInterrupt",
     "evalue": "",
     "output_type": "error",
     "traceback": [
      "\u001b[1;31m---------------------------------------------------------------------------\u001b[0m",
      "\u001b[1;31mKeyboardInterrupt\u001b[0m                         Traceback (most recent call last)",
      "\u001b[1;32mc:\\Users\\thoma\\ENSTA\\IA302\\LSbuild\\simulated_annealing.ipynb Cell 167\u001b[0m line \u001b[0;36m8\n\u001b[0;32m      <a href='vscode-notebook-cell:/c%3A/Users/thoma/ENSTA/IA302/LSbuild/simulated_annealing.ipynb#Y364sZmlsZQ%3D%3D?line=5'>6</a>\u001b[0m \u001b[39mprint\u001b[39m(k)\n\u001b[0;32m      <a href='vscode-notebook-cell:/c%3A/Users/thoma/ENSTA/IA302/LSbuild/simulated_annealing.ipynb#Y364sZmlsZQ%3D%3D?line=6'>7</a>\u001b[0m l \u001b[39m=\u001b[39m get_l(lambda0,k,p)\n\u001b[1;32m----> <a href='vscode-notebook-cell:/c%3A/Users/thoma/ENSTA/IA302/LSbuild/simulated_annealing.ipynb#Y364sZmlsZQ%3D%3D?line=7'>8</a>\u001b[0m X \u001b[39m=\u001b[39m minimize(to_min,X,args\u001b[39m=\u001b[39;49m(l,dico_interval),method\u001b[39m=\u001b[39;49m\u001b[39m'\u001b[39;49m\u001b[39mBFGS\u001b[39;49m\u001b[39m'\u001b[39;49m,options\u001b[39m=\u001b[39;49m{\u001b[39m\"\u001b[39;49m\u001b[39mmaxiter\u001b[39;49m\u001b[39m\"\u001b[39;49m : \u001b[39m10\u001b[39;49m})\u001b[39m.\u001b[39mx\n",
      "File \u001b[1;32mc:\\Users\\thoma\\.conda\\envs\\map588\\lib\\site-packages\\scipy\\optimize\\_minimize.py:705\u001b[0m, in \u001b[0;36mminimize\u001b[1;34m(fun, x0, args, method, jac, hess, hessp, bounds, constraints, tol, callback, options)\u001b[0m\n\u001b[0;32m    703\u001b[0m     res \u001b[39m=\u001b[39m _minimize_cg(fun, x0, args, jac, callback, \u001b[39m*\u001b[39m\u001b[39m*\u001b[39moptions)\n\u001b[0;32m    704\u001b[0m \u001b[39melif\u001b[39;00m meth \u001b[39m==\u001b[39m \u001b[39m'\u001b[39m\u001b[39mbfgs\u001b[39m\u001b[39m'\u001b[39m:\n\u001b[1;32m--> 705\u001b[0m     res \u001b[39m=\u001b[39m _minimize_bfgs(fun, x0, args, jac, callback, \u001b[39m*\u001b[39m\u001b[39m*\u001b[39moptions)\n\u001b[0;32m    706\u001b[0m \u001b[39melif\u001b[39;00m meth \u001b[39m==\u001b[39m \u001b[39m'\u001b[39m\u001b[39mnewton-cg\u001b[39m\u001b[39m'\u001b[39m:\n\u001b[0;32m    707\u001b[0m     res \u001b[39m=\u001b[39m _minimize_newtoncg(fun, x0, args, jac, hess, hessp, callback,\n\u001b[0;32m    708\u001b[0m                              \u001b[39m*\u001b[39m\u001b[39m*\u001b[39moptions)\n",
      "File \u001b[1;32mc:\\Users\\thoma\\.conda\\envs\\map588\\lib\\site-packages\\scipy\\optimize\\_optimize.py:1419\u001b[0m, in \u001b[0;36m_minimize_bfgs\u001b[1;34m(fun, x0, args, jac, callback, gtol, norm, eps, maxiter, disp, return_all, finite_diff_rel_step, xrtol, **unknown_options)\u001b[0m\n\u001b[0;32m   1416\u001b[0m \u001b[39mif\u001b[39;00m maxiter \u001b[39mis\u001b[39;00m \u001b[39mNone\u001b[39;00m:\n\u001b[0;32m   1417\u001b[0m     maxiter \u001b[39m=\u001b[39m \u001b[39mlen\u001b[39m(x0) \u001b[39m*\u001b[39m \u001b[39m200\u001b[39m\n\u001b[1;32m-> 1419\u001b[0m sf \u001b[39m=\u001b[39m _prepare_scalar_function(fun, x0, jac, args\u001b[39m=\u001b[39;49margs, epsilon\u001b[39m=\u001b[39;49meps,\n\u001b[0;32m   1420\u001b[0m                               finite_diff_rel_step\u001b[39m=\u001b[39;49mfinite_diff_rel_step)\n\u001b[0;32m   1422\u001b[0m f \u001b[39m=\u001b[39m sf\u001b[39m.\u001b[39mfun\n\u001b[0;32m   1423\u001b[0m myfprime \u001b[39m=\u001b[39m sf\u001b[39m.\u001b[39mgrad\n",
      "File \u001b[1;32mc:\\Users\\thoma\\.conda\\envs\\map588\\lib\\site-packages\\scipy\\optimize\\_optimize.py:383\u001b[0m, in \u001b[0;36m_prepare_scalar_function\u001b[1;34m(fun, x0, jac, args, bounds, epsilon, finite_diff_rel_step, hess)\u001b[0m\n\u001b[0;32m    379\u001b[0m     bounds \u001b[39m=\u001b[39m (\u001b[39m-\u001b[39mnp\u001b[39m.\u001b[39minf, np\u001b[39m.\u001b[39minf)\n\u001b[0;32m    381\u001b[0m \u001b[39m# ScalarFunction caches. Reuse of fun(x) during grad\u001b[39;00m\n\u001b[0;32m    382\u001b[0m \u001b[39m# calculation reduces overall function evaluations.\u001b[39;00m\n\u001b[1;32m--> 383\u001b[0m sf \u001b[39m=\u001b[39m ScalarFunction(fun, x0, args, grad, hess,\n\u001b[0;32m    384\u001b[0m                     finite_diff_rel_step, bounds, epsilon\u001b[39m=\u001b[39;49mepsilon)\n\u001b[0;32m    386\u001b[0m \u001b[39mreturn\u001b[39;00m sf\n",
      "File \u001b[1;32mc:\\Users\\thoma\\.conda\\envs\\map588\\lib\\site-packages\\scipy\\optimize\\_differentiable_functions.py:177\u001b[0m, in \u001b[0;36mScalarFunction.__init__\u001b[1;34m(self, fun, x0, args, grad, hess, finite_diff_rel_step, finite_diff_bounds, epsilon)\u001b[0m\n\u001b[0;32m    173\u001b[0m         \u001b[39mself\u001b[39m\u001b[39m.\u001b[39mg \u001b[39m=\u001b[39m approx_derivative(fun_wrapped, \u001b[39mself\u001b[39m\u001b[39m.\u001b[39mx, f0\u001b[39m=\u001b[39m\u001b[39mself\u001b[39m\u001b[39m.\u001b[39mf,\n\u001b[0;32m    174\u001b[0m                                    \u001b[39m*\u001b[39m\u001b[39m*\u001b[39mfinite_diff_options)\n\u001b[0;32m    176\u001b[0m \u001b[39mself\u001b[39m\u001b[39m.\u001b[39m_update_grad_impl \u001b[39m=\u001b[39m update_grad\n\u001b[1;32m--> 177\u001b[0m \u001b[39mself\u001b[39;49m\u001b[39m.\u001b[39;49m_update_grad()\n\u001b[0;32m    179\u001b[0m \u001b[39m# Hessian Evaluation\u001b[39;00m\n\u001b[0;32m    180\u001b[0m \u001b[39mif\u001b[39;00m callable(hess):\n",
      "File \u001b[1;32mc:\\Users\\thoma\\.conda\\envs\\map588\\lib\\site-packages\\scipy\\optimize\\_differentiable_functions.py:256\u001b[0m, in \u001b[0;36mScalarFunction._update_grad\u001b[1;34m(self)\u001b[0m\n\u001b[0;32m    254\u001b[0m \u001b[39mdef\u001b[39;00m \u001b[39m_update_grad\u001b[39m(\u001b[39mself\u001b[39m):\n\u001b[0;32m    255\u001b[0m     \u001b[39mif\u001b[39;00m \u001b[39mnot\u001b[39;00m \u001b[39mself\u001b[39m\u001b[39m.\u001b[39mg_updated:\n\u001b[1;32m--> 256\u001b[0m         \u001b[39mself\u001b[39;49m\u001b[39m.\u001b[39;49m_update_grad_impl()\n\u001b[0;32m    257\u001b[0m         \u001b[39mself\u001b[39m\u001b[39m.\u001b[39mg_updated \u001b[39m=\u001b[39m \u001b[39mTrue\u001b[39;00m\n",
      "File \u001b[1;32mc:\\Users\\thoma\\.conda\\envs\\map588\\lib\\site-packages\\scipy\\optimize\\_differentiable_functions.py:173\u001b[0m, in \u001b[0;36mScalarFunction.__init__.<locals>.update_grad\u001b[1;34m()\u001b[0m\n\u001b[0;32m    171\u001b[0m \u001b[39mself\u001b[39m\u001b[39m.\u001b[39m_update_fun()\n\u001b[0;32m    172\u001b[0m \u001b[39mself\u001b[39m\u001b[39m.\u001b[39mngev \u001b[39m+\u001b[39m\u001b[39m=\u001b[39m \u001b[39m1\u001b[39m\n\u001b[1;32m--> 173\u001b[0m \u001b[39mself\u001b[39m\u001b[39m.\u001b[39mg \u001b[39m=\u001b[39m approx_derivative(fun_wrapped, \u001b[39mself\u001b[39m\u001b[39m.\u001b[39mx, f0\u001b[39m=\u001b[39m\u001b[39mself\u001b[39m\u001b[39m.\u001b[39mf,\n\u001b[0;32m    174\u001b[0m                            \u001b[39m*\u001b[39m\u001b[39m*\u001b[39mfinite_diff_options)\n",
      "File \u001b[1;32mc:\\Users\\thoma\\.conda\\envs\\map588\\lib\\site-packages\\scipy\\optimize\\_numdiff.py:505\u001b[0m, in \u001b[0;36mapprox_derivative\u001b[1;34m(fun, x0, method, rel_step, abs_step, f0, bounds, sparsity, as_linear_operator, args, kwargs)\u001b[0m\n\u001b[0;32m    502\u001b[0m     use_one_sided \u001b[39m=\u001b[39m \u001b[39mFalse\u001b[39;00m\n\u001b[0;32m    504\u001b[0m \u001b[39mif\u001b[39;00m sparsity \u001b[39mis\u001b[39;00m \u001b[39mNone\u001b[39;00m:\n\u001b[1;32m--> 505\u001b[0m     \u001b[39mreturn\u001b[39;00m _dense_difference(fun_wrapped, x0, f0, h,\n\u001b[0;32m    506\u001b[0m                              use_one_sided, method)\n\u001b[0;32m    507\u001b[0m \u001b[39melse\u001b[39;00m:\n\u001b[0;32m    508\u001b[0m     \u001b[39mif\u001b[39;00m \u001b[39mnot\u001b[39;00m issparse(sparsity) \u001b[39mand\u001b[39;00m \u001b[39mlen\u001b[39m(sparsity) \u001b[39m==\u001b[39m \u001b[39m2\u001b[39m:\n",
      "File \u001b[1;32mc:\\Users\\thoma\\.conda\\envs\\map588\\lib\\site-packages\\scipy\\optimize\\_numdiff.py:576\u001b[0m, in \u001b[0;36m_dense_difference\u001b[1;34m(fun, x0, f0, h, use_one_sided, method)\u001b[0m\n\u001b[0;32m    574\u001b[0m     x \u001b[39m=\u001b[39m x0 \u001b[39m+\u001b[39m h_vecs[i]\n\u001b[0;32m    575\u001b[0m     dx \u001b[39m=\u001b[39m x[i] \u001b[39m-\u001b[39m x0[i]  \u001b[39m# Recompute dx as exactly representable number.\u001b[39;00m\n\u001b[1;32m--> 576\u001b[0m     df \u001b[39m=\u001b[39m fun(x) \u001b[39m-\u001b[39m f0\n\u001b[0;32m    577\u001b[0m \u001b[39melif\u001b[39;00m method \u001b[39m==\u001b[39m \u001b[39m'\u001b[39m\u001b[39m3-point\u001b[39m\u001b[39m'\u001b[39m \u001b[39mand\u001b[39;00m use_one_sided[i]:\n\u001b[0;32m    578\u001b[0m     x1 \u001b[39m=\u001b[39m x0 \u001b[39m+\u001b[39m h_vecs[i]\n",
      "File \u001b[1;32mc:\\Users\\thoma\\.conda\\envs\\map588\\lib\\site-packages\\scipy\\optimize\\_numdiff.py:456\u001b[0m, in \u001b[0;36mapprox_derivative.<locals>.fun_wrapped\u001b[1;34m(x)\u001b[0m\n\u001b[0;32m    455\u001b[0m \u001b[39mdef\u001b[39;00m \u001b[39mfun_wrapped\u001b[39m(x):\n\u001b[1;32m--> 456\u001b[0m     f \u001b[39m=\u001b[39m np\u001b[39m.\u001b[39matleast_1d(fun(x, \u001b[39m*\u001b[39margs, \u001b[39m*\u001b[39m\u001b[39m*\u001b[39mkwargs))\n\u001b[0;32m    457\u001b[0m     \u001b[39mif\u001b[39;00m f\u001b[39m.\u001b[39mndim \u001b[39m>\u001b[39m \u001b[39m1\u001b[39m:\n\u001b[0;32m    458\u001b[0m         \u001b[39mraise\u001b[39;00m \u001b[39mRuntimeError\u001b[39;00m(\u001b[39m\"\u001b[39m\u001b[39m`fun` return value has \u001b[39m\u001b[39m\"\u001b[39m\n\u001b[0;32m    459\u001b[0m                            \u001b[39m\"\u001b[39m\u001b[39mmore than 1 dimension.\u001b[39m\u001b[39m\"\u001b[39m)\n",
      "File \u001b[1;32mc:\\Users\\thoma\\.conda\\envs\\map588\\lib\\site-packages\\scipy\\optimize\\_differentiable_functions.py:137\u001b[0m, in \u001b[0;36mScalarFunction.__init__.<locals>.fun_wrapped\u001b[1;34m(x)\u001b[0m\n\u001b[0;32m    133\u001b[0m \u001b[39mself\u001b[39m\u001b[39m.\u001b[39mnfev \u001b[39m+\u001b[39m\u001b[39m=\u001b[39m \u001b[39m1\u001b[39m\n\u001b[0;32m    134\u001b[0m \u001b[39m# Send a copy because the user may overwrite it.\u001b[39;00m\n\u001b[0;32m    135\u001b[0m \u001b[39m# Overwriting results in undefined behaviour because\u001b[39;00m\n\u001b[0;32m    136\u001b[0m \u001b[39m# fun(self.x) will change self.x, with the two no longer linked.\u001b[39;00m\n\u001b[1;32m--> 137\u001b[0m fx \u001b[39m=\u001b[39m fun(np\u001b[39m.\u001b[39;49mcopy(x), \u001b[39m*\u001b[39;49margs)\n\u001b[0;32m    138\u001b[0m \u001b[39m# Make sure the function returns a true scalar\u001b[39;00m\n\u001b[0;32m    139\u001b[0m \u001b[39mif\u001b[39;00m \u001b[39mnot\u001b[39;00m np\u001b[39m.\u001b[39misscalar(fx):\n",
      "\u001b[1;32mc:\\Users\\thoma\\ENSTA\\IA302\\LSbuild\\simulated_annealing.ipynb Cell 167\u001b[0m line \u001b[0;36m3\n\u001b[0;32m      <a href='vscode-notebook-cell:/c%3A/Users/thoma/ENSTA/IA302/LSbuild/simulated_annealing.ipynb#Y364sZmlsZQ%3D%3D?line=0'>1</a>\u001b[0m \u001b[39mdef\u001b[39;00m \u001b[39mto_min\u001b[39m(x,l,dico_interval):\n\u001b[0;32m      <a href='vscode-notebook-cell:/c%3A/Users/thoma/ENSTA/IA302/LSbuild/simulated_annealing.ipynb#Y364sZmlsZQ%3D%3D?line=1'>2</a>\u001b[0m     X \u001b[39m=\u001b[39m x\u001b[39m.\u001b[39mreshape((n,\u001b[39m3\u001b[39m))\n\u001b[1;32m----> <a href='vscode-notebook-cell:/c%3A/Users/thoma/ENSTA/IA302/LSbuild/simulated_annealing.ipynb#Y364sZmlsZQ%3D%3D?line=2'>3</a>\u001b[0m     \u001b[39mreturn\u001b[39;00m gaussian_transform(l,X,dico_interval)\n",
      "\u001b[1;32mc:\\Users\\thoma\\ENSTA\\IA302\\LSbuild\\simulated_annealing.ipynb Cell 167\u001b[0m line \u001b[0;36m8\n\u001b[0;32m      <a href='vscode-notebook-cell:/c%3A/Users/thoma/ENSTA/IA302/LSbuild/simulated_annealing.ipynb#Y364sZmlsZQ%3D%3D?line=5'>6</a>\u001b[0m \u001b[39mfor\u001b[39;00m (i,j),(low,up) \u001b[39min\u001b[39;00m dico_interval\u001b[39m.\u001b[39mitems():\n\u001b[0;32m      <a href='vscode-notebook-cell:/c%3A/Users/thoma/ENSTA/IA302/LSbuild/simulated_annealing.ipynb#Y364sZmlsZQ%3D%3D?line=6'>7</a>\u001b[0m     dist \u001b[39m=\u001b[39m np\u001b[39m.\u001b[39mlinalg\u001b[39m.\u001b[39mnorm(X[i] \u001b[39m-\u001b[39m X[j])\n\u001b[1;32m----> <a href='vscode-notebook-cell:/c%3A/Users/thoma/ENSTA/IA302/LSbuild/simulated_annealing.ipynb#Y364sZmlsZQ%3D%3D?line=7'>8</a>\u001b[0m     func \u001b[39m+\u001b[39m\u001b[39m=\u001b[39m scipy\u001b[39m.\u001b[39;49mintegrate\u001b[39m.\u001b[39;49mquad(integrande,\u001b[39m-\u001b[39;49m\u001b[39m20\u001b[39;49m,\u001b[39m20\u001b[39;49m,args\u001b[39m=\u001b[39;49m(l,dist,low,up))[\u001b[39m0\u001b[39m]\n\u001b[0;32m      <a href='vscode-notebook-cell:/c%3A/Users/thoma/ENSTA/IA302/LSbuild/simulated_annealing.ipynb#Y364sZmlsZQ%3D%3D?line=8'>9</a>\u001b[0m \u001b[39mreturn\u001b[39;00m func\n",
      "File \u001b[1;32mc:\\Users\\thoma\\.conda\\envs\\map588\\lib\\site-packages\\scipy\\integrate\\_quadpack_py.py:465\u001b[0m, in \u001b[0;36mquad\u001b[1;34m(func, a, b, args, full_output, epsabs, epsrel, limit, points, weight, wvar, wopts, maxp1, limlst, complex_func)\u001b[0m\n\u001b[0;32m    462\u001b[0m     \u001b[39mreturn\u001b[39;00m retval\n\u001b[0;32m    464\u001b[0m \u001b[39mif\u001b[39;00m weight \u001b[39mis\u001b[39;00m \u001b[39mNone\u001b[39;00m:\n\u001b[1;32m--> 465\u001b[0m     retval \u001b[39m=\u001b[39m _quad(func, a, b, args, full_output, epsabs, epsrel, limit,\n\u001b[0;32m    466\u001b[0m                    points)\n\u001b[0;32m    467\u001b[0m \u001b[39melse\u001b[39;00m:\n\u001b[0;32m    468\u001b[0m     \u001b[39mif\u001b[39;00m points \u001b[39mis\u001b[39;00m \u001b[39mnot\u001b[39;00m \u001b[39mNone\u001b[39;00m:\n",
      "File \u001b[1;32mc:\\Users\\thoma\\.conda\\envs\\map588\\lib\\site-packages\\scipy\\integrate\\_quadpack_py.py:577\u001b[0m, in \u001b[0;36m_quad\u001b[1;34m(func, a, b, args, full_output, epsabs, epsrel, limit, points)\u001b[0m\n\u001b[0;32m    575\u001b[0m \u001b[39mif\u001b[39;00m points \u001b[39mis\u001b[39;00m \u001b[39mNone\u001b[39;00m:\n\u001b[0;32m    576\u001b[0m     \u001b[39mif\u001b[39;00m infbounds \u001b[39m==\u001b[39m \u001b[39m0\u001b[39m:\n\u001b[1;32m--> 577\u001b[0m         \u001b[39mreturn\u001b[39;00m _quadpack\u001b[39m.\u001b[39;49m_qagse(func,a,b,args,full_output,epsabs,epsrel,limit)\n\u001b[0;32m    578\u001b[0m     \u001b[39melse\u001b[39;00m:\n\u001b[0;32m    579\u001b[0m         \u001b[39mreturn\u001b[39;00m _quadpack\u001b[39m.\u001b[39m_qagie(func,bound,infbounds,args,full_output,epsabs,epsrel,limit)\n",
      "\u001b[1;32mc:\\Users\\thoma\\ENSTA\\IA302\\LSbuild\\simulated_annealing.ipynb Cell 167\u001b[0m line \u001b[0;36m2\n\u001b[0;32m      <a href='vscode-notebook-cell:/c%3A/Users/thoma/ENSTA/IA302/LSbuild/simulated_annealing.ipynb#Y364sZmlsZQ%3D%3D?line=0'>1</a>\u001b[0m \u001b[39mdef\u001b[39;00m \u001b[39mintegrande\u001b[39m(s,l,dist,low,up):\n\u001b[1;32m----> <a href='vscode-notebook-cell:/c%3A/Users/thoma/ENSTA/IA302/LSbuild/simulated_annealing.ipynb#Y364sZmlsZQ%3D%3D?line=1'>2</a>\u001b[0m     \u001b[39mreturn\u001b[39;00m (dist\u001b[39m+\u001b[39ml\u001b[39m*\u001b[39ms)\u001b[39m*\u001b[39mh(dist\u001b[39m+\u001b[39;49ml\u001b[39m*\u001b[39;49ms,low,up)\u001b[39m*\u001b[39mnp\u001b[39m.\u001b[39mexp(\u001b[39m-\u001b[39m\u001b[39m0.5\u001b[39m\u001b[39m*\u001b[39ms\u001b[39m*\u001b[39m\u001b[39m*\u001b[39m\u001b[39m2\u001b[39m)\u001b[39m/\u001b[39m(dist\u001b[39m*\u001b[39mnp\u001b[39m.\u001b[39msqrt(\u001b[39m2\u001b[39m\u001b[39m*\u001b[39mnp\u001b[39m.\u001b[39mpi))\n",
      "\u001b[1;32mc:\\Users\\thoma\\ENSTA\\IA302\\LSbuild\\simulated_annealing.ipynb Cell 167\u001b[0m line \u001b[0;36m2\n\u001b[0;32m      <a href='vscode-notebook-cell:/c%3A/Users/thoma/ENSTA/IA302/LSbuild/simulated_annealing.ipynb#Y364sZmlsZQ%3D%3D?line=0'>1</a>\u001b[0m \u001b[39mdef\u001b[39;00m \u001b[39mh\u001b[39m(dist,low,up):\n\u001b[1;32m----> <a href='vscode-notebook-cell:/c%3A/Users/thoma/ENSTA/IA302/LSbuild/simulated_annealing.ipynb#Y364sZmlsZQ%3D%3D?line=1'>2</a>\u001b[0m     \u001b[39mreturn\u001b[39;00m np\u001b[39m.\u001b[39;49mmin([\u001b[39m0\u001b[39;49m,(dist\u001b[39m*\u001b[39;49m\u001b[39m*\u001b[39;49m\u001b[39m2\u001b[39;49m \u001b[39m-\u001b[39;49m low\u001b[39m*\u001b[39;49m\u001b[39m*\u001b[39;49m\u001b[39m2\u001b[39;49m)\u001b[39m/\u001b[39;49mlow\u001b[39m*\u001b[39;49m\u001b[39m*\u001b[39;49m\u001b[39m2\u001b[39;49m])\u001b[39m*\u001b[39m\u001b[39m*\u001b[39m\u001b[39m2\u001b[39m \u001b[39m+\u001b[39m np\u001b[39m.\u001b[39mmax([\u001b[39m0\u001b[39m,(dist\u001b[39m*\u001b[39m\u001b[39m*\u001b[39m\u001b[39m2\u001b[39m \u001b[39m-\u001b[39m up\u001b[39m*\u001b[39m\u001b[39m*\u001b[39m\u001b[39m2\u001b[39m)\u001b[39m/\u001b[39mup\u001b[39m*\u001b[39m\u001b[39m*\u001b[39m\u001b[39m2\u001b[39m])\u001b[39m*\u001b[39m\u001b[39m*\u001b[39m\u001b[39m2\u001b[39m\n",
      "File \u001b[1;32m<__array_function__ internals>:180\u001b[0m, in \u001b[0;36mamin\u001b[1;34m(*args, **kwargs)\u001b[0m\n",
      "File \u001b[1;32mc:\\Users\\thoma\\.conda\\envs\\map588\\lib\\site-packages\\numpy\\core\\fromnumeric.py:2918\u001b[0m, in \u001b[0;36mamin\u001b[1;34m(a, axis, out, keepdims, initial, where)\u001b[0m\n\u001b[0;32m   2802\u001b[0m \u001b[39m@array_function_dispatch\u001b[39m(_amin_dispatcher)\n\u001b[0;32m   2803\u001b[0m \u001b[39mdef\u001b[39;00m \u001b[39mamin\u001b[39m(a, axis\u001b[39m=\u001b[39m\u001b[39mNone\u001b[39;00m, out\u001b[39m=\u001b[39m\u001b[39mNone\u001b[39;00m, keepdims\u001b[39m=\u001b[39mnp\u001b[39m.\u001b[39m_NoValue, initial\u001b[39m=\u001b[39mnp\u001b[39m.\u001b[39m_NoValue,\n\u001b[0;32m   2804\u001b[0m          where\u001b[39m=\u001b[39mnp\u001b[39m.\u001b[39m_NoValue):\n\u001b[0;32m   2805\u001b[0m \u001b[39m    \u001b[39m\u001b[39m\"\"\"\u001b[39;00m\n\u001b[0;32m   2806\u001b[0m \u001b[39m    Return the minimum of an array or minimum along an axis.\u001b[39;00m\n\u001b[0;32m   2807\u001b[0m \n\u001b[1;32m   (...)\u001b[0m\n\u001b[0;32m   2916\u001b[0m \u001b[39m    6\u001b[39;00m\n\u001b[0;32m   2917\u001b[0m \u001b[39m    \"\"\"\u001b[39;00m\n\u001b[1;32m-> 2918\u001b[0m     \u001b[39mreturn\u001b[39;00m _wrapreduction(a, np\u001b[39m.\u001b[39;49mminimum, \u001b[39m'\u001b[39;49m\u001b[39mmin\u001b[39;49m\u001b[39m'\u001b[39;49m, axis, \u001b[39mNone\u001b[39;49;00m, out,\n\u001b[0;32m   2919\u001b[0m                           keepdims\u001b[39m=\u001b[39;49mkeepdims, initial\u001b[39m=\u001b[39;49minitial, where\u001b[39m=\u001b[39;49mwhere)\n",
      "\u001b[1;31mKeyboardInterrupt\u001b[0m: "
     ]
    }
   ],
   "source": [
    "X = np.random.random(3*n)\n",
    "p = 20\n",
    "q=10\n",
    "lambda0 = choose_lo(dico_interval)\n",
    "for k in range(p):\n",
    "    print(k)\n",
    "    l = get_l(lambda0,k,p)\n",
    "    X = minimize(to_min,X,args=(l,dico_interval),method='BFGS',options={\"maxiter\" : 10}).x\n",
    "    \n"
   ]
  },
  {
   "cell_type": "code",
   "execution_count": null,
   "metadata": {},
   "outputs": [],
   "source": [
    "minimize(to_min,X,args=(l,q,dico_interval),method='BFGS',options={\"maxiter\" : 100}).x"
   ]
  },
  {
   "cell_type": "code",
   "execution_count": 246,
   "metadata": {},
   "outputs": [
    {
     "data": {
      "text/plain": [
       "236"
      ]
     },
     "execution_count": 246,
     "metadata": {},
     "output_type": "execute_result"
    }
   ],
   "source": [
    "len(dico_interval)"
   ]
  },
  {
   "cell_type": "code",
   "execution_count": 256,
   "metadata": {},
   "outputs": [
    {
     "data": {
      "text/plain": [
       "0"
      ]
     },
     "execution_count": 256,
     "metadata": {},
     "output_type": "execute_result"
    }
   ],
   "source": [
    "k"
   ]
  },
  {
   "cell_type": "code",
   "execution_count": null,
   "metadata": {},
   "outputs": [],
   "source": []
  }
 ],
 "metadata": {
  "kernelspec": {
   "display_name": "map588",
   "language": "python",
   "name": "python3"
  },
  "language_info": {
   "codemirror_mode": {
    "name": "ipython",
    "version": 3
   },
   "file_extension": ".py",
   "mimetype": "text/x-python",
   "name": "python",
   "nbconvert_exporter": "python",
   "pygments_lexer": "ipython3",
   "version": "3.9.16"
  }
 },
 "nbformat": 4,
 "nbformat_minor": 2
}
